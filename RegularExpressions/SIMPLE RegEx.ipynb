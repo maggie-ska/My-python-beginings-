{
 "cells": [
  {
   "cell_type": "code",
   "execution_count": 1,
   "metadata": {},
   "outputs": [
    {
     "data": {
      "text/plain": [
       "['rocket', 'can', 'explode', 'which', 'is', 'fun']"
      ]
     },
     "execution_count": 1,
     "metadata": {},
     "output_type": "execute_result"
    }
   ],
   "source": [
    "s1 = 'rocket\\'s can \"explode, which is fun.             [1234]     ...'\n",
    "\n",
    "import re\n",
    "\n",
    "# Replace 's and , and . with an empty string \"\"\n",
    "# ('s) <- the grouped sequence 's\n",
    "# \\. <- a single .\n",
    "# , is just a comma\n",
    "# (\\s*\\[\\d+\\]) <- zero or more whitespaces \\s* followed by the [ character\n",
    "# which contains 1 or more digits \\d+ followed back a ] character\n",
    "\n",
    "# \\\" is simply a \" but we need to escape it in the string\n",
    "\n",
    "# (\\s*\\.\\.\\.) <- zero or more spaces followed by ...\n",
    "\n",
    "pattern = \"('s)|\\.+|,|(\\s*\\[\\d+\\])|\\\"|(\\s*\\.\\.\\.)\"\n",
    "\n",
    "s2 = re.sub(pattern,\"\", s1)\n",
    "\n",
    "re.split(\" \",s2)\n"
   ]
  },
  {
   "cell_type": "code",
   "execution_count": 2,
   "metadata": {},
   "outputs": [
    {
     "name": "stdout",
     "output_type": "stream",
     "text": [
      "the rocket's can \"explode\", which is not fun for the owners. to be continued... [1234]\n",
      "['the', 'rocket', 'can', 'explode', 'which', 'is', 'not', 'fun', 'for', 'the', 'owners', 'to', 'be', 'continued']\n",
      "Number of words list in s2 is: 14\n"
     ]
    }
   ],
   "source": [
    "s1 = 'The rocket\\'s can \"explode\", which is not fun for the owners. To be continued... [1234]'\n",
    "\n",
    "s1= s1.lower()\n",
    "# Replace 's and , and . with an empty string \"\"\n",
    "# ('s) <- the grouped sequence 's\n",
    "# \\. <- a single .\n",
    "# , is just a comma\n",
    "# (\\s*\\[\\d+\\]) <- zero or more whitespaces \\s* followed by the [ character\n",
    "# which contains 1 or more digits \\d+ followed back a ] character\n",
    "\n",
    "# \\\" is simply a \" but we need to escape it in the string\n",
    "\n",
    "# (\\s*\\.\\.\\.) <- zero or more spaces followed by ...\n",
    "pattern = r\"('s)|\\.+|,|(\\s*\\[\\d+\\]\\s*)|\\\"|(\\s*\\.\\.\\.)\"\n",
    "\n",
    "s2 = re.sub(pattern,\"\", s1)\n",
    "\n",
    "print(s1)\n",
    "\n",
    "all_words = re.split(\" \", s2)\n",
    "\n",
    "print(all_words)\n",
    "\n",
    "print(f\"Number of words list in s2 is: {len(all_words)}\")"
   ]
  },
  {
   "cell_type": "code",
   "execution_count": 3,
   "metadata": {},
   "outputs": [
    {
     "name": "stdout",
     "output_type": "stream",
     "text": [
      "ourselves , hers , between , yourself , but , again , there , about , once , during , out , very , having , with , they , own , an , be , some , for , do , its , yours , such , into , of , most , itself , other , off , is , s , am , or , who , as , from , him , each , the , themselves , until , below , are , we , these , your , his , through , don , nor , me , were , her , more , himself , this , down , should , our , their , while , above , both , up , to , ours , had , she , all , no , when , at , any , before , them , same , and , been , have , in , will , on , does , yourselves , then , that , because , what , over , why , so , can , did , not , now , under , he , you , herself , has , just , where , too , only , myself , which , those , i , after , few , whom , t , being , if , theirs , my , against , a , by , doing , it , how , further , was , here , than , "
     ]
    }
   ],
   "source": [
    "stopwords = ['ourselves', 'hers', 'between', 'yourself', 'but', 'again', 'there', 'about', 'once', 'during', 'out', 'very', 'having', 'with', 'they', 'own', 'an', 'be', 'some', 'for', 'do', 'its', 'yours', 'such', 'into', 'of', 'most', 'itself', 'other', 'off', 'is', 's', 'am', 'or', 'who', 'as', 'from', 'him', 'each', 'the', 'themselves', 'until', 'below', 'are', 'we', 'these', 'your', 'his', 'through', 'don', 'nor', 'me', 'were', 'her', 'more', 'himself', 'this', 'down', 'should', 'our', 'their', 'while', 'above', 'both', 'up', 'to', 'ours', 'had', 'she', 'all', 'no', 'when', 'at', 'any', 'before', 'them', 'same', 'and', 'been', 'have', 'in', 'will', 'on', 'does', 'yourselves', 'then', 'that', 'because', 'what', 'over', 'why', 'so', 'can', 'did', 'not', 'now', 'under', 'he', 'you', 'herself', 'has', 'just', 'where', 'too', 'only', 'myself', 'which', 'those', 'i', 'after', 'few', 'whom', 't', 'being', 'if', 'theirs', 'my', 'against', 'a', 'by', 'doing', 'it', 'how', 'further', 'was', 'here', 'than']\n",
    "for word in stopwords:\n",
    "    print (word,end = ' , ')"
   ]
  },
  {
   "cell_type": "code",
   "execution_count": 13,
   "metadata": {},
   "outputs": [
    {
     "name": "stdout",
     "output_type": "stream",
     "text": [
      "5\n"
     ]
    },
    {
     "data": {
      "text/plain": [
       "['fun', 'rocket', 'continued', 'owners', 'explode']"
      ]
     },
     "execution_count": 13,
     "metadata": {},
     "output_type": "execute_result"
    }
   ],
   "source": [
    "# make the unique list of all the words in the text without the stopwords\n",
    "\n",
    "# to get unique words without duplicates i can chang the list to a set \n",
    "unique = list(set(exclude_stop_words))\n",
    "unique\n",
    "print(len(unique))\n",
    "#exclude_stopwords = []\n",
    "#for word in all_words:\n",
    "     #if word not in stopwords:\n",
    "            #exclude_stopwords.append(word) \n",
    "            \n",
    "\n",
    "exclude_stop_words = [ word for word in unique  if word not in stopwords]\n",
    "#uWords,count = np.unique(exclude_stop_words,return_counts = True)\n",
    "exclude_stop_words"
   ]
  },
  {
   "cell_type": "code",
   "execution_count": 17,
   "metadata": {},
   "outputs": [
    {
     "name": "stdout",
     "output_type": "stream",
     "text": [
      "continued : 1\n",
      "rocket : 1\n",
      "fun : 1\n",
      "owners : 1\n",
      "explode : 1\n"
     ]
    }
   ],
   "source": [
    "\n",
    "\n",
    "#OR USE UNIQUE FUNCTION IN NUMPY \n",
    "#import numpy as np \n",
    "\n",
    "#uWords,count = np.unique(exclude_stopwords,return_counts = True)\n",
    "\n",
    "for word,freq in zip(uWords,count):\n",
    "    print(f'{word} : {freq}')"
   ]
  },
  {
   "cell_type": "code",
   "execution_count": 16,
   "metadata": {},
   "outputs": [
    {
     "data": {
      "text/plain": [
       "{'continued', 'explode', 'fun', 'owners', 'rocket'}"
      ]
     },
     "execution_count": 16,
     "metadata": {},
     "output_type": "execute_result"
    }
   ],
   "source": [
    "#simple way:\n",
    "uWords =set(all_words) - set(stopwords)\n",
    "uWords"
   ]
  },
  {
   "cell_type": "code",
   "execution_count": 42,
   "metadata": {},
   "outputs": [
    {
     "name": "stdout",
     "output_type": "stream",
     "text": [
      "Word: continued      : occurs 1 times. Which is 7.14% \n",
      "Word: rocket         : occurs 1 times. Which is 7.14% \n",
      "Word: fun            : occurs 1 times. Which is 7.14% \n",
      "Word: owners         : occurs 1 times. Which is 7.14% \n",
      "Word: explode        : occurs 1 times. Which is 7.14% \n"
     ]
    }
   ],
   "source": [
    "# How often do the words/terms in the unique_stopwords_removed list occur in the whole text (all_words)?\n",
    "# Basically what percentage do the words 'continued', 'explode', 'fun', 'owners', 'rocket' each\n",
    "# occur in the text? \n",
    "\n",
    "# 100 total words and a particular word was present/occurs 4 times then (4/100)= 0.04 (or 4%)\n",
    "\n",
    "for word  in uWords:\n",
    "    occurences  = all_words.count(word)\n",
    "    print(f\"Word: {word:<15}: occurs {occurences} times. Which is {(occurences/len(all_words)):.2%} \")\n"
   ]
  },
  {
   "cell_type": "code",
   "execution_count": null,
   "metadata": {},
   "outputs": [],
   "source": []
  }
 ],
 "metadata": {
  "kernelspec": {
   "display_name": "Python 3",
   "language": "python",
   "name": "python3"
  },
  "language_info": {
   "codemirror_mode": {
    "name": "ipython",
    "version": 3
   },
   "file_extension": ".py",
   "mimetype": "text/x-python",
   "name": "python",
   "nbconvert_exporter": "python",
   "pygments_lexer": "ipython3",
   "version": "3.7.9"
  }
 },
 "nbformat": 4,
 "nbformat_minor": 4
}
