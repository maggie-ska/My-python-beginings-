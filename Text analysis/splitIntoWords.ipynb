{
 "cells": [
  {
   "cell_type": "code",
   "execution_count": 1,
   "metadata": {},
   "outputs": [],
   "source": [
    "# natural language tool kit \n",
    "import nltk\n",
    "import re"
   ]
  },
  {
   "cell_type": "code",
   "execution_count": 2,
   "metadata": {},
   "outputs": [
    {
     "data": {
      "text/plain": [
       "'space exploration technologies corp., t/a spacex, is an american aerospace manufacturer and space transportation services company headquartered in hawthorne, california. it was founded in 2002 by elon'"
      ]
     },
     "execution_count": 2,
     "metadata": {},
     "output_type": "execute_result"
    }
   ],
   "source": [
    "with open ('spacex.txt',encoding = 'utf-8') as f:\n",
    "    spacex = f.read().lower()\n",
    "spacex[:200]    "
   ]
  },
  {
   "cell_type": "code",
   "execution_count": 3,
   "metadata": {},
   "outputs": [
    {
     "name": "stdout",
     "output_type": "stream",
     "text": [
      "We have 4981 words in the text.\n"
     ]
    }
   ],
   "source": [
    "spacex_text = re.sub(\"\\(|\\)|\\[\\d+\\]|('s')\", \"\", spacex)\n",
    "split_pattern = \" |, |-|\\n|\\.\"\n",
    "spacex_all_words = re.split(split_pattern, spacex_text)\n",
    "\n",
    "\n",
    "# only keep therms that are alphabetic ( get rid of the numbers )\n",
    "spacex_all_words =[word for word in spacex_all_words if word.isalpha()]\n",
    "\n",
    "print(f\"We have {len(spacex_all_words)} words in the text.\")"
   ]
  },
  {
   "cell_type": "markdown",
   "metadata": {},
   "source": [
    "### change all this into the function so we can use it over and over again "
   ]
  },
  {
   "cell_type": "code",
   "execution_count": 4,
   "metadata": {},
   "outputs": [
    {
     "name": "stdout",
     "output_type": "stream",
     "text": [
      "The text has been converted to 5014 words.\n"
     ]
    },
    {
     "data": {
      "text/plain": [
       "['space', 'exploration', 'technologies', 'corp', 'spacex']"
      ]
     },
     "execution_count": 4,
     "metadata": {},
     "output_type": "execute_result"
    }
   ],
   "source": [
    "# Function to convert/split text to words\n",
    "def text_to_words(text):\n",
    "    import re\n",
    "    # [12], [1], [123] <- Wiki citation char sequences\n",
    "    # \\[\\d+\\]\n",
    "    text = re.sub(\"\\(|\\)|\\[\\d+\\]|('s)\", \"\", text)\n",
    "    # Match a single space \" \" OR \", \" (comma and a space)\n",
    "    split_pattern = \" |, |-|\\n|\\.\"\n",
    "    text = re.split(split_pattern, text)    \n",
    "    # Only keep terms that are alphabetic characters\n",
    "    text = [word for word in text if word.isalpha()]\n",
    "    print(f\"The text has been converted to {len(text)} words.\")\n",
    "    \n",
    "    return text\n",
    "\n",
    "spacex_all_words = text_to_words(spacex)\n",
    "\n",
    "#just a little sample to check if its working \n",
    "spacex_all_words[:5]\n"
   ]
  },
  {
   "cell_type": "code",
   "execution_count": 5,
   "metadata": {},
   "outputs": [
    {
     "name": "stdout",
     "output_type": "stream",
     "text": [
      "The text has been converted to 2643 words.\n"
     ]
    }
   ],
   "source": [
    "with open ('virgin-galactic.txt',encoding = 'utf-8') as f:\n",
    "    virgin = f.read().lower()\n",
    "virgin[:200]    \n",
    "virginGalactic = text_to_words(virgin)\n"
   ]
  },
  {
   "cell_type": "code",
   "execution_count": 6,
   "metadata": {},
   "outputs": [
    {
     "name": "stdout",
     "output_type": "stream",
     "text": [
      "The text has been converted to 4875 words.\n"
     ]
    }
   ],
   "source": [
    "with open ('blue-origin.txt',encoding = 'utf-8') as f:\n",
    "    blue = f.read().lower()\n",
    "blue[:200]    \n",
    "blueOrigin = text_to_words(blue)"
   ]
  },
  {
   "cell_type": "code",
   "execution_count": 7,
   "metadata": {},
   "outputs": [
    {
     "name": "stdout",
     "output_type": "stream",
     "text": [
      "\n",
      "\n",
      "Reading contents of file: spacex.txt\n",
      "The text has been converted to 5014 words.\n",
      "\n",
      "\n",
      "Reading contents of file: blue-origin.txt\n",
      "The text has been converted to 4875 words.\n",
      "\n",
      "\n",
      "Reading contents of file: virgin-galactic.txt\n",
      "The text has been converted to 2643 words.\n"
     ]
    }
   ],
   "source": [
    "def read_all_text(filename):\n",
    "    with open(filename, encoding=\"utf-8\") as f:\n",
    "        print(f\"\\n\\nReading contents of file: {filename}\")\n",
    "        return f.read().lower()\n",
    "\n",
    "spacex_text = read_all_text(\"spacex.txt\")\n",
    "spacex_words = text_to_words(spacex_text)\n",
    "\n",
    "# Get all the words for the blue origin and virgin galactic files\n",
    "blue_origin_text = read_all_text(\"blue-origin.txt\")\n",
    "blue_origin_words = text_to_words(blue_origin_text)\n",
    "\n",
    "virgin_galactic_text = read_all_text(\"virgin-galactic.txt\")\n",
    "virgin_galactic_words = text_to_words(virgin_galactic_text)\n"
   ]
  },
  {
   "cell_type": "markdown",
   "metadata": {},
   "source": [
    "### Tf-idf can be successfully used for stop-words filtering in various subject fields including text summarization and classification."
   ]
  },
  {
   "cell_type": "code",
   "execution_count": null,
   "metadata": {},
   "outputs": [],
   "source": []
  }
 ],
 "metadata": {
  "kernelspec": {
   "display_name": "Python 3",
   "language": "python",
   "name": "python3"
  },
  "language_info": {
   "codemirror_mode": {
    "name": "ipython",
    "version": 3
   },
   "file_extension": ".py",
   "mimetype": "text/x-python",
   "name": "python",
   "nbconvert_exporter": "python",
   "pygments_lexer": "ipython3",
   "version": "3.7.9"
  }
 },
 "nbformat": 4,
 "nbformat_minor": 4
}
