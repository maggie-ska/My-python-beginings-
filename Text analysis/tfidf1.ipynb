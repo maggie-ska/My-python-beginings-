{
 "cells": [
  {
   "cell_type": "markdown",
   "metadata": {},
   "source": [
    "### term frequency inverse document frequency analysis"
   ]
  },
  {
   "cell_type": "code",
   "execution_count": 1,
   "metadata": {},
   "outputs": [],
   "source": [
    "# Function to convert/split text to words\n",
    "def text_to_words(text):\n",
    "    import re\n",
    "    # [12], [1], [123] <- Wiki citation char sequences\n",
    "    # \\[\\d+\\]\n",
    "    # 's\n",
    "    text = re.sub(\"\\(|\\)|\\[\\d+\\]|('s)\", \"\", text)\n",
    "    # Match a single space \" \" OR \", \" (comma and a space)\n",
    "    split_pattern = \" |, |-|\\n|\\.\"\n",
    "    text = re.split(split_pattern, text)    \n",
    "    # Only keep terms that are alphabetic characters\n",
    "    text = [word for word in text if word.isalpha()]\n",
    "    print(f\"The text has been converted to {len(text)} words.\")\n",
    "    \n",
    "    return text\n"
   ]
  },
  {
   "cell_type": "code",
   "execution_count": 2,
   "metadata": {},
   "outputs": [
    {
     "name": "stdout",
     "output_type": "stream",
     "text": [
      "\n",
      "\n",
      "Reading contents of file: spacex.txt\n",
      "The text has been converted to 5014 words.\n",
      "\n",
      "\n",
      "Reading contents of file: blue-origin.txt\n",
      "The text has been converted to 4875 words.\n",
      "\n",
      "\n",
      "Reading contents of file: virgin-galactic.txt\n",
      "The text has been converted to 2643 words.\n"
     ]
    }
   ],
   "source": [
    "def read_all_text(filename):\n",
    "    with open(filename, encoding=\"utf-8\") as f:\n",
    "        print(f\"\\n\\nReading contents of file: {filename}\")\n",
    "        return f.read().lower()\n",
    "\n",
    "spacex_text = read_all_text(\"spacex.txt\")\n",
    "spacex_words = text_to_words(spacex_text)\n",
    "\n",
    "# Get all the words for the blue origin and virgin galactic files\n",
    "blue_origin_text = read_all_text(\"blue-origin.txt\")\n",
    "blue_origin_words = text_to_words(blue_origin_text)\n",
    "\n",
    "virgin_galactic_text = read_all_text(\"virgin-galactic.txt\")\n",
    "virgin_galactic_words = text_to_words(virgin_galactic_text)\n"
   ]
  },
  {
   "cell_type": "markdown",
   "metadata": {},
   "source": [
    "# Lets do the TF for all terms in the spacex document"
   ]
  },
  {
   "cell_type": "code",
   "execution_count": 3,
   "metadata": {},
   "outputs": [
    {
     "data": {
      "text/plain": [
       "1211"
      ]
     },
     "execution_count": 3,
     "metadata": {},
     "output_type": "execute_result"
    }
   ],
   "source": [
    "spacex_unique_words = list(set(spacex_words))\n",
    "len(spacex_unique_words)"
   ]
  },
  {
   "cell_type": "code",
   "execution_count": 4,
   "metadata": {},
   "outputs": [],
   "source": [
    "spacex_unique_words_freq = {}\n",
    "for word in spacex_unique_words:\n",
    "    spacex_unique_words_freq[word] = spacex_words.count(word)\n",
    "\n",
    "#spacex_unique_words_freq"
   ]
  },
  {
   "cell_type": "markdown",
   "metadata": {},
   "source": [
    "## document frequency - is the word occuring in all the documents ??\n"
   ]
  },
  {
   "cell_type": "code",
   "execution_count": 5,
   "metadata": {},
   "outputs": [
    {
     "name": "stdout",
     "output_type": "stream",
     "text": [
      "The word \"space\" occured in : 2 documents\n"
     ]
    }
   ],
   "source": [
    "# to make the document frequencies to see if the word appears in all 3 documents we checking \n",
    "specex_unique_words_doc_freq = {}\n",
    "\n",
    "for word in spacex_unique_words:\n",
    "    doc_count = 0\n",
    "    if word in spacex_words: # we know it is cos we took it from there so we can change doc_count =1\n",
    "        doc_count +=1        # and delete these two lines \n",
    "    if word in virgin_galactic_words:\n",
    "        doc_count +=1 \n",
    "    if word in blue_origin_words:\n",
    "        doc_count +=1    \n",
    "     \n",
    "    specex_unique_words_doc_freq[word]= doc_count\n",
    "    \n",
    "# the word space appeared in all 3 documents \n",
    "print(f'The word \"space\" occured in : {specex_unique_words_doc_freq[\"lower\"]} documents')   \n"
   ]
  },
  {
   "cell_type": "code",
   "execution_count": 6,
   "metadata": {},
   "outputs": [
    {
     "data": {
      "text/html": [
       "<div>\n",
       "<style scoped>\n",
       "    .dataframe tbody tr th:only-of-type {\n",
       "        vertical-align: middle;\n",
       "    }\n",
       "\n",
       "    .dataframe tbody tr th {\n",
       "        vertical-align: top;\n",
       "    }\n",
       "\n",
       "    .dataframe thead th {\n",
       "        text-align: right;\n",
       "    }\n",
       "</style>\n",
       "<table border=\"1\" class=\"dataframe\">\n",
       "  <thead>\n",
       "    <tr style=\"text-align: right;\">\n",
       "      <th></th>\n",
       "      <th>Word</th>\n",
       "      <th>Frequency</th>\n",
       "    </tr>\n",
       "  </thead>\n",
       "  <tbody>\n",
       "    <tr>\n",
       "      <th>948</th>\n",
       "      <td>subsidiary</td>\n",
       "      <td>1</td>\n",
       "    </tr>\n",
       "    <tr>\n",
       "      <th>130</th>\n",
       "      <td>based</td>\n",
       "      <td>1</td>\n",
       "    </tr>\n",
       "    <tr>\n",
       "      <th>70</th>\n",
       "      <td>covid</td>\n",
       "      <td>2</td>\n",
       "    </tr>\n",
       "    <tr>\n",
       "      <th>493</th>\n",
       "      <td>late</td>\n",
       "      <td>6</td>\n",
       "    </tr>\n",
       "    <tr>\n",
       "      <th>714</th>\n",
       "      <td>expected</td>\n",
       "      <td>3</td>\n",
       "    </tr>\n",
       "  </tbody>\n",
       "</table>\n",
       "</div>"
      ],
      "text/plain": [
       "           Word  Frequency\n",
       "948  subsidiary          1\n",
       "130       based          1\n",
       "70        covid          2\n",
       "493        late          6\n",
       "714    expected          3"
      ]
     },
     "execution_count": 6,
     "metadata": {},
     "output_type": "execute_result"
    }
   ],
   "source": [
    "import pandas as pd \n",
    "pd.set_option('precision',4)\n",
    "\n",
    "df_tf = pd.DataFrame(spacex_unique_words_freq.items(),columns = ['Word','Frequency'])\n",
    "#df_tf.sort_values(by= 'Frequency',inplace = True,ascending = False,ignore_index = True)\n",
    "\n",
    "df_tf.sample(5)"
   ]
  },
  {
   "cell_type": "code",
   "execution_count": 7,
   "metadata": {},
   "outputs": [],
   "source": [
    "# add term frequency column -> occurances over TOTAL num of words (including stop words )\n",
    "df_tf['TF'] = df_tf['Frequency'] / len (spacex_words)\n"
   ]
  },
  {
   "cell_type": "code",
   "execution_count": 8,
   "metadata": {},
   "outputs": [],
   "source": [
    "# add document frequency column -> is the word in all 3 document is it popular therefore not as special \n",
    "df_tf['DF'] = [specex_unique_words_doc_freq[x] for x in spacex_unique_words_freq ]\n",
    " \n"
   ]
  },
  {
   "cell_type": "code",
   "execution_count": 9,
   "metadata": {},
   "outputs": [
    {
     "data": {
      "text/html": [
       "<div>\n",
       "<style scoped>\n",
       "    .dataframe tbody tr th:only-of-type {\n",
       "        vertical-align: middle;\n",
       "    }\n",
       "\n",
       "    .dataframe tbody tr th {\n",
       "        vertical-align: top;\n",
       "    }\n",
       "\n",
       "    .dataframe thead th {\n",
       "        text-align: right;\n",
       "    }\n",
       "</style>\n",
       "<table border=\"1\" class=\"dataframe\">\n",
       "  <thead>\n",
       "    <tr style=\"text-align: right;\">\n",
       "      <th></th>\n",
       "      <th>Word</th>\n",
       "      <th>Frequency</th>\n",
       "      <th>TF</th>\n",
       "      <th>DF</th>\n",
       "    </tr>\n",
       "  </thead>\n",
       "  <tbody>\n",
       "    <tr>\n",
       "      <th>874</th>\n",
       "      <td>throat</td>\n",
       "      <td>1</td>\n",
       "      <td>0.0002</td>\n",
       "      <td>1</td>\n",
       "    </tr>\n",
       "  </tbody>\n",
       "</table>\n",
       "</div>"
      ],
      "text/plain": [
       "       Word  Frequency      TF  DF\n",
       "874  throat          1  0.0002   1"
      ]
     },
     "execution_count": 9,
     "metadata": {},
     "output_type": "execute_result"
    }
   ],
   "source": [
    "df_tf[df_tf['Word'] == 'throat']"
   ]
  },
  {
   "cell_type": "code",
   "execution_count": 10,
   "metadata": {},
   "outputs": [
    {
     "data": {
      "text/html": [
       "<div>\n",
       "<style scoped>\n",
       "    .dataframe tbody tr th:only-of-type {\n",
       "        vertical-align: middle;\n",
       "    }\n",
       "\n",
       "    .dataframe tbody tr th {\n",
       "        vertical-align: top;\n",
       "    }\n",
       "\n",
       "    .dataframe thead th {\n",
       "        text-align: right;\n",
       "    }\n",
       "</style>\n",
       "<table border=\"1\" class=\"dataframe\">\n",
       "  <thead>\n",
       "    <tr style=\"text-align: right;\">\n",
       "      <th></th>\n",
       "      <th>Word</th>\n",
       "      <th>Frequency</th>\n",
       "      <th>TF</th>\n",
       "      <th>DF</th>\n",
       "    </tr>\n",
       "  </thead>\n",
       "  <tbody>\n",
       "    <tr>\n",
       "      <th>281</th>\n",
       "      <td>the</td>\n",
       "      <td>321</td>\n",
       "      <td>0.064</td>\n",
       "      <td>3</td>\n",
       "    </tr>\n",
       "  </tbody>\n",
       "</table>\n",
       "</div>"
      ],
      "text/plain": [
       "    Word  Frequency     TF  DF\n",
       "281  the        321  0.064   3"
      ]
     },
     "execution_count": 10,
     "metadata": {},
     "output_type": "execute_result"
    }
   ],
   "source": [
    "df_tf[df_tf['Word'] == 'the']"
   ]
  },
  {
   "cell_type": "markdown",
   "metadata": {},
   "source": [
    "## adding the last column for TF- IDF"
   ]
  },
  {
   "cell_type": "code",
   "execution_count": 14,
   "metadata": {},
   "outputs": [],
   "source": [
    "# TF(t) = (Number of times term t appears in a document) / (Total number of terms in the document).\n",
    "\n",
    "# IDF(t) = log_e(Total number of documents / Number of documents with term t in it).\n",
    "\n",
    "import math"
   ]
  },
  {
   "cell_type": "code",
   "execution_count": 18,
   "metadata": {},
   "outputs": [
    {
     "data": {
      "text/html": [
       "<div>\n",
       "<style scoped>\n",
       "    .dataframe tbody tr th:only-of-type {\n",
       "        vertical-align: middle;\n",
       "    }\n",
       "\n",
       "    .dataframe tbody tr th {\n",
       "        vertical-align: top;\n",
       "    }\n",
       "\n",
       "    .dataframe thead th {\n",
       "        text-align: right;\n",
       "    }\n",
       "</style>\n",
       "<table border=\"1\" class=\"dataframe\">\n",
       "  <thead>\n",
       "    <tr style=\"text-align: right;\">\n",
       "      <th></th>\n",
       "      <th>Word</th>\n",
       "      <th>Frequency</th>\n",
       "      <th>TF</th>\n",
       "      <th>DF</th>\n",
       "      <th>TF-IDF</th>\n",
       "    </tr>\n",
       "  </thead>\n",
       "  <tbody>\n",
       "    <tr>\n",
       "      <th>830</th>\n",
       "      <td>dragon</td>\n",
       "      <td>41</td>\n",
       "      <td>0.0082</td>\n",
       "      <td>1</td>\n",
       "      <td>0.0090</td>\n",
       "    </tr>\n",
       "    <tr>\n",
       "      <th>546</th>\n",
       "      <td>spacex</td>\n",
       "      <td>108</td>\n",
       "      <td>0.0215</td>\n",
       "      <td>2</td>\n",
       "      <td>0.0087</td>\n",
       "    </tr>\n",
       "    <tr>\n",
       "      <th>456</th>\n",
       "      <td>musk</td>\n",
       "      <td>34</td>\n",
       "      <td>0.0068</td>\n",
       "      <td>1</td>\n",
       "      <td>0.0074</td>\n",
       "    </tr>\n",
       "    <tr>\n",
       "      <th>362</th>\n",
       "      <td>falcon</td>\n",
       "      <td>59</td>\n",
       "      <td>0.0118</td>\n",
       "      <td>2</td>\n",
       "      <td>0.0048</td>\n",
       "    </tr>\n",
       "    <tr>\n",
       "      <th>1108</th>\n",
       "      <td>mars</td>\n",
       "      <td>19</td>\n",
       "      <td>0.0038</td>\n",
       "      <td>1</td>\n",
       "      <td>0.0042</td>\n",
       "    </tr>\n",
       "    <tr>\n",
       "      <th>295</th>\n",
       "      <td>international</td>\n",
       "      <td>16</td>\n",
       "      <td>0.0032</td>\n",
       "      <td>1</td>\n",
       "      <td>0.0035</td>\n",
       "    </tr>\n",
       "    <tr>\n",
       "      <th>198</th>\n",
       "      <td>starship</td>\n",
       "      <td>13</td>\n",
       "      <td>0.0026</td>\n",
       "      <td>1</td>\n",
       "      <td>0.0028</td>\n",
       "    </tr>\n",
       "    <tr>\n",
       "      <th>241</th>\n",
       "      <td>demo</td>\n",
       "      <td>12</td>\n",
       "      <td>0.0024</td>\n",
       "      <td>1</td>\n",
       "      <td>0.0026</td>\n",
       "    </tr>\n",
       "    <tr>\n",
       "      <th>1154</th>\n",
       "      <td>cargo</td>\n",
       "      <td>12</td>\n",
       "      <td>0.0024</td>\n",
       "      <td>1</td>\n",
       "      <td>0.0026</td>\n",
       "    </tr>\n",
       "    <tr>\n",
       "      <th>337</th>\n",
       "      <td>stage</td>\n",
       "      <td>30</td>\n",
       "      <td>0.0060</td>\n",
       "      <td>2</td>\n",
       "      <td>0.0024</td>\n",
       "    </tr>\n",
       "  </tbody>\n",
       "</table>\n",
       "</div>"
      ],
      "text/plain": [
       "               Word  Frequency      TF  DF  TF-IDF\n",
       "830          dragon         41  0.0082   1  0.0090\n",
       "546          spacex        108  0.0215   2  0.0087\n",
       "456            musk         34  0.0068   1  0.0074\n",
       "362          falcon         59  0.0118   2  0.0048\n",
       "1108           mars         19  0.0038   1  0.0042\n",
       "295   international         16  0.0032   1  0.0035\n",
       "198        starship         13  0.0026   1  0.0028\n",
       "241            demo         12  0.0024   1  0.0026\n",
       "1154          cargo         12  0.0024   1  0.0026\n",
       "337           stage         30  0.0060   2  0.0024"
      ]
     },
     "execution_count": 18,
     "metadata": {},
     "output_type": "execute_result"
    }
   ],
   "source": [
    "# looking at data frame values to calculate TF * DF\n",
    "tf_idf_values =[]\n",
    "num_docs_in_corpus =3\n",
    "\n",
    "for row in df_tf.values:\n",
    "    tf = row[2]\n",
    "    df = row[3]\n",
    "    tf_idf = tf*math.log(num_docs_in_corpus/df)\n",
    "    \n",
    "    tf_idf_values.append(tf_idf)\n",
    "    \n",
    "    \n",
    "#add it to a dataframe \n",
    "df_tf['TF-IDF'] = tf_idf_values\n",
    "\n",
    "df_tf.sort_values(by = 'TF-IDF',inplace = True, ascending = False )\n",
    "\n",
    "df_tf.head(10)\n",
    "    "
   ]
  },
  {
   "cell_type": "code",
   "execution_count": 20,
   "metadata": {},
   "outputs": [
    {
     "data": {
      "text/html": [
       "<div>\n",
       "<style scoped>\n",
       "    .dataframe tbody tr th:only-of-type {\n",
       "        vertical-align: middle;\n",
       "    }\n",
       "\n",
       "    .dataframe tbody tr th {\n",
       "        vertical-align: top;\n",
       "    }\n",
       "\n",
       "    .dataframe thead th {\n",
       "        text-align: right;\n",
       "    }\n",
       "</style>\n",
       "<table border=\"1\" class=\"dataframe\">\n",
       "  <thead>\n",
       "    <tr style=\"text-align: right;\">\n",
       "      <th></th>\n",
       "      <th>Word</th>\n",
       "      <th>Frequency</th>\n",
       "      <th>TF</th>\n",
       "      <th>DF</th>\n",
       "      <th>TF-IDF</th>\n",
       "    </tr>\n",
       "  </thead>\n",
       "  <tbody>\n",
       "    <tr>\n",
       "      <th>39</th>\n",
       "      <td>launch</td>\n",
       "      <td>60</td>\n",
       "      <td>0.012</td>\n",
       "      <td>3</td>\n",
       "      <td>0.0</td>\n",
       "    </tr>\n",
       "  </tbody>\n",
       "</table>\n",
       "</div>"
      ],
      "text/plain": [
       "      Word  Frequency     TF  DF  TF-IDF\n",
       "39  launch         60  0.012   3     0.0"
      ]
     },
     "execution_count": 20,
     "metadata": {},
     "output_type": "execute_result"
    }
   ],
   "source": [
    "# Because word launch is in all 3 documents its loosing its value even tho it occurs 60times in a document\n",
    "\n",
    "df_tf[df_tf['Word']=='launch']"
   ]
  },
  {
   "cell_type": "code",
   "execution_count": null,
   "metadata": {},
   "outputs": [],
   "source": []
  }
 ],
 "metadata": {
  "kernelspec": {
   "display_name": "Python 3",
   "language": "python",
   "name": "python3"
  },
  "language_info": {
   "codemirror_mode": {
    "name": "ipython",
    "version": 3
   },
   "file_extension": ".py",
   "mimetype": "text/x-python",
   "name": "python",
   "nbconvert_exporter": "python",
   "pygments_lexer": "ipython3",
   "version": "3.7.9"
  }
 },
 "nbformat": 4,
 "nbformat_minor": 4
}
