{
 "cells": [
  {
   "cell_type": "code",
   "execution_count": null,
   "metadata": {},
   "outputs": [],
   "source": [
    "# Function to convert/split text to words\n",
    "def text_to_words(text):\n",
    "    import re\n",
    "    # [12], [1], [123] <- Wiki citation char sequences\n",
    "    # \\[\\d+\\]\n",
    "    text = re.sub(\"\\(|\\)|\\[\\d+\\]|('s)\", \"\", text)\n",
    "    # Match a single space \" \" OR \", \" (comma and a space)\n",
    "    split_pattern = \" |, |-|\\n|\\.\"\n",
    "    text = re.split(split_pattern, text)    \n",
    "    # Only keep terms that are alphabetic characters\n",
    "    text = [word for word in text if word.isalpha()]\n",
    "    print(f\"The text has been converted to {len(text)} words.\")\n",
    "    \n",
    "    return text\n"
   ]
  },
  {
   "cell_type": "code",
   "execution_count": null,
   "metadata": {},
   "outputs": [],
   "source": [
    "def read_all_text(filename):\n",
    "    with open(filename, encoding=\"utf-8\") as f:\n",
    "        print(f\"\\n\\nReading contents of file: {filename}\")\n",
    "        return f.read().lower()\n"
   ]
  }
 ],
 "metadata": {
  "kernelspec": {
   "display_name": "Python 3",
   "language": "python",
   "name": "python3"
  },
  "language_info": {
   "codemirror_mode": {
    "name": "ipython",
    "version": 3
   },
   "file_extension": ".py",
   "mimetype": "text/x-python",
   "name": "python",
   "nbconvert_exporter": "python",
   "pygments_lexer": "ipython3",
   "version": "3.7.9"
  }
 },
 "nbformat": 4,
 "nbformat_minor": 4
}
