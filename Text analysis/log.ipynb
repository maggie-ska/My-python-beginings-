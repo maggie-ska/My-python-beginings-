{
 "cells": [
  {
   "cell_type": "markdown",
   "metadata": {},
   "source": [
    "## INVERS DOCUMENT FREQUENCY"
   ]
  },
  {
   "cell_type": "markdown",
   "metadata": {},
   "source": [
    "TF-IDF is a statistical measure that evaluates how relevant a word is to a document in a collection of documents. This is done by multiplying two metrics: how many times a word appears in a document, and the inverse document frequency of the word across a set of documents."
   ]
  },
  {
   "cell_type": "code",
   "execution_count": 7,
   "metadata": {},
   "outputs": [
    {
     "name": "stdout",
     "output_type": "stream",
     "text": [
      "The natural log of 1 is 0.0\n"
     ]
    }
   ],
   "source": [
    "import math\n",
    "\n",
    "print(f'The natural log of 1 is {math.log(1)}')"
   ]
  },
  {
   "cell_type": "code",
   "execution_count": 8,
   "metadata": {},
   "outputs": [
    {
     "name": "stdout",
     "output_type": "stream",
     "text": [
      "The natural log of 0.1 is -2.3025850929940455\n"
     ]
    }
   ],
   "source": [
    "print(f'The natural log of 0.1 is {math.log(0.1)}')"
   ]
  },
  {
   "cell_type": "code",
   "execution_count": 10,
   "metadata": {},
   "outputs": [
    {
     "name": "stdout",
     "output_type": "stream",
     "text": [
      "The natural log of 10/10 is: 0.0\n"
     ]
    }
   ],
   "source": [
    "# if the word appears in all of the 10 document in 10 out of 10 the idf is 0 \n",
    "# its not that special \n",
    "idf = print(f'The natural log of 10/10 is: {math.log(10/10)}')"
   ]
  },
  {
   "cell_type": "code",
   "execution_count": 11,
   "metadata": {},
   "outputs": [
    {
     "name": "stdout",
     "output_type": "stream",
     "text": [
      "The natural log of 10/1 is: 2.302585092994046\n"
     ]
    }
   ],
   "source": [
    "# if the word appears in only 1 from 10 document  \n",
    "\n",
    "idf = print(f'The natural log of 10/1 is: {math.log(10/1)}')\n",
    "\n",
    "# then we multiply that number by TF (term frequency )"
   ]
  },
  {
   "cell_type": "code",
   "execution_count": null,
   "metadata": {},
   "outputs": [],
   "source": []
  }
 ],
 "metadata": {
  "kernelspec": {
   "display_name": "Python 3",
   "language": "python",
   "name": "python3"
  },
  "language_info": {
   "codemirror_mode": {
    "name": "ipython",
    "version": 3
   },
   "file_extension": ".py",
   "mimetype": "text/x-python",
   "name": "python",
   "nbconvert_exporter": "python",
   "pygments_lexer": "ipython3",
   "version": "3.7.9"
  }
 },
 "nbformat": 4,
 "nbformat_minor": 4
}
