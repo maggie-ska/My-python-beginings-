{
 "cells": [
  {
   "cell_type": "code",
   "execution_count": 1,
   "metadata": {},
   "outputs": [],
   "source": [
    "# Web Scrape Wikipedia example 1\n",
    "# https://en.wikipedia.org/wiki/COVID-19_pandemic_in_the_Republic_of_Ireland\n",
    "%config Completer.use_jedi = False"
   ]
  },
  {
   "cell_type": "code",
   "execution_count": 2,
   "metadata": {},
   "outputs": [],
   "source": [
    "import pandas as pd\n",
    "from bs4 import BeautifulSoup\n",
    "import requests"
   ]
  },
  {
   "cell_type": "code",
   "execution_count": 3,
   "metadata": {},
   "outputs": [],
   "source": [
    "# Scape the all of the html page and then get the first h1 heading\n",
    "url = \"https://en.wikipedia.org/wiki/COVID-19_pandemic_in_the_Republic_of_Ireland\"\n",
    "\n",
    "response = requests.get(url)\n",
    "\n",
    "html = response.content\n",
    "\n",
    "# Webpage is a Beautiful Soup object\n",
    "webpage = BeautifulSoup(html)\n",
    "\n",
    "# print(webpage.prettify())"
   ]
  },
  {
   "cell_type": "code",
   "execution_count": 4,
   "metadata": {},
   "outputs": [
    {
     "data": {
      "text/plain": [
       "'COVID-19 pandemic in the Republic of Ireland'"
      ]
     },
     "execution_count": 4,
     "metadata": {},
     "output_type": "execute_result"
    }
   ],
   "source": [
    "# Get the first header on the page and get the text from it...\n",
    "h1 = webpage.find(\"h1\")\n",
    "\n",
    "h1.get_text() # or h1.text"
   ]
  },
  {
   "cell_type": "code",
   "execution_count": 5,
   "metadata": {},
   "outputs": [
    {
     "data": {
      "text/plain": [
       "<h1 class=\"firstHeading\" id=\"firstHeading\" lang=\"en\">COVID-19 pandemic in the Republic of Ireland</h1>"
      ]
     },
     "execution_count": 5,
     "metadata": {},
     "output_type": "execute_result"
    }
   ],
   "source": [
    "h1_page_heading = webpage.find(\"h1\", attrs={\"id\":\"firstHeading\"})\n",
    "\n",
    "h1_page_heading"
   ]
  },
  {
   "cell_type": "code",
   "execution_count": 6,
   "metadata": {},
   "outputs": [
    {
     "data": {
      "text/plain": [
       "<h1 class=\"firstHeading\" id=\"firstHeading\" lang=\"en\">COVID-19 pandemic in the Republic of Ireland</h1>"
      ]
     },
     "execution_count": 6,
     "metadata": {},
     "output_type": "execute_result"
    }
   ],
   "source": [
    "h1_page_heading2 = webpage.select_one(\"h1#firstHeading.firstHeading\") # webpage.select_one(\"h1#firstHeading\")\n",
    "h1_page_heading2"
   ]
  },
  {
   "cell_type": "code",
   "execution_count": 7,
   "metadata": {},
   "outputs": [
    {
     "data": {
      "text/plain": [
       "'COVID-19 pandemic in the Republic of Ireland'"
      ]
     },
     "execution_count": 7,
     "metadata": {},
     "output_type": "execute_result"
    }
   ],
   "source": [
    "h1_page_headings = webpage.select(\"h1#firstHeading\")\n",
    "page_title = h1_page_headings[0].get_text()\n",
    "page_title"
   ]
  },
  {
   "cell_type": "code",
   "execution_count": 8,
   "metadata": {},
   "outputs": [
    {
     "data": {
      "text/plain": [
       "'https://en.wikipedia.org/api/rest_v1/page/graph/png/COVID-19_pandemic_in_the_Republic_of_Ireland/0/902d16b30bcac33076e2304cf2fdf15d5006bde2.png'"
      ]
     },
     "execution_count": 8,
     "metadata": {},
     "output_type": "execute_result"
    }
   ],
   "source": [
    "# Try and download a specific image from the page\n",
    "wikipedia_web_address = \"https://en.wikipedia.org\"\n",
    "\n",
    "# they changing the \n",
    "#image_scr = \"/api/rest_v1/page/graph/png/COVID-19_pandemic_in_the_Republic_of_Ireland/0/f742a3ab683d2e18ce3da6857a5b57d0a1eb8c2d.png\"\n",
    "image_scr =\"/api/rest_v1/page/graph/png/COVID-19_pandemic_in_the_Republic_of_Ireland/0/902d16b30bcac33076e2304cf2fdf15d5006bde2.png\"\n",
    "\n",
    "image_url = wikipedia_web_address + image_scr\n",
    "image_url"
   ]
  },
  {
   "cell_type": "code",
   "execution_count": 9,
   "metadata": {},
   "outputs": [
    {
     "data": {
      "text/plain": [
       "<Response [200]>"
      ]
     },
     "execution_count": 9,
     "metadata": {},
     "output_type": "execute_result"
    }
   ],
   "source": [
    "response2 = requests.get(image_url)\n",
    "response2"
   ]
  },
  {
   "cell_type": "code",
   "execution_count": 10,
   "metadata": {},
   "outputs": [],
   "source": [
    "image_content = response2.content"
   ]
  },
  {
   "cell_type": "code",
   "execution_count": 11,
   "metadata": {},
   "outputs": [
    {
     "name": "stdout",
     "output_type": "stream",
     "text": [
      "File written\n"
     ]
    }
   ],
   "source": [
    "# Image content will be bytes (binary data) (Not text like html or txt file etc)\n",
    "# image_content\n",
    "\n",
    "# Write the image to a file called test_image.png\n",
    "# wb - Opens a file for writing only in binary format. Overwrites the file if the file exists. \n",
    "# If the file does not exist, creates a new file for writing.\n",
    "with open(\"test_image.png\",\"wb\") as f:\n",
    "    f.write(image_content)\n",
    "    print(\"File written\")"
   ]
  },
  {
   "cell_type": "code",
   "execution_count": 12,
   "metadata": {},
   "outputs": [],
   "source": [
    "#image_url = \"https://en.wikipedia.org/api/rest_v1/page/graph/png/COVID-19_pandemic_in_the_Republic_of_Ireland/0/f742a3ab683d2e18ce3da6857a5b57d0a1eb8c2d.png\""
   ]
  },
  {
   "cell_type": "code",
   "execution_count": 13,
   "metadata": {},
   "outputs": [
    {
     "name": "stdout",
     "output_type": "stream",
     "text": [
      "/902d16b30bcac33076e2304cf2fdf15d5006bde2.png\n",
      "/902d16b30bcac33076e2304cf2fdf15d5006bde2.png\n",
      "902d16b30bcac33076e2304cf2fdf15d5006bde2.png\n",
      "png\n"
     ]
    }
   ],
   "source": [
    "# Use regex to try and extract the image name 'f742a3ab683d2e18ce3da6857a5b57d0a1eb8c2d.png' from\n",
    "# the image url\n",
    "# Common image formats are png, jpg, gif, bmp\n",
    "\n",
    "import re\n",
    "\n",
    "# We want to try and get the part of the image name that contain a / followed by somw number of characters\n",
    "# followed by . and an image extention such as png, jpg, gif, bmp\n",
    "\n",
    "# $ - end of the string\n",
    "# (png|gif|jpg|bmp) is a group where we are looking for any of these\n",
    "# [] <- makes it a character class \n",
    "#   +[.](png|gif|jpg|bmp))$ <- at the end it should be . and any of the characteres \n",
    "# \\w- <- any character a-z,A-Z,1-9 and a hifen cos some pictures are like this ->black-cat1.jpg   \n",
    "image_name_pattern = r'/([\\w-]+[.](png|gif|jpg|bmp))$'\n",
    "\n",
    "image_filename = re.search(image_name_pattern,image_url)\n",
    "\n",
    "# image_filename is a re.Match object\n",
    "# Match objects (can) contain groups of matches relating to\n",
    "# to what was matched in the () parts of the regex expression\n",
    "\n",
    "print(image_filename.group()) # the whole matched pattern\n",
    "print(image_filename.group(0)) # the whole matched pattern\n",
    "print(image_filename.group(1)) # the first group ([\\w-]+[.](png|gif|jpg|bmp))\n",
    "print(image_filename.group(2)) # the second group (png|gif|jpg|bmp)"
   ]
  },
  {
   "cell_type": "code",
   "execution_count": 14,
   "metadata": {},
   "outputs": [
    {
     "name": "stdout",
     "output_type": "stream",
     "text": [
      "File has been written\n"
     ]
    }
   ],
   "source": [
    "# lets save the file now with the actual image name \n",
    "filename = image_filename.group(1)\n",
    "with open (filename,'wb') as f:\n",
    "    f.write(image_content)\n",
    "    print('File has been written')"
   ]
  },
  {
   "cell_type": "code",
   "execution_count": null,
   "metadata": {},
   "outputs": [],
   "source": []
  }
 ],
 "metadata": {
  "kernelspec": {
   "display_name": "Python 3",
   "language": "python",
   "name": "python3"
  },
  "language_info": {
   "codemirror_mode": {
    "name": "ipython",
    "version": 3
   },
   "file_extension": ".py",
   "mimetype": "text/x-python",
   "name": "python",
   "nbconvert_exporter": "python",
   "pygments_lexer": "ipython3",
   "version": "3.7.9"
  }
 },
 "nbformat": 4,
 "nbformat_minor": 4
}
