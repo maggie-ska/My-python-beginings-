{
 "cells": [
  {
   "cell_type": "code",
   "execution_count": 1,
   "metadata": {},
   "outputs": [
    {
     "data": {
      "text/plain": [
       "'<!--\\nComments\\n\\nhtml is NOT a programming language it is markup language\\n\\nhtml :  hyper text markup language \\n\\n-->\\n\\n<!DOCTYPE html>\\n<html>\\n    <head>\\n        <title>My animals </title>\\n    </head>\\n        <style>\\n            body {background-color: powderblue;}\\n            p{color:magenta;font-family:arial;}\\n            img{border:5px solid blue}\\n            h1{color:white;}\\n            #special {font-family:times;color:blue;}\\n            div{width:80%;margin:0auto;border: 2px solid magenta ; padding:20px}\\n        </style>\\n    <body>\\n        <div id=\"div1\"> \\n                  <h1 style=\"background-color:DodgerBlue;\">Gaga</h1>\\n            <p>Hi I am Gaga. I will have my first birthday on the 15 th of October 2020. I love my life as a cat, and i love my roommates Pascal and Ruby. </p>\\n            <img src = \"Gaga.JPG\" width = \"400\">\\n            <p id = \"special\">This is me playing in the garden </p>\\n            <a href = \"https://en.wikipedia.org/wiki/Cat\">Click here to learn more about cats </a>   \\n            <p>I am another paragraph i am not special so i am not blue </p>\\n            \\n            \\n        </div>\\n        \\n        <div id = \"div2\">\\n            <a href = \"https://www.youtube.com/watch?v=hY7m5jjJ9mM\" >Click here for funny cats videos</a>\\n            \\n        </div>\\n \\n    </body>        \\n</html>    \\n    \\n\\n'"
      ]
     },
     "execution_count": 1,
     "metadata": {},
     "output_type": "execute_result"
    }
   ],
   "source": [
    "#read the content of the webpage1\n",
    "\n",
    "webpage_content= \"\"\n",
    "filename = \"webpage1.html\"\n",
    "with open(filename) as webpage:\n",
    "    webpage_content= webpage.read()\n",
    "webpage_content    "
   ]
  },
  {
   "cell_type": "code",
   "execution_count": 2,
   "metadata": {},
   "outputs": [],
   "source": [
    "# use beautiful soup to parse webpage_content \n",
    "from bs4 import BeautifulSoup as bs"
   ]
  },
  {
   "cell_type": "code",
   "execution_count": 3,
   "metadata": {},
   "outputs": [
    {
     "data": {
      "text/plain": [
       "<bound method Tag.prettify of <!--\n",
       "Comments\n",
       "\n",
       "html is NOT a programming language it is markup language\n",
       "\n",
       "html :  hyper text markup language \n",
       "\n",
       "--><!DOCTYPE html>\n",
       "<html>\n",
       "<head>\n",
       "<title>My animals </title>\n",
       "</head>\n",
       "<style>\n",
       "            body {background-color: powderblue;}\n",
       "            p{color:magenta;font-family:arial;}\n",
       "            img{border:5px solid blue}\n",
       "            h1{color:white;}\n",
       "            #special {font-family:times;color:blue;}\n",
       "            div{width:80%;margin:0auto;border: 2px solid magenta ; padding:20px}\n",
       "        </style>\n",
       "<body>\n",
       "<div id=\"div1\">\n",
       "<h1 style=\"background-color:DodgerBlue;\">Gaga</h1>\n",
       "<p>Hi I am Gaga. I will have my first birthday on the 15 th of October 2020. I love my life as a cat, and i love my roommates Pascal and Ruby. </p>\n",
       "<img src=\"Gaga.JPG\" width=\"400\"/>\n",
       "<p id=\"special\">This is me playing in the garden </p>\n",
       "<a href=\"https://en.wikipedia.org/wiki/Cat\">Click here to learn more about cats </a>\n",
       "<p>I am another paragraph i am not special so i am not blue </p>\n",
       "</div>\n",
       "<div id=\"div2\">\n",
       "<a href=\"https://www.youtube.com/watch?v=hY7m5jjJ9mM\">Click here for funny cats videos</a>\n",
       "</div>\n",
       "</body>\n",
       "</html>\n",
       ">"
      ]
     },
     "execution_count": 3,
     "metadata": {},
     "output_type": "execute_result"
    }
   ],
   "source": [
    "soup = bs(webpage_content)\n",
    "\n",
    "# to show soup in a nicer way with indentation \n",
    "soup.prettify"
   ]
  },
  {
   "cell_type": "code",
   "execution_count": 4,
   "metadata": {},
   "outputs": [
    {
     "data": {
      "text/plain": [
       "<h1 style=\"background-color:DodgerBlue;\">Gaga</h1>"
      ]
     },
     "execution_count": 4,
     "metadata": {},
     "output_type": "execute_result"
    }
   ],
   "source": [
    "# find first occurance of the h1 tag using find method\n",
    "h1_tag = soup.find(\"h1\")\n",
    "type(h1_tag)\n",
    "h1_tag"
   ]
  },
  {
   "cell_type": "code",
   "execution_count": 5,
   "metadata": {},
   "outputs": [
    {
     "data": {
      "text/plain": [
       "'Gaga'"
      ]
     },
     "execution_count": 5,
     "metadata": {},
     "output_type": "execute_result"
    }
   ],
   "source": [
    "# show the text inside the h1 tag\n",
    "h1_tag.text"
   ]
  },
  {
   "cell_type": "code",
   "execution_count": 6,
   "metadata": {},
   "outputs": [
    {
     "name": "stdout",
     "output_type": "stream",
     "text": [
      "<p>Hi I am Gaga. I will have my first birthday on the 15 th of October 2020. I love my life as a cat, and i love my roommates Pascal and Ruby. </p>\n",
      "<p id=\"special\">This is me playing in the garden </p>\n",
      "<p>I am another paragraph i am not special so i am not blue </p>\n"
     ]
    }
   ],
   "source": [
    "# find all the paragraph tags/elements \n",
    "p_all = soup.find_all('p')\n",
    "#p_all is a collection of all paragraphs so we can do the for loop \n",
    "for tag in p_all:\n",
    "    print(tag)"
   ]
  },
  {
   "cell_type": "code",
   "execution_count": 7,
   "metadata": {},
   "outputs": [
    {
     "name": "stdout",
     "output_type": "stream",
     "text": [
      "Hi I am Gaga. I will have my first birthday on the 15 th of October 2020. I love my life as a cat, and i love my roommates Pascal and Ruby. \n",
      "This is me playing in the garden \n",
      "I am another paragraph i am not special so i am not blue \n"
     ]
    }
   ],
   "source": [
    "#iterate through paragraphs and print only text \n",
    "for tag in p_all:\n",
    "    print (tag.text)"
   ]
  },
  {
   "cell_type": "code",
   "execution_count": 8,
   "metadata": {},
   "outputs": [
    {
     "name": "stdout",
     "output_type": "stream",
     "text": [
      "Click here to learn more about cats \n",
      "https://en.wikipedia.org/wiki/Cat\n",
      "Click here for funny cats videos\n",
      "https://www.youtube.com/watch?v=hY7m5jjJ9mM\n"
     ]
    }
   ],
   "source": [
    "#find the a tag and show the text and the value of the link atribute \n",
    "a_all = soup.find_all(\"a\")\n",
    "for link in a_all:\n",
    "    print(link.text)\n",
    "    print(link.attrs['href'])"
   ]
  },
  {
   "cell_type": "code",
   "execution_count": 10,
   "metadata": {},
   "outputs": [
    {
     "name": "stdout",
     "output_type": "stream",
     "text": [
      "Click here to learn more about cats \n",
      "https://en.wikipedia.org/wiki/Cat\n"
     ]
    }
   ],
   "source": [
    "#or do it like to find the first one\n",
    "link = soup.find('a')\n",
    "print(link.text)\n",
    "print(link.attrs['href'])"
   ]
  },
  {
   "cell_type": "code",
   "execution_count": 13,
   "metadata": {},
   "outputs": [
    {
     "data": {
      "text/plain": [
       "'https://www.youtube.com/watch?v=hY7m5jjJ9mM'"
      ]
     },
     "execution_count": 13,
     "metadata": {},
     "output_type": "execute_result"
    }
   ],
   "source": [
    "# get the a tag inside the div eith a id of div2\n",
    "#  # -> in html is an id \n",
    "# selct the a tag nested inside an element wirh an id of 'div2'\n",
    "a_tag_div2 = soup.select_one(\"#div2 a\")\n",
    "a_tag_div2\n",
    "a_tag_div2.attrs[\"href\"]"
   ]
  },
  {
   "cell_type": "code",
   "execution_count": null,
   "metadata": {},
   "outputs": [],
   "source": []
  }
 ],
 "metadata": {
  "kernelspec": {
   "display_name": "Python 3",
   "language": "python",
   "name": "python3"
  },
  "language_info": {
   "codemirror_mode": {
    "name": "ipython",
    "version": 3
   },
   "file_extension": ".py",
   "mimetype": "text/x-python",
   "name": "python",
   "nbconvert_exporter": "python",
   "pygments_lexer": "ipython3",
   "version": "3.7.9"
  }
 },
 "nbformat": 4,
 "nbformat_minor": 4
}
