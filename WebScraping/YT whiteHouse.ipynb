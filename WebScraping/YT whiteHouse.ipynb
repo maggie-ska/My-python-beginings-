{
 "cells": [
  {
   "cell_type": "code",
   "execution_count": 1,
   "metadata": {},
   "outputs": [],
   "source": [
    "import requests\n",
    "from bs4 import BeautifulSoup "
   ]
  },
  {
   "cell_type": "code",
   "execution_count": 2,
   "metadata": {},
   "outputs": [],
   "source": [
    "# get the content of the website https://www.tattersalls.com/\n",
    "result = requests.get(\"https://www.whitehouse.gov/briefings-statements/\")\n",
    "\n",
    "src = result.content \n",
    "soup = BeautifulSoup(src)\n",
    "\n",
    "# after inspecting the webpage we decided we want to find stuff with the 'h2' tag \n",
    "# and from inside of h2 we want the 'a' tag which is a url\n",
    "urls = []\n",
    "for h2_tag in soup.find_all(\"h2\"):\n",
    "    a_tag = h2_tag.find('a')\n",
    "    urls.append(a_tag.attrs['href'])\n",
    "        \n"
   ]
  },
  {
   "cell_type": "code",
   "execution_count": 3,
   "metadata": {},
   "outputs": [
    {
     "data": {
      "text/plain": [
       "['https://www.whitehouse.gov/briefings-statements/president-trump-fighting-harmful-ideologies-cause-division-federal-workplaces/',\n",
       " 'https://www.whitehouse.gov/briefings-statements/remarks-president-trump-marine-one-departure-092220/',\n",
       " 'https://www.whitehouse.gov/briefings-statements/press-briefing-press-secretary-kayleigh-mcenany-092220/',\n",
       " 'https://www.whitehouse.gov/briefings-statements/four-nominations-one-withdrawal-sent-senate/',\n",
       " 'https://www.whitehouse.gov/briefings-statements/remarks-president-trump-75th-session-united-nations-general-assembly/',\n",
       " 'https://www.whitehouse.gov/briefings-statements/presidential-message-american-business-womens-day-092220/',\n",
       " 'https://www.whitehouse.gov/briefings-statements/readout-vice-presidents-governors-briefing-covid-19-response-best-practices-092220/',\n",
       " 'https://www.whitehouse.gov/briefings-statements/remarks-president-trump-marine-one-departure-092120/',\n",
       " 'https://www.whitehouse.gov/briefings-statements/statement-president-regarding-new-restrictions-irans-nuclear-ballistic-missile-conventional-weapons-pursuits/',\n",
       " 'https://www.whitehouse.gov/briefings-statements/message-congress-blocking-property-certain-persons-respect-conventional-arms-activities-iran/']"
      ]
     },
     "execution_count": 3,
     "metadata": {},
     "output_type": "execute_result"
    }
   ],
   "source": [
    "urls"
   ]
  },
  {
   "cell_type": "code",
   "execution_count": null,
   "metadata": {},
   "outputs": [],
   "source": []
  }
 ],
 "metadata": {
  "kernelspec": {
   "display_name": "Python 3",
   "language": "python",
   "name": "python3"
  },
  "language_info": {
   "codemirror_mode": {
    "name": "ipython",
    "version": 3
   },
   "file_extension": ".py",
   "mimetype": "text/x-python",
   "name": "python",
   "nbconvert_exporter": "python",
   "pygments_lexer": "ipython3",
   "version": "3.7.9"
  }
 },
 "nbformat": 4,
 "nbformat_minor": 4
}
