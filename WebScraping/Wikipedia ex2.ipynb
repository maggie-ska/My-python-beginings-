{
 "cells": [
  {
   "cell_type": "markdown",
   "metadata": {},
   "source": [
    "### Web Scrape Wikipedia example 2\n",
    "### https://en.wikipedia.org/wiki/COVID-19_pandemic_in_the_Republic_of_Ireland\n"
   ]
  },
  {
   "cell_type": "code",
   "execution_count": 1,
   "metadata": {},
   "outputs": [],
   "source": [
    "%config Completer.use_jedi = False\n",
    "\n",
    "from bs4 import BeautifulSoup\n",
    "import requests\n",
    "import re \n",
    "import os\n",
    "from textblob import TextBlob"
   ]
  },
  {
   "cell_type": "code",
   "execution_count": 2,
   "metadata": {},
   "outputs": [
    {
     "name": "stdout",
     "output_type": "stream",
     "text": [
      "Folder images already exists.\n"
     ]
    }
   ],
   "source": [
    "# create a folder \n",
    "\n",
    "foldername = 'images'\n",
    "if not os.path.exists(foldername):\n",
    "    os.makedirs(foldername)\n",
    "    print(f'Folder {foldername} has been created.')\n",
    "else:\n",
    "    print(f'Folder {foldername} already exists.')"
   ]
  },
  {
   "cell_type": "code",
   "execution_count": 3,
   "metadata": {},
   "outputs": [],
   "source": [
    "url = \"https://en.wikipedia.org/wiki/COVID-19_pandemic_in_the_Republic_of_Ireland\""
   ]
  },
  {
   "cell_type": "code",
   "execution_count": 4,
   "metadata": {},
   "outputs": [
    {
     "data": {
      "text/plain": [
       "<Response [200]>"
      ]
     },
     "execution_count": 4,
     "metadata": {},
     "output_type": "execute_result"
    }
   ],
   "source": [
    "# scrape all the images and save them to a subfolder \n",
    "\n",
    "response = requests.get(url)\n",
    "response"
   ]
  },
  {
   "cell_type": "code",
   "execution_count": 5,
   "metadata": {},
   "outputs": [
    {
     "data": {
      "text/plain": [
       "'https://en.wikipedia.org'"
      ]
     },
     "execution_count": 5,
     "metadata": {},
     "output_type": "execute_result"
    }
   ],
   "source": [
    "# get the base path of the URL\n",
    "\n",
    "from urllib.parse import urlparse\n",
    "\n",
    "parsed_url = urlparse(url)\n",
    "base_url = parsed_url[0] + '://' + parsed_url[1]\n",
    "base_url\n"
   ]
  },
  {
   "cell_type": "code",
   "execution_count": 6,
   "metadata": {},
   "outputs": [
    {
     "name": "stdout",
     "output_type": "stream",
     "text": [
      "There is: 49 images on this page\n"
     ]
    }
   ],
   "source": [
    "# use beautiful soup to get all the image tags and get all the image scalar values \n",
    "\n",
    "soup = BeautifulSoup(response.content)\n",
    "#soup -> commented out so it wont print here\n",
    "\n",
    "all_images = soup.find_all('img')\n",
    "print(f'There is: {len(all_images)} images on this page')"
   ]
  },
  {
   "cell_type": "code",
   "execution_count": 7,
   "metadata": {},
   "outputs": [
    {
     "data": {
      "text/plain": [
       "['//upload.wikimedia.org/wikipedia/commons/thumb/a/a9/Confirmed_cases_of_COVID-19_in_Ireland_by_county.webm/220px--Confirmed_cases_of_COVID-19_in_Ireland_by_county.webm.jpg',\n",
       " '//upload.wikimedia.org/wikipedia/commons/thumb/8/8f/Confirmed_cases_of_COVID-19_per_100k_inhabitants_in_Ireland.webm/220px--Confirmed_cases_of_COVID-19_per_100k_inhabitants_in_Ireland.webm.jpg',\n",
       " '/api/rest_v1/page/graph/png/COVID-19_pandemic_in_the_Republic_of_Ireland/0/4a4c75fb1d1ff19c2d21b42abc2b0835c8e1ad12.png',\n",
       " '/api/rest_v1/page/graph/png/COVID-19_pandemic_in_the_Republic_of_Ireland/0/9d94d24c11c1ecb40d77a5d0d8fb9c558b645edf.png',\n",
       " '/api/rest_v1/page/graph/png/COVID-19_pandemic_in_the_Republic_of_Ireland/0/1309fecde84289d41061dafede8fe6631f3406fd.png',\n",
       " '/api/rest_v1/page/graph/png/COVID-19_pandemic_in_the_Republic_of_Ireland/0/ef49aa69acd8b67e55d96372774cf57a7b7700fc.png',\n",
       " '/api/rest_v1/page/graph/png/COVID-19_pandemic_in_the_Republic_of_Ireland/0/8758e4d6b9691a45073b7c0eb05c0e152887a2a9.png',\n",
       " '/api/rest_v1/page/graph/png/COVID-19_pandemic_in_the_Republic_of_Ireland/0/ebd6e5e2ae198fd765116fbca51f5e87111a48a2.png',\n",
       " '/api/rest_v1/page/graph/png/COVID-19_pandemic_in_the_Republic_of_Ireland/0/355d4a8fead212453b682614171b41897938a2da.png',\n",
       " '/api/rest_v1/page/graph/png/COVID-19_pandemic_in_the_Republic_of_Ireland/0/10429fae5ab785e1831b667cd57c1837e2e229d1.png',\n",
       " '/api/rest_v1/page/graph/png/COVID-19_pandemic_in_the_Republic_of_Ireland/0/e11f1f8f64868d5e422975be6717e9342be66ce8.png',\n",
       " '/api/rest_v1/page/graph/png/COVID-19_pandemic_in_the_Republic_of_Ireland/0/50f6aad61a2a8195a12d35a437de8ea0ebbcd3b8.png',\n",
       " '/api/rest_v1/page/graph/png/COVID-19_pandemic_in_the_Republic_of_Ireland/0/7f1678c44e5a535f8a33b88edbf9be819c53107a.png',\n",
       " '/api/rest_v1/page/graph/png/COVID-19_pandemic_in_the_Republic_of_Ireland/0/5263381c4e3ebeabf2157a73d4381182ee81ce80.png',\n",
       " '//upload.wikimedia.org/wikipedia/commons/thumb/a/a7/CoViD-19_IE.svg/440px-CoViD-19_IE.svg.png',\n",
       " '/api/rest_v1/page/graph/png/COVID-19_pandemic_in_the_Republic_of_Ireland/0/d03079a48ab27bc93af806e49216889d80e437ee.png',\n",
       " '/api/rest_v1/page/graph/png/COVID-19_pandemic_in_the_Republic_of_Ireland/0/43fdcb8fc91d4c156198e30d0a1175f25fbb37e3.png',\n",
       " '//upload.wikimedia.org/wikipedia/commons/thumb/b/b0/A_barber_shop_on_June%2C_29%2C_2020%2C_the_first_day_of_the_third_phase_of_the_lifting_of_public_health_restrictions.jpg/90px-A_barber_shop_on_June%2C_29%2C_2020%2C_the_first_day_of_the_third_phase_of_the_lifting_of_public_health_restrictions.jpg',\n",
       " '//upload.wikimedia.org/wikipedia/commons/thumb/8/8d/Shop_door_in_Ireland_during_the_2020_coronavirus_pandemic.jpg/90px-Shop_door_in_Ireland_during_the_2020_coronavirus_pandemic.jpg',\n",
       " '//upload.wikimedia.org/wikipedia/commons/thumb/c/cb/Irish_butcher_implementing_ad-hoc_social_distancing_measures_duing_the_2020_pandemic.jpg/120px-Irish_butcher_implementing_ad-hoc_social_distancing_measures_duing_the_2020_pandemic.jpg',\n",
       " '//upload.wikimedia.org/wikipedia/commons/thumb/0/0d/Irish_grocery_store_showing_a_one-way_system%2C_instructions_on_social_distancing%2C_disposable_gloves_for_shoppers%2C_and_supplies_to_clean_trolleys.jpg/120px-Irish_grocery_store_showing_a_one-way_system%2C_instructions_on_social_distancing%2C_disposable_gloves_for_shoppers%2C_and_supplies_to_clean_trolleys.jpg',\n",
       " '//upload.wikimedia.org/wikipedia/commons/thumb/4/49/Ersatz_protection_for_employees_deployed_in_a_grocery_store_during_the_2020_coronavirus_pandemic.jpg/120px-Ersatz_protection_for_employees_deployed_in_a_grocery_store_during_the_2020_coronavirus_pandemic.jpg',\n",
       " '//upload.wikimedia.org/wikipedia/commons/thumb/1/1f/Pharmacy_in_Ireland_during_the_2020_coronavirus_pandemic.jpg/120px-Pharmacy_in_Ireland_during_the_2020_coronavirus_pandemic.jpg',\n",
       " '//upload.wikimedia.org/wikipedia/commons/thumb/3/31/Queue_at_Irish_grocery_store_during_the_2020_coronavirus_pandemic.jpg/90px-Queue_at_Irish_grocery_store_during_the_2020_coronavirus_pandemic.jpg',\n",
       " '//upload.wikimedia.org/wikipedia/commons/thumb/c/c6/%22Cocooning%22_during_the_2020_coronavirus_pandemic.jpg/90px-%22Cocooning%22_during_the_2020_coronavirus_pandemic.jpg',\n",
       " '//upload.wikimedia.org/wikipedia/commons/thumb/8/8c/Bram_Stoker_Park_social_distancing_01.jpg/120px-Bram_Stoker_Park_social_distancing_01.jpg',\n",
       " '//upload.wikimedia.org/wikipedia/commons/thumb/b/b5/Porterstown_Park_in_lockdown.jpg/120px-Porterstown_Park_in_lockdown.jpg',\n",
       " '//upload.wikimedia.org/wikipedia/commons/thumb/2/22/Paramedic_wearing_PPE_mask%2C_eye_protection%2C_and_gown_in_Ireland_2020.jpg/67px-Paramedic_wearing_PPE_mask%2C_eye_protection%2C_and_gown_in_Ireland_2020.jpg',\n",
       " '//upload.wikimedia.org/wikipedia/commons/thumb/9/94/The_waiting_room_of_Connolly_Hosital_on_the_evening_of_11_April_2020._The_emptiness_is_unprecedented.jpg/120px-The_waiting_room_of_Connolly_Hosital_on_the_evening_of_11_April_2020._The_emptiness_is_unprecedented.jpg',\n",
       " '//upload.wikimedia.org/wikipedia/commons/thumb/5/5f/Pandemic_pints.jpg/120px-Pandemic_pints.jpg',\n",
       " '//upload.wikimedia.org/wikipedia/commons/thumb/3/3c/Collection_of_books_at_an_Irish_primary_school_during_the_2020_pandemic.jpg/90px-Collection_of_books_at_an_Irish_primary_school_during_the_2020_pandemic.jpg',\n",
       " '//upload.wikimedia.org/wikipedia/commons/thumb/1/16/Garda_checkpoint_during_the_2020_coronavirus_pandemic.jpg/120px-Garda_checkpoint_during_the_2020_coronavirus_pandemic.jpg',\n",
       " '//upload.wikimedia.org/wikipedia/commons/thumb/3/31/Iarnr%C3%B3d_%C3%89ireann_Irish_rail_train_social_distancing_sign_-_July_2020.jpg/120px-Iarnr%C3%B3d_%C3%89ireann_Irish_rail_train_social_distancing_sign_-_July_2020.jpg',\n",
       " '//upload.wikimedia.org/wikipedia/commons/thumb/d/dc/Supermarket_social_distancing_signs.jpg/120px-Supermarket_social_distancing_signs.jpg',\n",
       " '//upload.wikimedia.org/wikipedia/commons/thumb/2/29/First_Day_of_School.jpg/120px-First_Day_of_School.jpg',\n",
       " '//upload.wikimedia.org/wikipedia/commons/thumb/0/02/Bus_%C3%89ireann_social_distancing_signs_on_a_bus_in_October_2020.jpg/120px-Bus_%C3%89ireann_social_distancing_signs_on_a_bus_in_October_2020.jpg',\n",
       " '//upload.wikimedia.org/wikipedia/commons/thumb/4/4d/SARS-CoV-2_%28Wikimedia_colors%29.svg/21px-SARS-CoV-2_%28Wikimedia_colors%29.svg.png',\n",
       " '//upload.wikimedia.org/wikipedia/commons/thumb/6/65/Four_Provinces_Flag.svg/24px-Four_Provinces_Flag.svg.png',\n",
       " '//upload.wikimedia.org/wikipedia/commons/thumb/d/d6/WHO_Rod.svg/9px-WHO_Rod.svg.png',\n",
       " '//upload.wikimedia.org/wikipedia/commons/thumb/2/2f/Sida-aids.png/21px-Sida-aids.png',\n",
       " '//upload.wikimedia.org/wikipedia/en/thumb/4/48/Folder_Hexagonal_Icon.svg/16px-Folder_Hexagonal_Icon.svg.png',\n",
       " '//upload.wikimedia.org/wikipedia/en/thumb/f/fd/Portal-puzzle.svg/16px-Portal-puzzle.svg.png',\n",
       " '//upload.wikimedia.org/wikipedia/commons/thumb/4/4d/SARS-CoV-2_%28Wikimedia_colors%29.svg/21px-SARS-CoV-2_%28Wikimedia_colors%29.svg.png',\n",
       " '//upload.wikimedia.org/wikipedia/commons/thumb/6/65/Four_Provinces_Flag.svg/24px-Four_Provinces_Flag.svg.png',\n",
       " '//upload.wikimedia.org/wikipedia/commons/thumb/d/d6/WHO_Rod.svg/9px-WHO_Rod.svg.png',\n",
       " '//upload.wikimedia.org/wikipedia/commons/thumb/2/2f/Sida-aids.png/21px-Sida-aids.png',\n",
       " '//en.wikipedia.org/wiki/Special:CentralAutoLogin/start?type=1x1',\n",
       " '/static/images/footer/wikimedia-button.png',\n",
       " '/static/images/footer/poweredby_mediawiki_88x31.png']"
      ]
     },
     "execution_count": 7,
     "metadata": {},
     "output_type": "execute_result"
    }
   ],
   "source": [
    "images_sources = [img['src'] for img in all_images]\n",
    "images_sources"
   ]
  },
  {
   "cell_type": "markdown",
   "metadata": {},
   "source": [
    "### <font color  ='red '> when image starts with a single / it is a RELATIVE patch we need to add base url in front <br>\n",
    "\n",
    "### <font color  ='red '> if image starts with double // these are absolute paths all we need is to add 'https:' in front. "
   ]
  },
  {
   "cell_type": "code",
   "execution_count": 11,
   "metadata": {},
   "outputs": [
    {
     "name": "stdout",
     "output_type": "stream",
     "text": [
      "/220px--Confirmed_cases_of_COVID-19_in_Ireland_by_county.webm.jpg\n",
      "/220px--Confirmed_cases_of_COVID-19_per_100k_inhabitants_in_Ireland.webm.jpg\n",
      "/4a4c75fb1d1ff19c2d21b42abc2b0835c8e1ad12.png\n",
      "/9d94d24c11c1ecb40d77a5d0d8fb9c558b645edf.png\n",
      "/1309fecde84289d41061dafede8fe6631f3406fd.png\n",
      "/ef49aa69acd8b67e55d96372774cf57a7b7700fc.png\n",
      "/8758e4d6b9691a45073b7c0eb05c0e152887a2a9.png\n",
      "/ebd6e5e2ae198fd765116fbca51f5e87111a48a2.png\n",
      "/355d4a8fead212453b682614171b41897938a2da.png\n",
      "/10429fae5ab785e1831b667cd57c1837e2e229d1.png\n",
      "/e11f1f8f64868d5e422975be6717e9342be66ce8.png\n",
      "/50f6aad61a2a8195a12d35a437de8ea0ebbcd3b8.png\n",
      "/7f1678c44e5a535f8a33b88edbf9be819c53107a.png\n",
      "/5263381c4e3ebeabf2157a73d4381182ee81ce80.png\n",
      "/440px-CoViD-19_IE.svg.png\n",
      "/d03079a48ab27bc93af806e49216889d80e437ee.png\n",
      "/43fdcb8fc91d4c156198e30d0a1175f25fbb37e3.png\n",
      "/90px-A_barber_shop_on_June%2C_29%2C_2020%2C_the_first_day_of_the_third_phase_of_the_lifting_of_public_health_restrictions.jpg\n",
      "/90px-Shop_door_in_Ireland_during_the_2020_coronavirus_pandemic.jpg\n",
      "/120px-Irish_butcher_implementing_ad-hoc_social_distancing_measures_duing_the_2020_pandemic.jpg\n",
      "/120px-Irish_grocery_store_showing_a_one-way_system%2C_instructions_on_social_distancing%2C_disposable_gloves_for_shoppers%2C_and_supplies_to_clean_trolleys.jpg\n",
      "/120px-Ersatz_protection_for_employees_deployed_in_a_grocery_store_during_the_2020_coronavirus_pandemic.jpg\n",
      "/120px-Pharmacy_in_Ireland_during_the_2020_coronavirus_pandemic.jpg\n",
      "/90px-Queue_at_Irish_grocery_store_during_the_2020_coronavirus_pandemic.jpg\n",
      "/90px-%22Cocooning%22_during_the_2020_coronavirus_pandemic.jpg\n",
      "/120px-Bram_Stoker_Park_social_distancing_01.jpg\n",
      "/120px-Porterstown_Park_in_lockdown.jpg\n",
      "/67px-Paramedic_wearing_PPE_mask%2C_eye_protection%2C_and_gown_in_Ireland_2020.jpg\n",
      "/120px-The_waiting_room_of_Connolly_Hosital_on_the_evening_of_11_April_2020._The_emptiness_is_unprecedented.jpg\n",
      "/120px-Pandemic_pints.jpg\n",
      "/90px-Collection_of_books_at_an_Irish_primary_school_during_the_2020_pandemic.jpg\n",
      "/120px-Garda_checkpoint_during_the_2020_coronavirus_pandemic.jpg\n",
      "/120px-Iarnr%C3%B3d_%C3%89ireann_Irish_rail_train_social_distancing_sign_-_July_2020.jpg\n",
      "/120px-Supermarket_social_distancing_signs.jpg\n",
      "/120px-First_Day_of_School.jpg\n",
      "/120px-Bus_%C3%89ireann_social_distancing_signs_on_a_bus_in_October_2020.jpg\n",
      "/21px-SARS-CoV-2_%28Wikimedia_colors%29.svg.png\n",
      "/24px-Four_Provinces_Flag.svg.png\n",
      "/9px-WHO_Rod.svg.png\n",
      "/21px-Sida-aids.png\n",
      "/16px-Folder_Hexagonal_Icon.svg.png\n",
      "/16px-Portal-puzzle.svg.png\n",
      "/21px-SARS-CoV-2_%28Wikimedia_colors%29.svg.png\n",
      "/24px-Four_Provinces_Flag.svg.png\n",
      "/9px-WHO_Rod.svg.png\n",
      "/21px-Sida-aids.png\n",
      "/wikimedia-button.png\n",
      "/poweredby_mediawiki_88x31.png\n"
     ]
    }
   ],
   "source": [
    "# test can we extract the image names from the list of image sources \n",
    "img_regex = r'/([\\w.%-]+[.](png|gif|jpg|bmp))$'\n",
    "\n",
    "\n",
    "for source in images_sources:\n",
    "    match = re.search(img_regex,source)\n",
    "    if match:\n",
    "        print (match.group())\n",
    "   "
   ]
  },
  {
   "cell_type": "code",
   "execution_count": 19,
   "metadata": {},
   "outputs": [
    {
     "name": "stdout",
     "output_type": "stream",
     "text": [
      "Could not find an image name in http://en.wikipedia.org/wiki/Special:CentralAutoLogin/start?type=1x1\n",
      "All images are written\n"
     ]
    }
   ],
   "source": [
    "# now we have to iterate through image sources and send a request for each one of them \n",
    "\n",
    "# if an absolute path we just add http in front if not we add the base_url\n",
    "for image  in images_sources:\n",
    "    if image.startswith('//'):\n",
    "        image = 'http:' + image\n",
    "        #print(image)\n",
    "    elif image.startswith('http'):\n",
    "        pass             \n",
    "    else:\n",
    "        image = base_url + image \n",
    "        #print(image)\n",
    "        \n",
    "        \n",
    "    image_name = re.search(img_regex,image)    \n",
    "    \n",
    "    if not image_name:\n",
    "        print(f'Could not find an image name in {image}')\n",
    "        continue\n",
    "        \n",
    "        \n",
    "     # lets try to download the file and write it to the image folder \n",
    "    \n",
    "    filepath = os.path.join(foldername,image_name.group(1))\n",
    "    \n",
    "    with open (filepath,'wb') as f:\n",
    "        image_content = requests.get(image).content\n",
    "        \n",
    "        f.write(image_content)\n",
    "print('All images are written')       "
   ]
  },
  {
   "cell_type": "code",
   "execution_count": null,
   "metadata": {},
   "outputs": [],
   "source": []
  }
 ],
 "metadata": {
  "kernelspec": {
   "display_name": "Python 3",
   "language": "python",
   "name": "python3"
  },
  "language_info": {
   "codemirror_mode": {
    "name": "ipython",
    "version": 3
   },
   "file_extension": ".py",
   "mimetype": "text/x-python",
   "name": "python",
   "nbconvert_exporter": "python",
   "pygments_lexer": "ipython3",
   "version": "3.7.9"
  }
 },
 "nbformat": 4,
 "nbformat_minor": 4
}
