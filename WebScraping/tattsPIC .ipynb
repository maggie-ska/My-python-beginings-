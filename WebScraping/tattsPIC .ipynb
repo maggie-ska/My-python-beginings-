{
 "cells": [
  {
   "cell_type": "markdown",
   "metadata": {},
   "source": [
    "### Web Scrape Wikipedia example 2\n",
    "### https://en.wikipedia.org/wiki/COVID-19_pandemic_in_the_Republic_of_Ireland\n"
   ]
  },
  {
   "cell_type": "code",
   "execution_count": 1,
   "metadata": {},
   "outputs": [],
   "source": [
    "%config Completer.use_jedi = False\n",
    "\n",
    "from bs4 import BeautifulSoup\n",
    "import requests\n",
    "import re \n",
    "import os\n",
    "from textblob import TextBlob"
   ]
  },
  {
   "cell_type": "code",
   "execution_count": 2,
   "metadata": {},
   "outputs": [
    {
     "name": "stdout",
     "output_type": "stream",
     "text": [
      "Folder tatts has been created.\n"
     ]
    }
   ],
   "source": [
    "# create a folder \n",
    "\n",
    "foldername = 'tatts'\n",
    "if not os.path.exists(foldername):\n",
    "    os.makedirs(foldername)\n",
    "    print(f'Folder {foldername} has been created.')\n",
    "else:\n",
    "    print(f'Folder {foldername} already exists.')"
   ]
  },
  {
   "cell_type": "code",
   "execution_count": 3,
   "metadata": {},
   "outputs": [],
   "source": [
    "url = \"https://www.tattersalls.com/news/four-top-1-000-000-guineas-on-opening-day-of-tattersalls-october-book-1\""
   ]
  },
  {
   "cell_type": "code",
   "execution_count": 4,
   "metadata": {},
   "outputs": [
    {
     "data": {
      "text/plain": [
       "<Response [200]>"
      ]
     },
     "execution_count": 4,
     "metadata": {},
     "output_type": "execute_result"
    }
   ],
   "source": [
    "# scrape all the images and save them to a subfolder \n",
    "\n",
    "response = requests.get(url)\n",
    "response"
   ]
  },
  {
   "cell_type": "code",
   "execution_count": 5,
   "metadata": {},
   "outputs": [
    {
     "data": {
      "text/plain": [
       "'https://www.tattersalls.com'"
      ]
     },
     "execution_count": 5,
     "metadata": {},
     "output_type": "execute_result"
    }
   ],
   "source": [
    "# get the base path of the URL\n",
    "\n",
    "from urllib.parse import urlparse\n",
    "\n",
    "parsed_url = urlparse(url)\n",
    "base_url = parsed_url[0] + '://' + parsed_url[1]\n",
    "base_url\n"
   ]
  },
  {
   "cell_type": "code",
   "execution_count": 6,
   "metadata": {},
   "outputs": [
    {
     "name": "stdout",
     "output_type": "stream",
     "text": [
      "There is: 12 images on this page\n"
     ]
    }
   ],
   "source": [
    "# use beautiful soup to get all the image tags and get all the image scalar values \n",
    "\n",
    "soup = BeautifulSoup(response.content)\n",
    "#soup -> commented out so it wont print here\n",
    "\n",
    "all_images = soup.find_all('img')\n",
    "print(f'There is: {len(all_images)} images on this page')"
   ]
  },
  {
   "cell_type": "code",
   "execution_count": 7,
   "metadata": {},
   "outputs": [
    {
     "data": {
      "text/plain": [
       "['/img/logo.svg',\n",
       " '/img/social-facebook--gold.svg',\n",
       " '/img/social-twitter--gold.svg',\n",
       " '/img/social-email--gold.svg',\n",
       " 'https://www.tattersalls.com/img/news/big/2020oc1lot174.jpg',\n",
       " '/img/news/big/2020OC1Lot109.jpg',\n",
       " '/img/news/big/2020oc1lot41.jpg',\n",
       " '/img/news/big/2020oc1lot162.jpg',\n",
       " '/img/logo-icon.svg',\n",
       " '/img/newmarket/social-facebook.svg',\n",
       " '/img/newmarket/social-twitter.svg',\n",
       " '/img/newmarket/social-instagram.svg']"
      ]
     },
     "execution_count": 7,
     "metadata": {},
     "output_type": "execute_result"
    }
   ],
   "source": [
    "images_sources = [img['src'] for img in all_images]\n",
    "images_sources"
   ]
  },
  {
   "cell_type": "markdown",
   "metadata": {},
   "source": [
    "### <font color  ='red '> when image starts with a single / it is a RELATIVE patch we need to add base url in front <br>\n",
    "\n",
    "### <font color  ='red '> if image starts with double // these are absolute paths all we need is to add 'https:' in front. "
   ]
  },
  {
   "cell_type": "code",
   "execution_count": 8,
   "metadata": {},
   "outputs": [
    {
     "name": "stdout",
     "output_type": "stream",
     "text": [
      "/2020oc1lot174.jpg\n",
      "/2020OC1Lot109.jpg\n",
      "/2020oc1lot41.jpg\n",
      "/2020oc1lot162.jpg\n"
     ]
    }
   ],
   "source": [
    "# test can we extract the image names from the list of image sources \n",
    "img_regex = r'/([\\w.%-]+[.](png|gif|jpg|bmp))$'\n",
    "\n",
    "\n",
    "for source in images_sources:\n",
    "    match = re.search(img_regex,source)\n",
    "    if match:\n",
    "        print (match.group())\n",
    "   "
   ]
  },
  {
   "cell_type": "code",
   "execution_count": 9,
   "metadata": {},
   "outputs": [
    {
     "name": "stdout",
     "output_type": "stream",
     "text": [
      "Could not find an image name in https://www.tattersalls.com/img/logo.svg\n",
      "Could not find an image name in https://www.tattersalls.com/img/social-facebook--gold.svg\n",
      "Could not find an image name in https://www.tattersalls.com/img/social-twitter--gold.svg\n",
      "Could not find an image name in https://www.tattersalls.com/img/social-email--gold.svg\n",
      "Could not find an image name in https://www.tattersalls.com/img/logo-icon.svg\n",
      "Could not find an image name in https://www.tattersalls.com/img/newmarket/social-facebook.svg\n",
      "Could not find an image name in https://www.tattersalls.com/img/newmarket/social-twitter.svg\n",
      "Could not find an image name in https://www.tattersalls.com/img/newmarket/social-instagram.svg\n",
      "All images are written\n"
     ]
    }
   ],
   "source": [
    "# now we have to iterate through image sources and send a request for each one of them \n",
    "\n",
    "# if an absolute path we just add http in front if not we add the base_url\n",
    "for image  in images_sources:\n",
    "    if image.startswith('//'):\n",
    "        image = 'http:' + image\n",
    "        #print(image)\n",
    "    elif image.startswith('http'):\n",
    "        pass             \n",
    "    else:\n",
    "        image = base_url + image \n",
    "        #print(image)\n",
    "        \n",
    "        \n",
    "    image_name = re.search(img_regex,image)    \n",
    "    \n",
    "    if not image_name:\n",
    "        print(f'Could not find an image name in {image}')\n",
    "        continue\n",
    "        \n",
    "        \n",
    "     # lets try to download the file and write it to the image folder \n",
    "    \n",
    "    filepath = os.path.join(foldername,image_name.group(1))\n",
    "    \n",
    "    with open (filepath,'wb') as f:\n",
    "        image_content = requests.get(image).content\n",
    "        \n",
    "        f.write(image_content)\n",
    "print('All images are written')       "
   ]
  },
  {
   "cell_type": "code",
   "execution_count": null,
   "metadata": {},
   "outputs": [],
   "source": []
  }
 ],
 "metadata": {
  "kernelspec": {
   "display_name": "Python 3",
   "language": "python",
   "name": "python3"
  },
  "language_info": {
   "codemirror_mode": {
    "name": "ipython",
    "version": 3
   },
   "file_extension": ".py",
   "mimetype": "text/x-python",
   "name": "python",
   "nbconvert_exporter": "python",
   "pygments_lexer": "ipython3",
   "version": "3.7.9"
  }
 },
 "nbformat": 4,
 "nbformat_minor": 4
}
