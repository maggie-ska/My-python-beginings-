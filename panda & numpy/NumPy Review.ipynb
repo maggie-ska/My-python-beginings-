{
 "cells": [
  {
   "cell_type": "markdown",
   "metadata": {},
   "source": [
    "![Numpy](https://upload.wikimedia.org/wikipedia/commons/thumb/1/1a/NumPy_logo.svg/1200px-NumPy_logo.svg.png)\n",
    "\n",
    "### Numpy Review 1\n",
    "#### Numpy Atributes\n",
    "1. *dtype*\n",
    "2. *ndim* \n",
    "3. *shape*\n",
    "4. *size*\n",
    "---\n"
   ]
  },
  {
   "cell_type": "code",
   "execution_count": 2,
   "metadata": {},
   "outputs": [],
   "source": [
    "import numpy as np"
   ]
  },
  {
   "cell_type": "code",
   "execution_count": 3,
   "metadata": {},
   "outputs": [
    {
     "data": {
      "text/plain": [
       "array([[1, 2, 3, 4],\n",
       "       [5, 6, 7, 8]])"
      ]
     },
     "execution_count": 3,
     "metadata": {},
     "output_type": "execute_result"
    }
   ],
   "source": [
    "arr1 = np.array([[1,2,3,4],[5,6,7,8,]])\n",
    "arr1"
   ]
  },
  {
   "cell_type": "markdown",
   "metadata": {},
   "source": [
    "**show the data type of the ndarray**<br>\n",
    "Numpy arrays cointain homogenous data - Data of the same type.<br>\n",
    "<font color ='magenta'> We cannot have mixture of data types ( int,str,float )</font>"
   ]
  },
  {
   "cell_type": "code",
   "execution_count": 4,
   "metadata": {},
   "outputs": [
    {
     "data": {
      "text/plain": [
       "dtype('int32')"
      ]
     },
     "execution_count": 4,
     "metadata": {},
     "output_type": "execute_result"
    }
   ],
   "source": [
    "arr1.dtype"
   ]
  },
  {
   "cell_type": "markdown",
   "metadata": {},
   "source": [
    "**show the dimensions of the ndarray**<br>\n",
    "Numpy arrays can be multi-dimentional"
   ]
  },
  {
   "cell_type": "code",
   "execution_count": 6,
   "metadata": {},
   "outputs": [
    {
     "data": {
      "text/plain": [
       "2"
      ]
     },
     "execution_count": 6,
     "metadata": {},
     "output_type": "execute_result"
    }
   ],
   "source": [
    "arr1.ndim"
   ]
  },
  {
   "cell_type": "markdown",
   "metadata": {},
   "source": [
    "**show the shape of the ndarray**<br>\n",
    "Use shape to show the shape of the array<br>\n",
    "<font color = 'magenta'> Each array in the second dimention must have the same number of items</font>"
   ]
  },
  {
   "cell_type": "code",
   "execution_count": 19,
   "metadata": {},
   "outputs": [
    {
     "data": {
      "text/plain": [
       "(2, 4)"
      ]
     },
     "execution_count": 19,
     "metadata": {},
     "output_type": "execute_result"
    }
   ],
   "source": [
    "arr1.shape"
   ]
  },
  {
   "cell_type": "markdown",
   "metadata": {},
   "source": [
    "**show the size of the ndarray**<br>\n",
    "Show how many elements are in the array<br>\n",
    "<font color = 'magenta'> doesnt matter what shape the array is</font>"
   ]
  },
  {
   "cell_type": "code",
   "execution_count": 21,
   "metadata": {},
   "outputs": [
    {
     "data": {
      "text/plain": [
       "8"
      ]
     },
     "execution_count": 21,
     "metadata": {},
     "output_type": "execute_result"
    }
   ],
   "source": [
    "arr1.size"
   ]
  },
  {
   "cell_type": "markdown",
   "metadata": {},
   "source": [
    "**show the amout of memory being used for each element in  ndarray**<br>\n",
    "This is the number of bytes that each value takes up in memory <br>\n",
    "<font color = 'magenta'> different data types use diferent amount of memory  is</font>"
   ]
  },
  {
   "cell_type": "code",
   "execution_count": 22,
   "metadata": {},
   "outputs": [
    {
     "data": {
      "text/plain": [
       "4"
      ]
     },
     "execution_count": 22,
     "metadata": {},
     "output_type": "execute_result"
    }
   ],
   "source": [
    "arr1.itemsize"
   ]
  },
  {
   "cell_type": "markdown",
   "metadata": {},
   "source": [
    "### Numpy Review 2\n",
    "#### Filling an NumPy array with values\n",
    "1. *arange*\n",
    "2. *random numbers* \n",
    "3. *linspace*\n",
    "4. *zeros*\n",
    "3. *full*\n",
    "4. *reshape vs resize*\n",
    "---\n"
   ]
  },
  {
   "cell_type": "code",
   "execution_count": 29,
   "metadata": {},
   "outputs": [
    {
     "name": "stdout",
     "output_type": "stream",
     "text": [
      "[   0    2    4    6    8   10   12   14   16   18   20   22   24   26\n",
      "   28   30   32   34   36   38   40   42   44   46   48   50   52   54\n",
      "   56   58   60   62   64   66   68   70   72   74   76   78   80   82\n",
      "   84   86   88   90   92   94   96   98  100  102  104  106  108  110\n",
      "  112  114  116  118  120  122  124  126  128  130  132  134  136  138\n",
      "  140  142  144  146  148  150  152  154  156  158  160  162  164  166\n",
      "  168  170  172  174  176  178  180  182  184  186  188  190  192  194\n",
      "  196  198  200  202  204  206  208  210  212  214  216  218  220  222\n",
      "  224  226  228  230  232  234  236  238  240  242  244  246  248  250\n",
      "  252  254  256  258  260  262  264  266  268  270  272  274  276  278\n",
      "  280  282  284  286  288  290  292  294  296  298  300  302  304  306\n",
      "  308  310  312  314  316  318  320  322  324  326  328  330  332  334\n",
      "  336  338  340  342  344  346  348  350  352  354  356  358  360  362\n",
      "  364  366  368  370  372  374  376  378  380  382  384  386  388  390\n",
      "  392  394  396  398  400  402  404  406  408  410  412  414  416  418\n",
      "  420  422  424  426  428  430  432  434  436  438  440  442  444  446\n",
      "  448  450  452  454  456  458  460  462  464  466  468  470  472  474\n",
      "  476  478  480  482  484  486  488  490  492  494  496  498  500  502\n",
      "  504  506  508  510  512  514  516  518  520  522  524  526  528  530\n",
      "  532  534  536  538  540  542  544  546  548  550  552  554  556  558\n",
      "  560  562  564  566  568  570  572  574  576  578  580  582  584  586\n",
      "  588  590  592  594  596  598  600  602  604  606  608  610  612  614\n",
      "  616  618  620  622  624  626  628  630  632  634  636  638  640  642\n",
      "  644  646  648  650  652  654  656  658  660  662  664  666  668  670\n",
      "  672  674  676  678  680  682  684  686  688  690  692  694  696  698\n",
      "  700  702  704  706  708  710  712  714  716  718  720  722  724  726\n",
      "  728  730  732  734  736  738  740  742  744  746  748  750  752  754\n",
      "  756  758  760  762  764  766  768  770  772  774  776  778  780  782\n",
      "  784  786  788  790  792  794  796  798  800  802  804  806  808  810\n",
      "  812  814  816  818  820  822  824  826  828  830  832  834  836  838\n",
      "  840  842  844  846  848  850  852  854  856  858  860  862  864  866\n",
      "  868  870  872  874  876  878  880  882  884  886  888  890  892  894\n",
      "  896  898  900  902  904  906  908  910  912  914  916  918  920  922\n",
      "  924  926  928  930  932  934  936  938  940  942  944  946  948  950\n",
      "  952  954  956  958  960  962  964  966  968  970  972  974  976  978\n",
      "  980  982  984  986  988  990  992  994  996  998 1000]\n",
      "There is 501 elements in this array, all the elements are of type int32\n"
     ]
    }
   ],
   "source": [
    "# even numbers from 1 to 100\n",
    "arr2 = np.arange(0,1001,2)\n",
    "print(arr2)\n",
    "print (f'There is {arr2.size} elements in this array, all the elements are of type {arr2.dtype}')"
   ]
  },
  {
   "cell_type": "code",
   "execution_count": 39,
   "metadata": {},
   "outputs": [
    {
     "data": {
      "text/plain": [
       "array([[ 0,  1,  2,  3,  4,  5,  6,  7,  8,  9],\n",
       "       [10, 11, 12, 13, 14, 15, 16, 17, 18, 19],\n",
       "       [20, 21, 22, 23, 24, 25, 26, 27, 28, 29],\n",
       "       [30, 31, 32, 33, 34, 35, 36, 37, 38, 39],\n",
       "       [40, 41, 42, 43, 44, 45, 46, 47, 48, 49]])"
      ]
     },
     "execution_count": 39,
     "metadata": {},
     "output_type": "execute_result"
    }
   ],
   "source": [
    "# create an array and reshape it\n",
    "arr3 = np.arange(0,50).reshape(5,10)\n",
    "arr3    "
   ]
  },
  {
   "cell_type": "code",
   "execution_count": 42,
   "metadata": {},
   "outputs": [
    {
     "name": "stdout",
     "output_type": "stream",
     "text": [
      "[ 0  1  2  3  4  5  6  7  8  9 10 11 12 13 14 15 16 17 18 19 20 21 22 23\n",
      " 24 25 26 27 28 29 30 31 32 33 34 35 36 37 38 39 40 41 42 43 44 45 46 47\n",
      " 48 49]\n"
     ]
    }
   ],
   "source": [
    "# flatten the array \n",
    "print(arr3.flatten())\n"
   ]
  },
  {
   "cell_type": "code",
   "execution_count": 50,
   "metadata": {},
   "outputs": [
    {
     "name": "stdout",
     "output_type": "stream",
     "text": [
      "[[1 1 1 1 1]\n",
      " [1 1 1 1 1]\n",
      " [1 1 1 1 1]\n",
      " [1 1 1 1 1]\n",
      " [1 1 1 1 1]\n",
      " [1 1 1 1 1]\n",
      " [1 1 1 1 1]\n",
      " [1 1 1 1 1]\n",
      " [1 1 1 1 1]\n",
      " [1 1 1 1 1]]\n",
      "2\n",
      "50\n",
      "int32\n",
      "4\n"
     ]
    }
   ],
   "source": [
    "ones1 = np.ones(50,dtype = int).reshape(10,5)\n",
    "print(ones1)\n",
    "print(ones1.ndim)\n",
    "print(ones1.size)\n",
    "print(ones1.dtype)\n",
    "print(ones1.itemsize)"
   ]
  },
  {
   "cell_type": "code",
   "execution_count": 56,
   "metadata": {},
   "outputs": [
    {
     "data": {
      "text/plain": [
       "array([0., 0., 0., 0., 0., 0., 0., 0., 0., 0.])"
      ]
     },
     "execution_count": 56,
     "metadata": {},
     "output_type": "execute_result"
    }
   ],
   "source": [
    "zeros1=np.zeros(10)\n",
    "zeros1"
   ]
  },
  {
   "cell_type": "code",
   "execution_count": 54,
   "metadata": {},
   "outputs": [
    {
     "data": {
      "text/plain": [
       "array([[1, 1, 1, 1, 1],\n",
       "       [1, 1, 1, 1, 1],\n",
       "       [1, 1, 1, 1, 1],\n",
       "       [1, 1, 1, 1, 1],\n",
       "       [1, 1, 1, 1, 1],\n",
       "       [1, 1, 1, 1, 1],\n",
       "       [1, 1, 1, 1, 1],\n",
       "       [1, 1, 1, 1, 1],\n",
       "       [1, 1, 1, 1, 1],\n",
       "       [1, 1, 1, 1, 1]])"
      ]
     },
     "execution_count": 54,
     "metadata": {},
     "output_type": "execute_result"
    }
   ],
   "source": [
    "# as default they come as floats\n",
    "ones1 = np.ones(50 ,dtype = int).reshape(10,5)\n",
    "ones1"
   ]
  },
  {
   "cell_type": "code",
   "execution_count": 57,
   "metadata": {},
   "outputs": [
    {
     "data": {
      "text/plain": [
       "array([1.  , 2.75, 4.5 , 6.25, 8.  ])"
      ]
     },
     "execution_count": 57,
     "metadata": {},
     "output_type": "execute_result"
    }
   ],
   "source": [
    "#he will equally devide into 5 nums and allign them\n",
    "nums = np.linspace(1,8,num = 5) \n",
    "nums"
   ]
  },
  {
   "cell_type": "code",
   "execution_count": 59,
   "metadata": {},
   "outputs": [
    {
     "name": "stdout",
     "output_type": "stream",
     "text": [
      "[0.41371821 0.27308117 0.03114901 0.14198654 0.03669419 0.22134309\n",
      " 0.24639618 0.64665316 0.05928353 0.36768918 0.62871743 0.24438495\n",
      " 0.73575063 0.21744553 0.44802789 0.2363131  0.62087602 0.10281805\n",
      " 0.081003   0.09401075 0.42943962 0.83690034 0.58112464 0.24375232\n",
      " 0.31435725 0.55553563 0.36129212 0.44601437 0.22520429 0.85652054]\n",
      "***********************\n",
      "[1.66650183e+01 5.22738607e+00 1.24441142e+01 5.47908342e+00\n",
      " 8.50731836e+00 1.99975752e+01 1.38780342e+01 1.65658259e+01\n",
      " 1.10726237e+01 1.74949653e-02 6.32946640e+00 1.85877980e+01\n",
      " 1.63264577e+01 1.22269842e+01 1.73736554e+01 1.44967512e+01\n",
      " 1.96907171e+01 7.79593448e+00 2.70396221e+00 1.48713393e+01\n",
      " 1.19244997e+00 1.70963385e+01 1.67209492e+01 9.58461783e+00\n",
      " 1.97840481e-01 1.33977266e+01 5.06415516e+00 1.61724993e+01\n",
      " 1.31210167e+01 1.94596410e+00]\n"
     ]
    }
   ],
   "source": [
    "# 30 random numbers between 0.0 - 1.0\n",
    "floats1 = np.random.rand(30)\n",
    "print(floats1)\n",
    "print('***********************')\n",
    "# 30 random numbers between 0 - 20\n",
    "floats2 = np.random.rand(30)*20\n",
    "print(floats2)"
   ]
  },
  {
   "cell_type": "code",
   "execution_count": 61,
   "metadata": {},
   "outputs": [
    {
     "name": "stdout",
     "output_type": "stream",
     "text": [
      "[ 8 98  2 51  3 37 15 96 67 16 23 78 20 29 80 34 71 23 30  2 52 64 51 47\n",
      " 37 45 70 90  1 71]\n"
     ]
    }
   ],
   "source": [
    "# 30 random integers from 1 to 1-100\n",
    "ints1 = np.random.randint(1,101,30)\n",
    "print(ints1)"
   ]
  },
  {
   "cell_type": "code",
   "execution_count": 63,
   "metadata": {},
   "outputs": [
    {
     "data": {
      "text/plain": [
       "array([12, 12,  7, 14,  2,  3,  4,  4, 13,  1])"
      ]
     },
     "execution_count": 63,
     "metadata": {},
     "output_type": "execute_result"
    }
   ],
   "source": [
    "#seed the random number generator \n",
    "np.random.seed(12)\n",
    "ints2 = np.random.randint(1,15,10)\n",
    "ints2"
   ]
  },
  {
   "cell_type": "code",
   "execution_count": 66,
   "metadata": {},
   "outputs": [
    {
     "data": {
      "text/plain": [
       "array([[134,  56, 123,  95],\n",
       "       [ 80,  82,  77, 109],\n",
       "       [139, 109, 138, 129],\n",
       "       [ 75, 147, 106,  54],\n",
       "       [146, 118, 115,  94],\n",
       "       [ 87, 125, 118, 103]])"
      ]
     },
     "execution_count": 66,
     "metadata": {},
     "output_type": "execute_result"
    }
   ],
   "source": [
    "x= np.random.randint(50,151,24).reshape(6,4)\n",
    "x"
   ]
  },
  {
   "cell_type": "code",
   "execution_count": 80,
   "metadata": {},
   "outputs": [
    {
     "data": {
      "text/plain": [
       "array([[142, 107, 111, 139],\n",
       "       [134, 131, 103, 148],\n",
       "       [134, 142, 129, 137],\n",
       "       [110, 128, 128, 120],\n",
       "       [145, 103, 146, 147],\n",
       "       [128, 116, 141, 117]])"
      ]
     },
     "execution_count": 80,
     "metadata": {},
     "output_type": "execute_result"
    }
   ],
   "source": [
    "# \n",
    "y = np.random.randint(100,151,size = (6,4))\n",
    "y"
   ]
  },
  {
   "cell_type": "code",
   "execution_count": 81,
   "metadata": {},
   "outputs": [
    {
     "data": {
      "text/plain": [
       "array([[[0, 4],\n",
       "        [0, 2],\n",
       "        [0, 1]],\n",
       "\n",
       "       [[1, 2],\n",
       "        [1, 3],\n",
       "        [2, 0]]])"
      ]
     },
     "execution_count": 81,
     "metadata": {},
     "output_type": "execute_result"
    }
   ],
   "source": [
    "# 2x3 array with random ints between 0-4\n",
    "z = np.random.randint(5,size = (2,3,2))\n",
    "z"
   ]
  },
  {
   "cell_type": "code",
   "execution_count": 82,
   "metadata": {},
   "outputs": [
    {
     "data": {
      "text/plain": [
       "array([0, 4, 0, 2, 0, 1, 1, 2, 1, 3, 2, 0])"
      ]
     },
     "execution_count": 82,
     "metadata": {},
     "output_type": "execute_result"
    }
   ],
   "source": [
    "# getting 1d array\n",
    "z_flatten=z.reshape(-1)\n",
    "z_flatten"
   ]
  },
  {
   "cell_type": "code",
   "execution_count": null,
   "metadata": {},
   "outputs": [],
   "source": []
  }
 ],
 "metadata": {
  "kernelspec": {
   "display_name": "Python 3",
   "language": "python",
   "name": "python3"
  },
  "language_info": {
   "codemirror_mode": {
    "name": "ipython",
    "version": 3
   },
   "file_extension": ".py",
   "mimetype": "text/x-python",
   "name": "python",
   "nbconvert_exporter": "python",
   "pygments_lexer": "ipython3",
   "version": "3.7.9"
  }
 },
 "nbformat": 4,
 "nbformat_minor": 4
}
