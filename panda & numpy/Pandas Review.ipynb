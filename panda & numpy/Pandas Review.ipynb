{
 "cells": [
  {
   "cell_type": "markdown",
   "metadata": {},
   "source": [
    "![Pandas](python-pandas.png)\n",
    "\n",
    "## Pandas review 1\n",
    "1. *basic series*\n",
    "2. *custom indexes*\n",
    "3. *using identifiers to retreve data*\n",
    "4. *statistics*\n",
    "5. *describe*\n",
    "\n",
    "---"
   ]
  },
  {
   "cell_type": "code",
   "execution_count": 34,
   "metadata": {},
   "outputs": [],
   "source": [
    "import pandas as pd"
   ]
  },
  {
   "cell_type": "code",
   "execution_count": 35,
   "metadata": {},
   "outputs": [
    {
     "name": "stdout",
     "output_type": "stream",
     "text": [
      "0     87\n",
      "1    100\n",
      "2     94\n",
      "3    100\n",
      "4     98\n",
      "dtype: int64\n",
      "<class 'pandas.core.series.Series'>\n"
     ]
    }
   ],
   "source": [
    "# panda series are one - dimension arrays .The axis labels are collectively called index.\n",
    "numbers = pd.Series([87,100,94,100,98])\n",
    "print(numbers)\n",
    "print(type(numbers))"
   ]
  },
  {
   "cell_type": "code",
   "execution_count": 36,
   "metadata": {},
   "outputs": [
    {
     "data": {
      "text/plain": [
       "0     10.5\n",
       "1     10.5\n",
       "2     10.5\n",
       "3     10.5\n",
       "4     10.5\n",
       "5     10.5\n",
       "6     10.5\n",
       "7     10.5\n",
       "8     10.5\n",
       "9     10.5\n",
       "10    10.5\n",
       "dtype: float64"
      ]
     },
     "execution_count": 36,
     "metadata": {},
     "output_type": "execute_result"
    }
   ],
   "source": [
    "numbers2 = pd.Series(10.5,range(11))\n",
    "numbers2"
   ]
  },
  {
   "cell_type": "code",
   "execution_count": 37,
   "metadata": {},
   "outputs": [
    {
     "data": {
      "text/plain": [
       "A     apple\n",
       "B      kiwi\n",
       "C      pear\n",
       "D    banana\n",
       "dtype: object"
      ]
     },
     "execution_count": 37,
     "metadata": {},
     "output_type": "execute_result"
    }
   ],
   "source": [
    "#define indexies\n",
    "fruits = pd.Series(['apple','kiwi','pear','banana'] , index =[ 'A','B','C','D'])\n",
    "fruits"
   ]
  },
  {
   "cell_type": "code",
   "execution_count": 38,
   "metadata": {},
   "outputs": [
    {
     "name": "stdout",
     "output_type": "stream",
     "text": [
      "pear\n",
      "pear\n",
      "pear\n"
     ]
    }
   ],
   "source": [
    "print(fruits[2])\n",
    "print(fruits['C'])\n",
    "print(fruits.C)"
   ]
  },
  {
   "cell_type": "code",
   "execution_count": 39,
   "metadata": {},
   "outputs": [
    {
     "data": {
      "text/plain": [
       "A           apple\n",
       "B            kiwi\n",
       "C            pear\n",
       "D    Dragon Fruit\n",
       "dtype: object"
      ]
     },
     "execution_count": 39,
     "metadata": {},
     "output_type": "execute_result"
    }
   ],
   "source": [
    "fruits.D ='Dragon Fruit'\n",
    "fruits"
   ]
  },
  {
   "cell_type": "code",
   "execution_count": 40,
   "metadata": {},
   "outputs": [
    {
     "name": "stdout",
     "output_type": "stream",
     "text": [
      "{'Tom': 60, 'Mary': 55, 'Sue': 20, 'Johnny': 13, 'Ben': 55, 'Henry': 20}\n",
      "Tom       60\n",
      "Mary      55\n",
      "Sue       20\n",
      "Johnny    13\n",
      "Ben       55\n",
      "Henry     20\n",
      "dtype: int64\n"
     ]
    }
   ],
   "source": [
    "#create pandas series using dictionary \n",
    "people = {'Tom':60,'Mary':55,'Sue':20,'Johnny':13,'Ben':55,'Henry':20}\n",
    "print(people)\n",
    "\n",
    "#in pandas keys become indexes automatically\n",
    "staff = pd.Series(people)\n",
    "print(staff)"
   ]
  },
  {
   "cell_type": "code",
   "execution_count": 41,
   "metadata": {},
   "outputs": [
    {
     "name": "stdout",
     "output_type": "stream",
     "text": [
      "60\n",
      "44\n"
     ]
    }
   ],
   "source": [
    "print(staff.Tom)\n",
    "staff.Tom = 44\n",
    "print(staff.Tom)"
   ]
  },
  {
   "cell_type": "code",
   "execution_count": 42,
   "metadata": {},
   "outputs": [
    {
     "name": "stdout",
     "output_type": "stream",
     "text": [
      "{'Tom': 60, 'Mary': 55, 'Sue': 20, 'Johnny': 13, 'Ben': 55, 'Henry': 20}\n"
     ]
    }
   ],
   "source": [
    "print (people)"
   ]
  },
  {
   "cell_type": "code",
   "execution_count": 43,
   "metadata": {},
   "outputs": [
    {
     "name": "stdout",
     "output_type": "stream",
     "text": [
      "[44 55 20 13 55 20]\n",
      "<class 'numpy.ndarray'>\n",
      "Index(['Tom', 'Mary', 'Sue', 'Johnny', 'Ben', 'Henry'], dtype='object')\n",
      "<class 'pandas.core.series.Series'>\n"
     ]
    }
   ],
   "source": [
    "#get all the values from series as an ndarray\n",
    "ages = staff.values\n",
    "print(ages)\n",
    "print(type(ages))\n",
    "indexes = staff.index\n",
    "print(indexes)\n",
    "print(type(staff))\n",
    "      "
   ]
  },
  {
   "cell_type": "code",
   "execution_count": 44,
   "metadata": {},
   "outputs": [
    {
     "name": "stdout",
     "output_type": "stream",
     "text": [
      "34.5\n",
      "0    20\n",
      "1    55\n",
      "dtype: int64\n",
      "13\n",
      "55\n",
      "6\n",
      "19.044684297724654\n",
      "362.7\n"
     ]
    }
   ],
   "source": [
    "# statistics\n",
    "# 2 mode values \n",
    "print(staff.mean())\n",
    "print(staff.mode())\n",
    "print(staff.min())\n",
    "print(staff.max())\n",
    "print(staff.count())\n",
    "print(staff.std())\n",
    "print(staff.var())\n"
   ]
  },
  {
   "cell_type": "code",
   "execution_count": 45,
   "metadata": {},
   "outputs": [
    {
     "name": "stdout",
     "output_type": "stream",
     "text": [
      "count     6.000000\n",
      "mean     34.500000\n",
      "std      19.044684\n",
      "min      13.000000\n",
      "25%      20.000000\n",
      "50%      32.000000\n",
      "75%      52.250000\n",
      "max      55.000000\n",
      "dtype: float64\n"
     ]
    }
   ],
   "source": [
    "print(staff.describe())"
   ]
  },
  {
   "cell_type": "code",
   "execution_count": 46,
   "metadata": {},
   "outputs": [
    {
     "name": "stdout",
     "output_type": "stream",
     "text": [
      "         Name  Age   Salary\n",
      "Person1   Tom   34  25000.0\n",
      "Person2  Paul   56  34000.0\n",
      "Person3  Luke   25  22000.0\n"
     ]
    }
   ],
   "source": [
    "# Make a dataframe from 3 series (string, ints, float) and try concat on axis 1 and 0\n",
    "series1 = pd.Series([\"Tom\",\"Paul\",\"Luke\"],name=\"Name\")\n",
    "series2 = pd.Series([34,56,25],name=\"Age\")\n",
    "series3 = pd.Series([25000,34000,22000],name=\"Salary\",dtype=float)\n",
    "employees = pd.concat([series1,series2,series3],axis=1)\n",
    "# Change the df indexes \n",
    "employees.index = [\"Person1\",\"Person2\",\"Person3\"]\n",
    "print(employees)\n",
    "\n"
   ]
  },
  {
   "cell_type": "code",
   "execution_count": 47,
   "metadata": {},
   "outputs": [
    {
     "name": "stdout",
     "output_type": "stream",
     "text": [
      "Name       Paul\n",
      "Age          56\n",
      "Salary    34000\n",
      "Name: Person2, dtype: object\n",
      "object\n",
      "Paul\n"
     ]
    },
    {
     "data": {
      "text/plain": [
       "(None, str)"
      ]
     },
     "execution_count": 47,
     "metadata": {},
     "output_type": "execute_result"
    }
   ],
   "source": [
    "# Get the value of the cell with 'Paul' in it and show the data type\n",
    "print(employees.loc['Person2'])\n",
    "print(employees.loc['Person2'].dtype)\n",
    "print(employees.at['Person2','Name']),type(employees.at['Person2','Name'])"
   ]
  },
  {
   "cell_type": "code",
   "execution_count": 48,
   "metadata": {},
   "outputs": [
    {
     "data": {
      "text/html": [
       "<div>\n",
       "<style scoped>\n",
       "    .dataframe tbody tr th:only-of-type {\n",
       "        vertical-align: middle;\n",
       "    }\n",
       "\n",
       "    .dataframe tbody tr th {\n",
       "        vertical-align: top;\n",
       "    }\n",
       "\n",
       "    .dataframe thead th {\n",
       "        text-align: right;\n",
       "    }\n",
       "</style>\n",
       "<table border=\"1\" class=\"dataframe\">\n",
       "  <thead>\n",
       "    <tr style=\"text-align: right;\">\n",
       "      <th></th>\n",
       "      <th>Name</th>\n",
       "      <th>Age</th>\n",
       "      <th>Salary</th>\n",
       "    </tr>\n",
       "  </thead>\n",
       "  <tbody>\n",
       "    <tr>\n",
       "      <th>Person1</th>\n",
       "      <td>Tom</td>\n",
       "      <td>34</td>\n",
       "      <td>25000.0</td>\n",
       "    </tr>\n",
       "  </tbody>\n",
       "</table>\n",
       "</div>"
      ],
      "text/plain": [
       "        Name  Age   Salary\n",
       "Person1  Tom   34  25000.0"
      ]
     },
     "execution_count": 48,
     "metadata": {},
     "output_type": "execute_result"
    }
   ],
   "source": [
    "# Get the value if the cell with 34 in it and show the data type\n",
    "cell34 = employees['Age'] ==34\n",
    "employees.loc[cell34]\n"
   ]
  },
  {
   "cell_type": "code",
   "execution_count": 49,
   "metadata": {},
   "outputs": [
    {
     "name": "stdout",
     "output_type": "stream",
     "text": [
      "22000.0\n"
     ]
    },
    {
     "data": {
      "text/plain": [
       "(None, numpy.float64)"
      ]
     },
     "execution_count": 49,
     "metadata": {},
     "output_type": "execute_result"
    }
   ],
   "source": [
    "# Get the value if the cell with 22000.0 in it and show the data type\n",
    "print(employees.at['Person3','Salary']),type(employees.at['Person3','Salary'])"
   ]
  },
  {
   "cell_type": "code",
   "execution_count": 50,
   "metadata": {},
   "outputs": [
    {
     "name": "stdout",
     "output_type": "stream",
     "text": [
      "Tom\n",
      "<class 'str'>\n"
     ]
    }
   ],
   "source": [
    "print(employees.Name.Person1)\n",
    "print(type(employees.Name.Person1))"
   ]
  },
  {
   "cell_type": "markdown",
   "metadata": {},
   "source": [
    "#### change the value at the specific cell"
   ]
  },
  {
   "cell_type": "code",
   "execution_count": 51,
   "metadata": {},
   "outputs": [
    {
     "data": {
      "text/html": [
       "<div>\n",
       "<style scoped>\n",
       "    .dataframe tbody tr th:only-of-type {\n",
       "        vertical-align: middle;\n",
       "    }\n",
       "\n",
       "    .dataframe tbody tr th {\n",
       "        vertical-align: top;\n",
       "    }\n",
       "\n",
       "    .dataframe thead th {\n",
       "        text-align: right;\n",
       "    }\n",
       "</style>\n",
       "<table border=\"1\" class=\"dataframe\">\n",
       "  <thead>\n",
       "    <tr style=\"text-align: right;\">\n",
       "      <th></th>\n",
       "      <th>Name</th>\n",
       "      <th>Age</th>\n",
       "      <th>Salary</th>\n",
       "      <th>Name</th>\n",
       "    </tr>\n",
       "  </thead>\n",
       "  <tbody>\n",
       "    <tr>\n",
       "      <th>Person1</th>\n",
       "      <td>Tom</td>\n",
       "      <td>34</td>\n",
       "      <td>25000.0</td>\n",
       "      <td>NaN</td>\n",
       "    </tr>\n",
       "    <tr>\n",
       "      <th>Person2</th>\n",
       "      <td>Paul</td>\n",
       "      <td>56</td>\n",
       "      <td>34000.0</td>\n",
       "      <td>NaN</td>\n",
       "    </tr>\n",
       "    <tr>\n",
       "      <th>Person3</th>\n",
       "      <td>Luke</td>\n",
       "      <td>25</td>\n",
       "      <td>22000.0</td>\n",
       "      <td>Lucas</td>\n",
       "    </tr>\n",
       "  </tbody>\n",
       "</table>\n",
       "</div>"
      ],
      "text/plain": [
       "         Name  Age   Salary  Name \n",
       "Person1   Tom   34  25000.0    NaN\n",
       "Person2  Paul   56  34000.0    NaN\n",
       "Person3  Luke   25  22000.0  Lucas"
      ]
     },
     "execution_count": 51,
     "metadata": {},
     "output_type": "execute_result"
    }
   ],
   "source": [
    "employees.at['Person3','Name '] = 'Lucas'\n",
    "#employees.Salary.Person2 =35000 <-----this is the copy so i cannot reasign new value\n",
    "employees"
   ]
  },
  {
   "cell_type": "code",
   "execution_count": 53,
   "metadata": {},
   "outputs": [
    {
     "data": {
      "text/plain": [
       "pandas.core.series.Series"
      ]
     },
     "execution_count": 53,
     "metadata": {},
     "output_type": "execute_result"
    }
   ],
   "source": [
    "type(employees.Age)"
   ]
  },
  {
   "cell_type": "code",
   "execution_count": 54,
   "metadata": {},
   "outputs": [
    {
     "data": {
      "text/plain": [
       "count     3.000000\n",
       "mean     38.333333\n",
       "std      15.947832\n",
       "min      25.000000\n",
       "25%      29.500000\n",
       "50%      34.000000\n",
       "75%      45.000000\n",
       "max      56.000000\n",
       "Name: Age, dtype: float64"
      ]
     },
     "execution_count": 54,
     "metadata": {},
     "output_type": "execute_result"
    }
   ],
   "source": [
    "employees.Age.describe()"
   ]
  },
  {
   "cell_type": "code",
   "execution_count": 55,
   "metadata": {},
   "outputs": [
    {
     "data": {
      "text/html": [
       "<div>\n",
       "<style scoped>\n",
       "    .dataframe tbody tr th:only-of-type {\n",
       "        vertical-align: middle;\n",
       "    }\n",
       "\n",
       "    .dataframe tbody tr th {\n",
       "        vertical-align: top;\n",
       "    }\n",
       "\n",
       "    .dataframe thead th {\n",
       "        text-align: right;\n",
       "    }\n",
       "</style>\n",
       "<table border=\"1\" class=\"dataframe\">\n",
       "  <thead>\n",
       "    <tr style=\"text-align: right;\">\n",
       "      <th></th>\n",
       "      <th>Age</th>\n",
       "    </tr>\n",
       "  </thead>\n",
       "  <tbody>\n",
       "    <tr>\n",
       "      <th>count</th>\n",
       "      <td>3.000000</td>\n",
       "    </tr>\n",
       "    <tr>\n",
       "      <th>mean</th>\n",
       "      <td>38.333333</td>\n",
       "    </tr>\n",
       "    <tr>\n",
       "      <th>std</th>\n",
       "      <td>15.947832</td>\n",
       "    </tr>\n",
       "    <tr>\n",
       "      <th>min</th>\n",
       "      <td>25.000000</td>\n",
       "    </tr>\n",
       "    <tr>\n",
       "      <th>25%</th>\n",
       "      <td>29.500000</td>\n",
       "    </tr>\n",
       "    <tr>\n",
       "      <th>50%</th>\n",
       "      <td>34.000000</td>\n",
       "    </tr>\n",
       "    <tr>\n",
       "      <th>75%</th>\n",
       "      <td>45.000000</td>\n",
       "    </tr>\n",
       "    <tr>\n",
       "      <th>max</th>\n",
       "      <td>56.000000</td>\n",
       "    </tr>\n",
       "  </tbody>\n",
       "</table>\n",
       "</div>"
      ],
      "text/plain": [
       "             Age\n",
       "count   3.000000\n",
       "mean   38.333333\n",
       "std    15.947832\n",
       "min    25.000000\n",
       "25%    29.500000\n",
       "50%    34.000000\n",
       "75%    45.000000\n",
       "max    56.000000"
      ]
     },
     "execution_count": 55,
     "metadata": {},
     "output_type": "execute_result"
    }
   ],
   "source": [
    "employees.loc[:,['Age']].describe()"
   ]
  },
  {
   "cell_type": "code",
   "execution_count": null,
   "metadata": {},
   "outputs": [],
   "source": []
  }
 ],
 "metadata": {
  "kernelspec": {
   "display_name": "Python 3",
   "language": "python",
   "name": "python3"
  },
  "language_info": {
   "codemirror_mode": {
    "name": "ipython",
    "version": 3
   },
   "file_extension": ".py",
   "mimetype": "text/x-python",
   "name": "python",
   "nbconvert_exporter": "python",
   "pygments_lexer": "ipython3",
   "version": "3.7.9"
  }
 },
 "nbformat": 4,
 "nbformat_minor": 4
}
