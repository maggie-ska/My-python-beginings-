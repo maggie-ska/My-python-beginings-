{
 "cells": [
  {
   "cell_type": "markdown",
   "metadata": {},
   "source": [
    "**Reading CSV data with NumPy**"
   ]
  },
  {
   "cell_type": "code",
   "execution_count": 19,
   "metadata": {},
   "outputs": [],
   "source": [
    "import numpy as np"
   ]
  },
  {
   "cell_type": "code",
   "execution_count": 20,
   "metadata": {},
   "outputs": [
    {
     "name": "stdout",
     "output_type": "stream",
     "text": [
      "Type <class 'numpy.ndarray'>\n",
      "Dimentions 2\n",
      "Size 2532\n",
      "Shape (211, 12)\n",
      "\n",
      "First row: [      0  435160     233   14797       9   22891  397472    9279    1315\n",
      "      45 2226116    6725] \n",
      "\n",
      "\n",
      "Second row: [     0 152446   4226  15238    446  52165  85043   7069   3261    326\n",
      " 355000   7593] \n",
      "\n",
      "\n",
      "Third row: [     0 139422      0  17669      0  26491  95262   3693   2306    292\n",
      " 807125  13349] \n",
      "\n"
     ]
    }
   ],
   "source": [
    "# we can add ,encoding ,skip header = TRUE , filling values , dtype \n",
    "records = np.genfromtxt('covid_stats_april.csv',delimiter = ';',encoding ='utf-8-sig',skip_header = True,\n",
    "                       filling_values = 0.0, dtype = 'int')\n",
    "\n",
    "print('Type', type(records))\n",
    "print('Dimentions',records.ndim)\n",
    "print('Size', records.size)\n",
    "print('Shape', records.shape)\n",
    "\n",
    "if np.isnan(records[0,0]):\n",
    "    print('Item at index[0,0] is not a number (nan)')\n",
    "print('\\nFirst row:',records[0], '\\n')\n",
    "print('\\nSecond row:',records[1], '\\n')\n",
    "print('\\nThird row:',records[2], '\\n')"
   ]
  },
  {
   "cell_type": "markdown",
   "metadata": {},
   "source": [
    "**calculate the mean,sum,min and max of all the data points in the records array**"
   ]
  },
  {
   "cell_type": "code",
   "execution_count": 21,
   "metadata": {},
   "outputs": [
    {
     "name": "stdout",
     "output_type": "stream",
     "text": [
      "Mean:6359.299 Sum:16101745 MIN:0 MAX:2226116\n"
     ]
    }
   ],
   "source": [
    "print(f'Mean: {records.mean():.3f} Sum: {records.sum()} MIN: {records.min()} MAX: {records.max()}')"
   ]
  },
  {
   "cell_type": "code",
   "execution_count": 23,
   "metadata": {},
   "outputs": [
    {
     "name": "stdout",
     "output_type": "stream",
     "text": [
      "Mean: [0.00000000e+00 7.26274408e+03 6.86208531e+01 4.25194313e+02\n",
      " 5.97630332e+00 1.59938863e+03 5.23816114e+03 2.28601896e+02\n",
      " 5.01421801e+02 1.86682464e+01 5.58238152e+04 5.13899526e+03]\n",
      "Sum: [       0  1532439    14479    89716     1261   337471  1105252    48235\n",
      "   105800     3939 11778825  1084328]\n",
      "MIN: [0 1 0 0 0 0 0 0 0 0 0 0]\n",
      "MAX: [      0  435160    4226   17669     446   77370  397472    9279    9988\n",
      "    1002 2226116  108446]\n"
     ]
    }
   ],
   "source": [
    "#to do it for a column specify axis = 0 ,for row axis = 1\n",
    "print(f'Mean: {records.mean(axis=0)}\\nSum: {records.sum(axis=0)}\\nMIN: {records.min(axis=0)}\\nMAX: {records.max(axis=0)}')"
   ]
  },
  {
   "cell_type": "markdown",
   "metadata": {},
   "source": [
    "**use slicing to get all the data for 'Total Cases' column (index1)**"
   ]
  },
  {
   "cell_type": "code",
   "execution_count": 30,
   "metadata": {},
   "outputs": [
    {
     "name": "stdout",
     "output_type": "stream",
     "text": [
      "[435160 152446 139422 113296 112950  81865  64586  60733  38226  24983\n",
      "  23612  21762  19438  16238  13141  13105  10423  10131   9755   9141\n",
      "   6237   6104   6074   6042   5635   5546   5341   5335   5202   4667\n",
      "   4450   4414   4342   4228   4076   3293   3181   3034   2932   2666\n",
      "   2659   2605   2528   2423   2376   2111   2054   1892   1884   1845\n",
      "   1795   1623   1616   1572   1560   1407   1346   1239   1207   1202\n",
      "   1174   1124   1066    980    974    955    921    910    855    841\n",
      "    822    764    730    712    701    663    628    611    589    582\n",
      "    564    555    526    502    484    457    457    456    414    409\n",
      "    384    380    362    358    351    343    342    337    330    313\n",
      "    308    280    276    273    264    263    255    252    250    214\n",
      "    189    184    184    180    179    171    167    164    154    141\n",
      "    135    135    124    120    117    110    107    103     93     87\n",
      "     83     81     78     77     70     63     63     60     59     56\n",
      "     53     51     45     45     43     40     39     39     37     34\n",
      "     33     33     32     31     30     26     25     22     21     19\n",
      "     19     19     19     18     18     17     16     16     16     15\n",
      "     15     14     14     14     13     12     12     12     11     11\n",
      "     11     11     10     10      9      9      9      8      8      8\n",
      "      8      8      8      7      7      7      6      6      5      5\n",
      "      4      4      4      3      3      3      2      2      2      1\n",
      "      1]\n",
      "Total cases 1532439\n"
     ]
    }
   ],
   "source": [
    "col_index1 = records[:,1]\n",
    "print(col_index1)\n",
    "print('Total cases:',col_index1.sum())\n"
   ]
  },
  {
   "cell_type": "code",
   "execution_count": null,
   "metadata": {},
   "outputs": [],
   "source": []
  }
 ],
 "metadata": {
  "kernelspec": {
   "display_name": "Python 3",
   "language": "python",
   "name": "python3"
  },
  "language_info": {
   "codemirror_mode": {
    "name": "ipython",
    "version": 3
   },
   "file_extension": ".py",
   "mimetype": "text/x-python",
   "name": "python",
   "nbconvert_exporter": "python",
   "pygments_lexer": "ipython3",
   "version": "3.7.9"
  }
 },
 "nbformat": 4,
 "nbformat_minor": 4
}
