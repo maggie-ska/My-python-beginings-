{
 "cells": [
  {
   "cell_type": "code",
   "execution_count": 1,
   "metadata": {},
   "outputs": [],
   "source": [
    "import pandas as pd"
   ]
  },
  {
   "cell_type": "code",
   "execution_count": 3,
   "metadata": {},
   "outputs": [],
   "source": [
    "density = [\n",
    "    {'Country': 'China', 'Density (P/Km2)': 153 },\n",
    "    {'Country': 'United States', 'Density (P/Km2)': 36 },\n",
    "    {'Country': 'India', 'Density (P/Km2)': 464 },\n",
    "    {'Country': 'Indonesia', 'Density (P/Km2)': 151 },\n",
    "    {'Country': 'Pakistan', 'Density (P/Km2)': 287 }\n",
    "]\n",
    "\n",
    "stats = [\n",
    "    {'Country': 'China', 'Total Cases':83102,'Population':1_439_323_776},\n",
    "    {'Country': 'USA', 'Total Cases':2162228,'Population': 330_917_584},\n",
    "    {'Country': 'Indonesia', 'Total Cases':38277,'Population': 273_389_783},\n",
    "    {'Country': 'Pakistan', 'Total Cases':139230,'Population': 220_673_722}\n",
    "]"
   ]
  },
  {
   "cell_type": "code",
   "execution_count": 7,
   "metadata": {},
   "outputs": [
    {
     "data": {
      "text/plain": [
       "0      83102\n",
       "1    2162228\n",
       "2      38277\n",
       "3     139230\n",
       "Name: Total Cases, dtype: int64"
      ]
     },
     "execution_count": 7,
     "metadata": {},
     "output_type": "execute_result"
    }
   ],
   "source": [
    "df_den= pd.DataFrame(density)\n",
    "df_stats = pd.DataFrame(stats)\n",
    "df_stats['Total Cases']"
   ]
  },
  {
   "cell_type": "code",
   "execution_count": 17,
   "metadata": {},
   "outputs": [],
   "source": [
    "# add a column to the DF \n",
    "# we can use pd.assign -> this method creates a new DF\n",
    "\n",
    "df_den = df_den.assign(Date = '08-07-2020', Time = '11:35')"
   ]
  },
  {
   "cell_type": "code",
   "execution_count": 18,
   "metadata": {},
   "outputs": [
    {
     "data": {
      "text/plain": [
       "Country            object\n",
       "Density (P/Km2)     int64\n",
       "Date               object\n",
       "Time               object\n",
       "dtype: object"
      ]
     },
     "execution_count": 18,
     "metadata": {},
     "output_type": "execute_result"
    }
   ],
   "source": [
    "df_den.dtypes"
   ]
  },
  {
   "cell_type": "code",
   "execution_count": 19,
   "metadata": {},
   "outputs": [
    {
     "data": {
      "text/html": [
       "<div>\n",
       "<style scoped>\n",
       "    .dataframe tbody tr th:only-of-type {\n",
       "        vertical-align: middle;\n",
       "    }\n",
       "\n",
       "    .dataframe tbody tr th {\n",
       "        vertical-align: top;\n",
       "    }\n",
       "\n",
       "    .dataframe thead th {\n",
       "        text-align: right;\n",
       "    }\n",
       "</style>\n",
       "<table border=\"1\" class=\"dataframe\">\n",
       "  <thead>\n",
       "    <tr style=\"text-align: right;\">\n",
       "      <th></th>\n",
       "      <th>Country</th>\n",
       "      <th>Density (P/Km2)</th>\n",
       "      <th>Date</th>\n",
       "      <th>Time</th>\n",
       "    </tr>\n",
       "  </thead>\n",
       "  <tbody>\n",
       "    <tr>\n",
       "      <th>0</th>\n",
       "      <td>China</td>\n",
       "      <td>153</td>\n",
       "      <td>08-07-2020</td>\n",
       "      <td>11:35</td>\n",
       "    </tr>\n",
       "    <tr>\n",
       "      <th>1</th>\n",
       "      <td>United States</td>\n",
       "      <td>36</td>\n",
       "      <td>08-07-2020</td>\n",
       "      <td>11:35</td>\n",
       "    </tr>\n",
       "    <tr>\n",
       "      <th>2</th>\n",
       "      <td>India</td>\n",
       "      <td>464</td>\n",
       "      <td>08-07-2020</td>\n",
       "      <td>11:35</td>\n",
       "    </tr>\n",
       "    <tr>\n",
       "      <th>3</th>\n",
       "      <td>Indonesia</td>\n",
       "      <td>151</td>\n",
       "      <td>08-07-2020</td>\n",
       "      <td>11:35</td>\n",
       "    </tr>\n",
       "    <tr>\n",
       "      <th>4</th>\n",
       "      <td>Pakistan</td>\n",
       "      <td>287</td>\n",
       "      <td>08-07-2020</td>\n",
       "      <td>11:35</td>\n",
       "    </tr>\n",
       "  </tbody>\n",
       "</table>\n",
       "</div>"
      ],
      "text/plain": [
       "         Country  Density (P/Km2)        Date   Time\n",
       "0          China              153  08-07-2020  11:35\n",
       "1  United States               36  08-07-2020  11:35\n",
       "2          India              464  08-07-2020  11:35\n",
       "3      Indonesia              151  08-07-2020  11:35\n",
       "4       Pakistan              287  08-07-2020  11:35"
      ]
     },
     "execution_count": 19,
     "metadata": {},
     "output_type": "execute_result"
    }
   ],
   "source": [
    "df_den"
   ]
  },
  {
   "cell_type": "code",
   "execution_count": 20,
   "metadata": {},
   "outputs": [
    {
     "data": {
      "text/plain": [
       "Timestamp('2020-08-07 00:00:00')"
      ]
     },
     "execution_count": 20,
     "metadata": {},
     "output_type": "execute_result"
    }
   ],
   "source": [
    "# use pd.to_datetime to make a date object from the string'08/07/2020'\n",
    "pd.to_datetime('08/07/2020')\n",
    "# this will return timestamp object \n",
    "# and will assume the american date format mm/dd/yy"
   ]
  },
  {
   "cell_type": "code",
   "execution_count": 23,
   "metadata": {},
   "outputs": [
    {
     "data": {
      "text/plain": [
       "Timestamp('2020-07-08 00:00:00')"
      ]
     },
     "execution_count": 23,
     "metadata": {},
     "output_type": "execute_result"
    }
   ],
   "source": [
    "pd.to_datetime('08/07/2020',format = '%d/%m/%Y')"
   ]
  },
  {
   "cell_type": "code",
   "execution_count": 24,
   "metadata": {},
   "outputs": [
    {
     "data": {
      "text/plain": [
       "Timestamp('2020-06-14 00:00:00')"
      ]
     },
     "execution_count": 24,
     "metadata": {},
     "output_type": "execute_result"
    }
   ],
   "source": [
    "pd.to_datetime('14-6-20',format = '%d-%m-%y')"
   ]
  },
  {
   "cell_type": "code",
   "execution_count": 45,
   "metadata": {},
   "outputs": [
    {
     "data": {
      "text/plain": [
       "Timestamp('2020-06-14 00:00:00')"
      ]
     },
     "execution_count": 45,
     "metadata": {},
     "output_type": "execute_result"
    }
   ],
   "source": [
    "# adding a literal string as a year parameter \n",
    "day_month = '14-6'\n",
    "pd.to_datetime(day_month +'20',format = '%d-%m%y')\n"
   ]
  },
  {
   "cell_type": "code",
   "execution_count": 51,
   "metadata": {},
   "outputs": [
    {
     "name": "stdout",
     "output_type": "stream",
     "text": [
      "2020-06-14 00:00:00\n",
      "2020-03-03 00:00:00\n",
      "2020-03-02 00:00:00\n"
     ]
    }
   ],
   "source": [
    "# Try to make a date from '140620','2020-3-3' and '2 3 2020'\n",
    "print(pd.to_datetime('140620',format = '%d%m%y'))\n",
    "print(pd.to_datetime('2020-3-3',format = '%Y-%m-%d'))\n",
    "print(pd.to_datetime('2 3 2020',format = '%d %m %Y'))"
   ]
  },
  {
   "cell_type": "code",
   "execution_count": 52,
   "metadata": {},
   "outputs": [
    {
     "data": {
      "text/plain": [
       "pandas._libs.tslibs.timestamps.Timestamp"
      ]
     },
     "execution_count": 52,
     "metadata": {},
     "output_type": "execute_result"
    }
   ],
   "source": [
    "# 08/07/2020\n",
    "today = pd.to_datetime(\"08/07/2020\", format = '%d/%m/%Y')\n",
    "type(today)"
   ]
  },
  {
   "cell_type": "code",
   "execution_count": 53,
   "metadata": {},
   "outputs": [
    {
     "name": "stdout",
     "output_type": "stream",
     "text": [
      "7\n",
      "8\n",
      "2020\n",
      "28\n"
     ]
    }
   ],
   "source": [
    "# So what can we do with Timestamp (like a datetime object)\n",
    "# We can get the day, month, year etc from Timestamp object\n",
    "# Using various properties of the Timestamp object\n",
    "print(today.month) # month property\n",
    "print(today.day) # day property\n",
    "print(today.year) # week property\n",
    "print(today.week)"
   ]
  },
  {
   "cell_type": "code",
   "execution_count": 54,
   "metadata": {},
   "outputs": [
    {
     "data": {
      "text/plain": [
       "True"
      ]
     },
     "execution_count": 54,
     "metadata": {},
     "output_type": "execute_result"
    }
   ],
   "source": [
    "pd.Timestamp.today() == pd.Timestamp.now() "
   ]
  },
  {
   "cell_type": "code",
   "execution_count": 63,
   "metadata": {},
   "outputs": [
    {
     "name": "stdout",
     "output_type": "stream",
     "text": [
      "Wednesday\n",
      "2020-07-08 13:18:16.918830\n"
     ]
    }
   ],
   "source": [
    "print(pd.Timestamp.today().day_name() )\n",
    "print(pd.Timestamp.now() )"
   ]
  },
  {
   "cell_type": "code",
   "execution_count": 60,
   "metadata": {},
   "outputs": [
    {
     "data": {
      "text/plain": [
       "Timestamp('2020-07-08 00:00:00')"
      ]
     },
     "execution_count": 60,
     "metadata": {},
     "output_type": "execute_result"
    }
   ],
   "source": [
    "pd.Timestamp.today().normalize()"
   ]
  },
  {
   "cell_type": "code",
   "execution_count": 61,
   "metadata": {},
   "outputs": [
    {
     "data": {
      "text/plain": [
       "Timestamp('2020-07-08 00:00:00')"
      ]
     },
     "execution_count": 61,
     "metadata": {},
     "output_type": "execute_result"
    }
   ],
   "source": [
    "pd.Timestamp.today().floor('D')"
   ]
  },
  {
   "cell_type": "code",
   "execution_count": 66,
   "metadata": {},
   "outputs": [],
   "source": [
    "# adding a date column to the stats DF\n",
    "today= pd.to_datetime('8/7/2020', format = '%d/%m/%Y')\n",
    "df_stats=df_stats.assign(Date = today)"
   ]
  },
  {
   "cell_type": "code",
   "execution_count": 67,
   "metadata": {},
   "outputs": [
    {
     "data": {
      "text/html": [
       "<div>\n",
       "<style scoped>\n",
       "    .dataframe tbody tr th:only-of-type {\n",
       "        vertical-align: middle;\n",
       "    }\n",
       "\n",
       "    .dataframe tbody tr th {\n",
       "        vertical-align: top;\n",
       "    }\n",
       "\n",
       "    .dataframe thead th {\n",
       "        text-align: right;\n",
       "    }\n",
       "</style>\n",
       "<table border=\"1\" class=\"dataframe\">\n",
       "  <thead>\n",
       "    <tr style=\"text-align: right;\">\n",
       "      <th></th>\n",
       "      <th>Country</th>\n",
       "      <th>Total Cases</th>\n",
       "      <th>Population</th>\n",
       "      <th>Date</th>\n",
       "    </tr>\n",
       "  </thead>\n",
       "  <tbody>\n",
       "    <tr>\n",
       "      <th>0</th>\n",
       "      <td>China</td>\n",
       "      <td>83102</td>\n",
       "      <td>1439323776</td>\n",
       "      <td>2020-07-08</td>\n",
       "    </tr>\n",
       "    <tr>\n",
       "      <th>1</th>\n",
       "      <td>USA</td>\n",
       "      <td>2162228</td>\n",
       "      <td>330917584</td>\n",
       "      <td>2020-07-08</td>\n",
       "    </tr>\n",
       "    <tr>\n",
       "      <th>2</th>\n",
       "      <td>Indonesia</td>\n",
       "      <td>38277</td>\n",
       "      <td>273389783</td>\n",
       "      <td>2020-07-08</td>\n",
       "    </tr>\n",
       "    <tr>\n",
       "      <th>3</th>\n",
       "      <td>Pakistan</td>\n",
       "      <td>139230</td>\n",
       "      <td>220673722</td>\n",
       "      <td>2020-07-08</td>\n",
       "    </tr>\n",
       "  </tbody>\n",
       "</table>\n",
       "</div>"
      ],
      "text/plain": [
       "     Country  Total Cases  Population       Date\n",
       "0      China        83102  1439323776 2020-07-08\n",
       "1        USA      2162228   330917584 2020-07-08\n",
       "2  Indonesia        38277   273389783 2020-07-08\n",
       "3   Pakistan       139230   220673722 2020-07-08"
      ]
     },
     "execution_count": 67,
     "metadata": {},
     "output_type": "execute_result"
    }
   ],
   "source": [
    "df_stats"
   ]
  },
  {
   "cell_type": "code",
   "execution_count": null,
   "metadata": {},
   "outputs": [],
   "source": []
  }
 ],
 "metadata": {
  "kernelspec": {
   "display_name": "Python 3",
   "language": "python",
   "name": "python3"
  },
  "language_info": {
   "codemirror_mode": {
    "name": "ipython",
    "version": 3
   },
   "file_extension": ".py",
   "mimetype": "text/x-python",
   "name": "python",
   "nbconvert_exporter": "python",
   "pygments_lexer": "ipython3",
   "version": "3.7.9"
  }
 },
 "nbformat": 4,
 "nbformat_minor": 4
}
