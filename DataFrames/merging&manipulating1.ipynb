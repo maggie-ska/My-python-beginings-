{
 "cells": [
  {
   "cell_type": "code",
   "execution_count": 33,
   "metadata": {},
   "outputs": [
    {
     "data": {
      "text/plain": [
       "Index(['Country', 'Total Cases', 'New Cases', 'Total Deaths', 'New Deaths',\n",
       "       'Total Recovered', 'Active Cases', 'Serious/Critical',\n",
       "       'Total Cases/ 1M pop', 'Total Deaths per 1M pop'],\n",
       "      dtype='object')"
      ]
     },
     "execution_count": 33,
     "metadata": {},
     "output_type": "execute_result"
    }
   ],
   "source": [
    "import pandas as pd\n",
    "# Create three df's for the coronavirus data for the 23-3, 23-4 and 23-5 excel sheets \n",
    "my_file = pd.ExcelFile('Coronavirus_Data.xlsx')\n",
    "df_3 =pd.read_excel(my_file,sheet_name= '23-3',skipfooter = 1)\n",
    "df_4 =pd.read_excel(my_file,sheet_name= '23-4',skipfooter = 1)\n",
    "df_5 =pd.read_excel(my_file,sheet_name= '23-5',skipfooter = 1)\n",
    "\n",
    "#they are different rows and different columns \n",
    "#rename 'Country,' column to  'Country' in two first sheets\n",
    "df_3.rename(columns ={'Country,':'Country'},inplace = True)\n",
    "df_4.rename(columns ={'Country,':'Country'},inplace = True)\n",
    "df_3.columns"
   ]
  },
  {
   "cell_type": "code",
   "execution_count": 34,
   "metadata": {},
   "outputs": [
    {
     "name": "stdout",
     "output_type": "stream",
     "text": [
      "Index(['Country', 'Total Cases', 'New Cases', 'Total Deaths', 'New Deaths',\n",
      "       'Total Recovered', 'Active Cases', 'Serious/Critical',\n",
      "       'Total Cases/ 1M pop', 'Total Deaths/ 1M pop', 'Total Tests',\n",
      "       'Tests/1M pop', 'Notes'],\n",
      "      dtype='object')\n"
     ]
    }
   ],
   "source": [
    "print(df_4.columns)\n",
    "df_4.rename(columns ={'Total Deaths per 1M pop':'Total Deaths/ 1M pop'},inplace = True)"
   ]
  },
  {
   "cell_type": "code",
   "execution_count": 35,
   "metadata": {},
   "outputs": [
    {
     "data": {
      "text/plain": [
       "Index(['Country', 'Total Cases', 'New Cases', 'Total Deaths', 'New Deaths',\n",
       "       'Total Recovered', 'Active Cases', 'Serious/Critical',\n",
       "       'Total Cases/ 1M pop', 'Total Deaths/ 1M pop', 'Total Tests',\n",
       "       'Tests/1M pop', 'Population'],\n",
       "      dtype='object')"
      ]
     },
     "execution_count": 35,
     "metadata": {},
     "output_type": "execute_result"
    }
   ],
   "source": [
    "df_5.columns"
   ]
  },
  {
   "cell_type": "code",
   "execution_count": 43,
   "metadata": {},
   "outputs": [],
   "source": [
    "# Add a datetime/Timestamp column for the date that corresponds to the sheet name\n",
    "df_3=df_3.assign(Date = pd.to_datetime ('23/3/2020', format = '%d/%m/%Y'))\n",
    "df_4=df_4.assign(Date = pd.to_datetime ('23/4/2020', format = '%d/%m/%Y'))\n",
    "df_5=df_5.assign(Date = pd.to_datetime ('23/5/2020', format = '%d/%m/%Y'))"
   ]
  },
  {
   "cell_type": "code",
   "execution_count": 40,
   "metadata": {},
   "outputs": [],
   "source": [
    "# Then merged.concatenate the 3 df's in to one single new df\n",
    "merged=pd.concat([df_3,df_4,df_5],ignore_index=True)"
   ]
  },
  {
   "cell_type": "code",
   "execution_count": 41,
   "metadata": {},
   "outputs": [
    {
     "data": {
      "text/html": [
       "<div>\n",
       "<style scoped>\n",
       "    .dataframe tbody tr th:only-of-type {\n",
       "        vertical-align: middle;\n",
       "    }\n",
       "\n",
       "    .dataframe tbody tr th {\n",
       "        vertical-align: top;\n",
       "    }\n",
       "\n",
       "    .dataframe thead th {\n",
       "        text-align: right;\n",
       "    }\n",
       "</style>\n",
       "<table border=\"1\" class=\"dataframe\">\n",
       "  <thead>\n",
       "    <tr style=\"text-align: right;\">\n",
       "      <th></th>\n",
       "      <th>Country</th>\n",
       "      <th>Total Cases</th>\n",
       "      <th>New Cases</th>\n",
       "      <th>Total Deaths</th>\n",
       "      <th>New Deaths</th>\n",
       "      <th>Total Recovered</th>\n",
       "      <th>Active Cases</th>\n",
       "      <th>Serious/Critical</th>\n",
       "      <th>Total Cases/ 1M pop</th>\n",
       "      <th>Total Deaths per 1M pop</th>\n",
       "      <th>Date</th>\n",
       "      <th>Total Deaths/ 1M pop</th>\n",
       "      <th>Total Tests</th>\n",
       "      <th>Tests/1M pop</th>\n",
       "      <th>Notes</th>\n",
       "      <th>Population</th>\n",
       "    </tr>\n",
       "  </thead>\n",
       "  <tbody>\n",
       "    <tr>\n",
       "      <th>16</th>\n",
       "      <td>Sweden</td>\n",
       "      <td>2046</td>\n",
       "      <td>112.0</td>\n",
       "      <td>27.0</td>\n",
       "      <td>6.0</td>\n",
       "      <td>16.0</td>\n",
       "      <td>2003.0</td>\n",
       "      <td>104.0</td>\n",
       "      <td>203.0</td>\n",
       "      <td>3.0</td>\n",
       "      <td>2020-03-23</td>\n",
       "      <td>NaN</td>\n",
       "      <td>NaN</td>\n",
       "      <td>NaN</td>\n",
       "      <td>NaN</td>\n",
       "      <td>NaN</td>\n",
       "    </tr>\n",
       "    <tr>\n",
       "      <th>215</th>\n",
       "      <td>Sweden</td>\n",
       "      <td>16755</td>\n",
       "      <td>751.0</td>\n",
       "      <td>2021.0</td>\n",
       "      <td>84.0</td>\n",
       "      <td>550.0</td>\n",
       "      <td>14184.0</td>\n",
       "      <td>533.0</td>\n",
       "      <td>1659.0</td>\n",
       "      <td>NaN</td>\n",
       "      <td>2020-04-23</td>\n",
       "      <td>200.0</td>\n",
       "      <td>94500.0</td>\n",
       "      <td>9357.0</td>\n",
       "      <td>NaN</td>\n",
       "      <td>NaN</td>\n",
       "    </tr>\n",
       "    <tr>\n",
       "      <th>431</th>\n",
       "      <td>Sweden</td>\n",
       "      <td>33188</td>\n",
       "      <td>379.0</td>\n",
       "      <td>3992.0</td>\n",
       "      <td>67.0</td>\n",
       "      <td>4971.0</td>\n",
       "      <td>24225.0</td>\n",
       "      <td>265.0</td>\n",
       "      <td>3288.0</td>\n",
       "      <td>NaN</td>\n",
       "      <td>2020-05-23</td>\n",
       "      <td>396.0</td>\n",
       "      <td>209900.0</td>\n",
       "      <td>20797.0</td>\n",
       "      <td>NaN</td>\n",
       "      <td>10092714.0</td>\n",
       "    </tr>\n",
       "  </tbody>\n",
       "</table>\n",
       "</div>"
      ],
      "text/plain": [
       "    Country  Total Cases  New Cases  Total Deaths  New Deaths  \\\n",
       "16   Sweden         2046      112.0          27.0         6.0   \n",
       "215  Sweden        16755      751.0        2021.0        84.0   \n",
       "431  Sweden        33188      379.0        3992.0        67.0   \n",
       "\n",
       "     Total Recovered  Active Cases  Serious/Critical  Total Cases/ 1M pop  \\\n",
       "16              16.0        2003.0             104.0                203.0   \n",
       "215            550.0       14184.0             533.0               1659.0   \n",
       "431           4971.0       24225.0             265.0               3288.0   \n",
       "\n",
       "     Total Deaths per 1M pop       Date  Total Deaths/ 1M pop  Total Tests  \\\n",
       "16                       3.0 2020-03-23                   NaN          NaN   \n",
       "215                      NaN 2020-04-23                 200.0      94500.0   \n",
       "431                      NaN 2020-05-23                 396.0     209900.0   \n",
       "\n",
       "     Tests/1M pop  Notes  Population  \n",
       "16            NaN    NaN         NaN  \n",
       "215        9357.0    NaN         NaN  \n",
       "431       20797.0    NaN  10092714.0  "
      ]
     },
     "execution_count": 41,
     "metadata": {},
     "output_type": "execute_result"
    }
   ],
   "source": [
    "# Using the new merged df show the rows for \"Ireland\"\n",
    "df_ire = merged[merged['Country']=='Ireland']\n",
    "# Using the new merged df show the rows for \"Sweden\"\n",
    "df_swe = merged[merged['Country']=='Sweden']\n",
    "df_swe"
   ]
  },
  {
   "cell_type": "code",
   "execution_count": 42,
   "metadata": {},
   "outputs": [
    {
     "data": {
      "image/png": "[encoded data removed]",
      "text/plain": [
       "<Figure size 432x288 with 1 Axes>"
      ]
     },
     "metadata": {
      "needs_background": "light"
     },
     "output_type": "display_data"
    }
   ],
   "source": [
    "# Draw plots (plt.plt - line plot) of the dates vs total cases for \"Ireland\" and \"Sweeden\"\n",
    "\n",
    "import matplotlib.pyplot as plt\n",
    "%matplotlib inline\n",
    "\n",
    "plt.plot(df_ire['Date'],df_ire['Total Cases'],label = 'Ireland')\n",
    "plt.plot(df_swe['Date'],df_swe['Total Cases'],label = 'Sweden')\n",
    "\n",
    "plt.xticks(ticks= df_ire['Date'])\n",
    "plt.legend()\n",
    "plt.show()"
   ]
  },
  {
   "cell_type": "code",
   "execution_count": null,
   "metadata": {},
   "outputs": [],
   "source": []
  }
 ],
 "metadata": {
  "kernelspec": {
   "display_name": "Python 3",
   "language": "python",
   "name": "python3"
  },
  "language_info": {
   "codemirror_mode": {
    "name": "ipython",
    "version": 3
   },
   "file_extension": ".py",
   "mimetype": "text/x-python",
   "name": "python",
   "nbconvert_exporter": "python",
   "pygments_lexer": "ipython3",
   "version": "3.7.6"
  }
 },
 "nbformat": 4,
 "nbformat_minor": 4
}
