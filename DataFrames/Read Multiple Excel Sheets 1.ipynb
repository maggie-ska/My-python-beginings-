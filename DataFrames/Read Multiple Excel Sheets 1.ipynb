{
 "cells": [
  {
   "cell_type": "code",
   "execution_count": 99,
   "metadata": {},
   "outputs": [],
   "source": [
    "import pandas as pd"
   ]
  },
  {
   "cell_type": "code",
   "execution_count": 100,
   "metadata": {},
   "outputs": [],
   "source": [
    "# Make an object that contains the details of the excel sheets in an excel file.\n",
    "xls = pd.ExcelFile(\"Coronavirus data.xlsx\")"
   ]
  },
  {
   "cell_type": "code",
   "execution_count": 101,
   "metadata": {},
   "outputs": [
    {
     "data": {
      "text/plain": [
       "list"
      ]
     },
     "execution_count": 101,
     "metadata": {},
     "output_type": "execute_result"
    }
   ],
   "source": [
    "# This return a list of the excel sheet names in the Excel File\n",
    "type(xls.sheet_names)"
   ]
  },
  {
   "cell_type": "code",
   "execution_count": 102,
   "metadata": {},
   "outputs": [
    {
     "data": {
      "text/plain": [
       "98"
      ]
     },
     "execution_count": 102,
     "metadata": {},
     "output_type": "execute_result"
    }
   ],
   "source": [
    "# How many sheets are in the excel file?\n",
    "len(xls.sheet_names)"
   ]
  },
  {
   "cell_type": "code",
   "execution_count": 103,
   "metadata": {},
   "outputs": [
    {
     "name": "stdout",
     "output_type": "stream",
     "text": [
      "The third last sheet is called:  12-6\n"
     ]
    }
   ],
   "source": [
    "# Get the 3rd last sheet name in the excel file\n",
    "print(\"The third last sheet is called: \" , xls.sheet_names[-3])"
   ]
  },
  {
   "cell_type": "code",
   "execution_count": 104,
   "metadata": {},
   "outputs": [
    {
     "name": "stdout",
     "output_type": "stream",
     "text": [
      "Index of '19-3' in the sheet_names list is:  10\n"
     ]
    }
   ],
   "source": [
    "# Find the index of the value \"19-3\" in the xls.sheet_names list\n",
    "# list.index(<value) returns the index where the value is first found in the list\n",
    "# If the value is not found a ValueError is raised\n",
    "try:\n",
    "    index = xls.sheet_names.index(\"19-3\")\n",
    "    print(\"Index of '19-3' in the sheet_names list is: \", index)\n",
    "except ValueError: # Catching a sepcific exception\n",
    "    print(\"The value was not found in the list of sheet_names\")"
   ]
  },
  {
   "cell_type": "code",
   "execution_count": 105,
   "metadata": {},
   "outputs": [
    {
     "data": {
      "text/html": [
       "<div>\n",
       "<style scoped>\n",
       "    .dataframe tbody tr th:only-of-type {\n",
       "        vertical-align: middle;\n",
       "    }\n",
       "\n",
       "    .dataframe tbody tr th {\n",
       "        vertical-align: top;\n",
       "    }\n",
       "\n",
       "    .dataframe thead tr th {\n",
       "        text-align: left;\n",
       "    }\n",
       "</style>\n",
       "<table border=\"1\" class=\"dataframe\">\n",
       "  <thead>\n",
       "    <tr>\n",
       "      <th></th>\n",
       "      <th>Country,</th>\n",
       "      <th>Total</th>\n",
       "      <th>New</th>\n",
       "      <th>Total</th>\n",
       "      <th>New</th>\n",
       "      <th>Total</th>\n",
       "      <th>Active</th>\n",
       "      <th>Serious,</th>\n",
       "      <th>Tot Cases/</th>\n",
       "    </tr>\n",
       "    <tr>\n",
       "      <th></th>\n",
       "      <th>Other</th>\n",
       "      <th>Cases</th>\n",
       "      <th>Cases</th>\n",
       "      <th>Deaths</th>\n",
       "      <th>Deaths</th>\n",
       "      <th>Recovered</th>\n",
       "      <th>Cases</th>\n",
       "      <th>Critical</th>\n",
       "      <th>1M pop</th>\n",
       "    </tr>\n",
       "  </thead>\n",
       "  <tbody>\n",
       "    <tr>\n",
       "      <th>0</th>\n",
       "      <td>China</td>\n",
       "      <td>80928</td>\n",
       "      <td>34.0</td>\n",
       "      <td>3245.0</td>\n",
       "      <td>8.0</td>\n",
       "      <td>70420.0</td>\n",
       "      <td>7263</td>\n",
       "      <td>2274.0</td>\n",
       "      <td>56.00</td>\n",
       "    </tr>\n",
       "    <tr>\n",
       "      <th>1</th>\n",
       "      <td>Italy</td>\n",
       "      <td>41035</td>\n",
       "      <td>5322.0</td>\n",
       "      <td>3405.0</td>\n",
       "      <td>427.0</td>\n",
       "      <td>4440.0</td>\n",
       "      <td>33190</td>\n",
       "      <td>2498.0</td>\n",
       "      <td>679.00</td>\n",
       "    </tr>\n",
       "    <tr>\n",
       "      <th>2</th>\n",
       "      <td>Iran</td>\n",
       "      <td>18407</td>\n",
       "      <td>1046.0</td>\n",
       "      <td>1284.0</td>\n",
       "      <td>149.0</td>\n",
       "      <td>5979.0</td>\n",
       "      <td>11144</td>\n",
       "      <td>NaN</td>\n",
       "      <td>219.00</td>\n",
       "    </tr>\n",
       "    <tr>\n",
       "      <th>3</th>\n",
       "      <td>Spain</td>\n",
       "      <td>18077</td>\n",
       "      <td>3308.0</td>\n",
       "      <td>831.0</td>\n",
       "      <td>193.0</td>\n",
       "      <td>1107.0</td>\n",
       "      <td>16139</td>\n",
       "      <td>939.0</td>\n",
       "      <td>387.00</td>\n",
       "    </tr>\n",
       "    <tr>\n",
       "      <th>4</th>\n",
       "      <td>Germany</td>\n",
       "      <td>15320</td>\n",
       "      <td>2993.0</td>\n",
       "      <td>44.0</td>\n",
       "      <td>16.0</td>\n",
       "      <td>115.0</td>\n",
       "      <td>15161</td>\n",
       "      <td>2.0</td>\n",
       "      <td>183.00</td>\n",
       "    </tr>\n",
       "    <tr>\n",
       "      <th>...</th>\n",
       "      <td>...</td>\n",
       "      <td>...</td>\n",
       "      <td>...</td>\n",
       "      <td>...</td>\n",
       "      <td>...</td>\n",
       "      <td>...</td>\n",
       "      <td>...</td>\n",
       "      <td>...</td>\n",
       "      <td>...</td>\n",
       "    </tr>\n",
       "    <tr>\n",
       "      <th>176</th>\n",
       "      <td>Somalia</td>\n",
       "      <td>1</td>\n",
       "      <td>NaN</td>\n",
       "      <td>NaN</td>\n",
       "      <td>NaN</td>\n",
       "      <td>NaN</td>\n",
       "      <td>1</td>\n",
       "      <td>NaN</td>\n",
       "      <td>0.06</td>\n",
       "    </tr>\n",
       "    <tr>\n",
       "      <th>177</th>\n",
       "      <td>Suriname</td>\n",
       "      <td>1</td>\n",
       "      <td>NaN</td>\n",
       "      <td>NaN</td>\n",
       "      <td>NaN</td>\n",
       "      <td>NaN</td>\n",
       "      <td>1</td>\n",
       "      <td>NaN</td>\n",
       "      <td>2.00</td>\n",
       "    </tr>\n",
       "    <tr>\n",
       "      <th>178</th>\n",
       "      <td>Eswatini</td>\n",
       "      <td>1</td>\n",
       "      <td>NaN</td>\n",
       "      <td>NaN</td>\n",
       "      <td>NaN</td>\n",
       "      <td>NaN</td>\n",
       "      <td>1</td>\n",
       "      <td>NaN</td>\n",
       "      <td>0.90</td>\n",
       "    </tr>\n",
       "    <tr>\n",
       "      <th>179</th>\n",
       "      <td>Togo</td>\n",
       "      <td>1</td>\n",
       "      <td>NaN</td>\n",
       "      <td>NaN</td>\n",
       "      <td>NaN</td>\n",
       "      <td>NaN</td>\n",
       "      <td>1</td>\n",
       "      <td>NaN</td>\n",
       "      <td>0.10</td>\n",
       "    </tr>\n",
       "    <tr>\n",
       "      <th>180</th>\n",
       "      <td>Total:</td>\n",
       "      <td>244894</td>\n",
       "      <td>26106.0</td>\n",
       "      <td>10028.0</td>\n",
       "      <td>1085.0</td>\n",
       "      <td>87408.0</td>\n",
       "      <td>147458</td>\n",
       "      <td>7520.0</td>\n",
       "      <td>31.40</td>\n",
       "    </tr>\n",
       "  </tbody>\n",
       "</table>\n",
       "<p>181 rows × 9 columns</p>\n",
       "</div>"
      ],
      "text/plain": [
       "     Country,   Total      New    Total     New     Total  Active Serious,  \\\n",
       "        Other   Cases    Cases   Deaths  Deaths Recovered   Cases Critical   \n",
       "0       China   80928     34.0   3245.0     8.0   70420.0    7263   2274.0   \n",
       "1       Italy   41035   5322.0   3405.0   427.0    4440.0   33190   2498.0   \n",
       "2        Iran   18407   1046.0   1284.0   149.0    5979.0   11144      NaN   \n",
       "3       Spain   18077   3308.0    831.0   193.0    1107.0   16139    939.0   \n",
       "4     Germany   15320   2993.0     44.0    16.0     115.0   15161      2.0   \n",
       "..        ...     ...      ...      ...     ...       ...     ...      ...   \n",
       "176   Somalia       1      NaN      NaN     NaN       NaN       1      NaN   \n",
       "177  Suriname       1      NaN      NaN     NaN       NaN       1      NaN   \n",
       "178  Eswatini       1      NaN      NaN     NaN       NaN       1      NaN   \n",
       "179      Togo       1      NaN      NaN     NaN       NaN       1      NaN   \n",
       "180    Total:  244894  26106.0  10028.0  1085.0   87408.0  147458   7520.0   \n",
       "\n",
       "    Tot Cases/  \n",
       "        1M pop  \n",
       "0        56.00  \n",
       "1       679.00  \n",
       "2       219.00  \n",
       "3       387.00  \n",
       "4       183.00  \n",
       "..         ...  \n",
       "176       0.06  \n",
       "177       2.00  \n",
       "178       0.90  \n",
       "179       0.10  \n",
       "180      31.40  \n",
       "\n",
       "[181 rows x 9 columns]"
      ]
     },
     "execution_count": 105,
     "metadata": {},
     "output_type": "execute_result"
    }
   ],
   "source": [
    "# Using the list of sheets (xls.sheet_names) read in the sheet for the 19-3 as a pandas dataframe\n",
    "# an show it.\n",
    "\n",
    "# The read excel method can take either an ExcelFile object or a file name \n",
    "# as sting as the first parameter (xls is an ExcelFile object)\n",
    "# header=[0,1] means that we expect the first two rows of the excel to be the header\n",
    "# header=[0,1] is a list of the rows that are to be used as the header\n",
    "df1 = pd.read_excel(xls,sheet_name=index, header=[0,1])\n",
    "# df1 = pd.read_excel(\"Coronavirus data.xlsx\", sheet_name=\"19-3\") # Alternate way\n",
    "\n",
    "df1"
   ]
  },
  {
   "cell_type": "code",
   "execution_count": 106,
   "metadata": {},
   "outputs": [
    {
     "data": {
      "text/plain": [
       "MultiIndex([(  'Country,',     'Other'),\n",
       "            (     'Total',     'Cases'),\n",
       "            (       'New',     'Cases'),\n",
       "            (     'Total',    'Deaths'),\n",
       "            (       'New',    'Deaths'),\n",
       "            (     'Total', 'Recovered'),\n",
       "            (    'Active',     'Cases'),\n",
       "            (  'Serious,',  'Critical'),\n",
       "            ('Tot Cases/',    '1M pop')],\n",
       "           )"
      ]
     },
     "execution_count": 106,
     "metadata": {},
     "output_type": "execute_result"
    }
   ],
   "source": [
    "# Lets look at the dataframe (column) indexes\n",
    "df1.columns"
   ]
  },
  {
   "cell_type": "code",
   "execution_count": 117,
   "metadata": {},
   "outputs": [
    {
     "data": {
      "text/plain": [
       "0       80928\n",
       "1       41035\n",
       "2       18407\n",
       "3       18077\n",
       "4       15320\n",
       "        ...  \n",
       "176         1\n",
       "177         1\n",
       "178         1\n",
       "179         1\n",
       "180    244894\n",
       "Name: (Total, Cases), Length: 181, dtype: int64"
      ]
     },
     "execution_count": 117,
     "metadata": {},
     "output_type": "execute_result"
    }
   ],
   "source": [
    "# Because we use multiindexs we should specify the column name a tuple\n",
    "df1[('Total','Cases')]"
   ]
  },
  {
   "cell_type": "code",
   "execution_count": 125,
   "metadata": {},
   "outputs": [
    {
     "data": {
      "text/plain": [
       "('Total', 'Deaths')"
      ]
     },
     "execution_count": 125,
     "metadata": {},
     "output_type": "execute_result"
    }
   ],
   "source": [
    "# How dow I get the Country column from the df1?\n",
    "\n",
    "# Get the values stored in the df's 4th column using the MultiIndex\n",
    "# reteived by indexing in to the df 'columns' attribute\n",
    "df1.columns[3]"
   ]
  },
  {
   "cell_type": "markdown",
   "metadata": {},
   "source": [
    "#### How can we get the just the row where the country is equal to the USA?"
   ]
  },
  {
   "cell_type": "code",
   "execution_count": 124,
   "metadata": {},
   "outputs": [
    {
     "data": {
      "text/plain": [
       "pandas.core.frame.DataFrame"
      ]
     },
     "execution_count": 124,
     "metadata": {},
     "output_type": "execute_result"
    }
   ],
   "source": [
    "# As a dataframe (which has multi-indexes)\n",
    "type(df1[ df1[('Country,','Other')] == \"USA\" ])"
   ]
  },
  {
   "cell_type": "code",
   "execution_count": 128,
   "metadata": {},
   "outputs": [
    {
     "data": {
      "text/html": [
       "<div>\n",
       "<style scoped>\n",
       "    .dataframe tbody tr th:only-of-type {\n",
       "        vertical-align: middle;\n",
       "    }\n",
       "\n",
       "    .dataframe tbody tr th {\n",
       "        vertical-align: top;\n",
       "    }\n",
       "\n",
       "    .dataframe thead tr th {\n",
       "        text-align: left;\n",
       "    }\n",
       "</style>\n",
       "<table border=\"1\" class=\"dataframe\">\n",
       "  <thead>\n",
       "    <tr>\n",
       "      <th></th>\n",
       "      <th>Country,</th>\n",
       "      <th>Total</th>\n",
       "      <th>New</th>\n",
       "      <th>Total</th>\n",
       "      <th>New</th>\n",
       "      <th>Total</th>\n",
       "      <th>Active</th>\n",
       "      <th>Serious,</th>\n",
       "      <th>Tot Cases/</th>\n",
       "    </tr>\n",
       "    <tr>\n",
       "      <th></th>\n",
       "      <th>Other</th>\n",
       "      <th>Cases</th>\n",
       "      <th>Cases</th>\n",
       "      <th>Deaths</th>\n",
       "      <th>Deaths</th>\n",
       "      <th>Recovered</th>\n",
       "      <th>Cases</th>\n",
       "      <th>Critical</th>\n",
       "      <th>1M pop</th>\n",
       "    </tr>\n",
       "  </thead>\n",
       "  <tbody>\n",
       "    <tr>\n",
       "      <th>5</th>\n",
       "      <td>USA</td>\n",
       "      <td>13789</td>\n",
       "      <td>4530.0</td>\n",
       "      <td>207.0</td>\n",
       "      <td>57.0</td>\n",
       "      <td>108.0</td>\n",
       "      <td>13474</td>\n",
       "      <td>64.0</td>\n",
       "      <td>42.0</td>\n",
       "    </tr>\n",
       "  </tbody>\n",
       "</table>\n",
       "</div>"
      ],
      "text/plain": [
       "  Country,  Total     New  Total    New     Total Active Serious, Tot Cases/\n",
       "     Other  Cases   Cases Deaths Deaths Recovered  Cases Critical     1M pop\n",
       "5      USA  13789  4530.0  207.0   57.0     108.0  13474     64.0       42.0"
      ]
     },
     "execution_count": 128,
     "metadata": {},
     "output_type": "execute_result"
    }
   ],
   "source": [
    "# Get a df of the rows where country is equals to USA\n",
    "df_usa_19_3 = df1[ df1[('Country,','Other')] == \"USA\" ]\n",
    "df_usa_19_3"
   ]
  },
  {
   "cell_type": "markdown",
   "metadata": {},
   "source": [
    "### Make another new dataframe and specify a column to be the index of the df"
   ]
  },
  {
   "cell_type": "code",
   "execution_count": 130,
   "metadata": {},
   "outputs": [
    {
     "data": {
      "text/html": [
       "<div>\n",
       "<style scoped>\n",
       "    .dataframe tbody tr th:only-of-type {\n",
       "        vertical-align: middle;\n",
       "    }\n",
       "\n",
       "    .dataframe tbody tr th {\n",
       "        vertical-align: top;\n",
       "    }\n",
       "\n",
       "    .dataframe thead tr th {\n",
       "        text-align: left;\n",
       "    }\n",
       "</style>\n",
       "<table border=\"1\" class=\"dataframe\">\n",
       "  <thead>\n",
       "    <tr>\n",
       "      <th>Country,</th>\n",
       "      <th>Total</th>\n",
       "      <th>New</th>\n",
       "      <th>Total</th>\n",
       "      <th>New</th>\n",
       "      <th>Total</th>\n",
       "      <th>Active</th>\n",
       "      <th>Serious,</th>\n",
       "      <th>Tot Cases/</th>\n",
       "    </tr>\n",
       "    <tr>\n",
       "      <th>Other</th>\n",
       "      <th>Cases</th>\n",
       "      <th>Cases</th>\n",
       "      <th>Deaths</th>\n",
       "      <th>Deaths</th>\n",
       "      <th>Recovered</th>\n",
       "      <th>Cases</th>\n",
       "      <th>Critical</th>\n",
       "      <th>1M pop</th>\n",
       "    </tr>\n",
       "  </thead>\n",
       "  <tbody>\n",
       "    <tr>\n",
       "      <th>China</th>\n",
       "      <td>80928</td>\n",
       "      <td>34.0</td>\n",
       "      <td>3245.0</td>\n",
       "      <td>8.0</td>\n",
       "      <td>70420.0</td>\n",
       "      <td>7263</td>\n",
       "      <td>2274.0</td>\n",
       "      <td>56.00</td>\n",
       "    </tr>\n",
       "    <tr>\n",
       "      <th>Italy</th>\n",
       "      <td>41035</td>\n",
       "      <td>5322.0</td>\n",
       "      <td>3405.0</td>\n",
       "      <td>427.0</td>\n",
       "      <td>4440.0</td>\n",
       "      <td>33190</td>\n",
       "      <td>2498.0</td>\n",
       "      <td>679.00</td>\n",
       "    </tr>\n",
       "    <tr>\n",
       "      <th>Iran</th>\n",
       "      <td>18407</td>\n",
       "      <td>1046.0</td>\n",
       "      <td>1284.0</td>\n",
       "      <td>149.0</td>\n",
       "      <td>5979.0</td>\n",
       "      <td>11144</td>\n",
       "      <td>NaN</td>\n",
       "      <td>219.00</td>\n",
       "    </tr>\n",
       "    <tr>\n",
       "      <th>Spain</th>\n",
       "      <td>18077</td>\n",
       "      <td>3308.0</td>\n",
       "      <td>831.0</td>\n",
       "      <td>193.0</td>\n",
       "      <td>1107.0</td>\n",
       "      <td>16139</td>\n",
       "      <td>939.0</td>\n",
       "      <td>387.00</td>\n",
       "    </tr>\n",
       "    <tr>\n",
       "      <th>Germany</th>\n",
       "      <td>15320</td>\n",
       "      <td>2993.0</td>\n",
       "      <td>44.0</td>\n",
       "      <td>16.0</td>\n",
       "      <td>115.0</td>\n",
       "      <td>15161</td>\n",
       "      <td>2.0</td>\n",
       "      <td>183.00</td>\n",
       "    </tr>\n",
       "    <tr>\n",
       "      <th>...</th>\n",
       "      <td>...</td>\n",
       "      <td>...</td>\n",
       "      <td>...</td>\n",
       "      <td>...</td>\n",
       "      <td>...</td>\n",
       "      <td>...</td>\n",
       "      <td>...</td>\n",
       "      <td>...</td>\n",
       "    </tr>\n",
       "    <tr>\n",
       "      <th>Somalia</th>\n",
       "      <td>1</td>\n",
       "      <td>NaN</td>\n",
       "      <td>NaN</td>\n",
       "      <td>NaN</td>\n",
       "      <td>NaN</td>\n",
       "      <td>1</td>\n",
       "      <td>NaN</td>\n",
       "      <td>0.06</td>\n",
       "    </tr>\n",
       "    <tr>\n",
       "      <th>Suriname</th>\n",
       "      <td>1</td>\n",
       "      <td>NaN</td>\n",
       "      <td>NaN</td>\n",
       "      <td>NaN</td>\n",
       "      <td>NaN</td>\n",
       "      <td>1</td>\n",
       "      <td>NaN</td>\n",
       "      <td>2.00</td>\n",
       "    </tr>\n",
       "    <tr>\n",
       "      <th>Eswatini</th>\n",
       "      <td>1</td>\n",
       "      <td>NaN</td>\n",
       "      <td>NaN</td>\n",
       "      <td>NaN</td>\n",
       "      <td>NaN</td>\n",
       "      <td>1</td>\n",
       "      <td>NaN</td>\n",
       "      <td>0.90</td>\n",
       "    </tr>\n",
       "    <tr>\n",
       "      <th>Togo</th>\n",
       "      <td>1</td>\n",
       "      <td>NaN</td>\n",
       "      <td>NaN</td>\n",
       "      <td>NaN</td>\n",
       "      <td>NaN</td>\n",
       "      <td>1</td>\n",
       "      <td>NaN</td>\n",
       "      <td>0.10</td>\n",
       "    </tr>\n",
       "    <tr>\n",
       "      <th>Total:</th>\n",
       "      <td>244894</td>\n",
       "      <td>26106.0</td>\n",
       "      <td>10028.0</td>\n",
       "      <td>1085.0</td>\n",
       "      <td>87408.0</td>\n",
       "      <td>147458</td>\n",
       "      <td>7520.0</td>\n",
       "      <td>31.40</td>\n",
       "    </tr>\n",
       "  </tbody>\n",
       "</table>\n",
       "<p>181 rows × 8 columns</p>\n",
       "</div>"
      ],
      "text/plain": [
       "Country,   Total      New    Total     New     Total  Active Serious,  \\\n",
       "Other      Cases    Cases   Deaths  Deaths Recovered   Cases Critical   \n",
       "China      80928     34.0   3245.0     8.0   70420.0    7263   2274.0   \n",
       "Italy      41035   5322.0   3405.0   427.0    4440.0   33190   2498.0   \n",
       "Iran       18407   1046.0   1284.0   149.0    5979.0   11144      NaN   \n",
       "Spain      18077   3308.0    831.0   193.0    1107.0   16139    939.0   \n",
       "Germany    15320   2993.0     44.0    16.0     115.0   15161      2.0   \n",
       "...          ...      ...      ...     ...       ...     ...      ...   \n",
       "Somalia        1      NaN      NaN     NaN       NaN       1      NaN   \n",
       "Suriname       1      NaN      NaN     NaN       NaN       1      NaN   \n",
       "Eswatini       1      NaN      NaN     NaN       NaN       1      NaN   \n",
       "Togo           1      NaN      NaN     NaN       NaN       1      NaN   \n",
       "Total:    244894  26106.0  10028.0  1085.0   87408.0  147458   7520.0   \n",
       "\n",
       "Country, Tot Cases/  \n",
       "Other        1M pop  \n",
       "China         56.00  \n",
       "Italy        679.00  \n",
       "Iran         219.00  \n",
       "Spain        387.00  \n",
       "Germany      183.00  \n",
       "...             ...  \n",
       "Somalia        0.06  \n",
       "Suriname       2.00  \n",
       "Eswatini       0.90  \n",
       "Togo           0.10  \n",
       "Total:        31.40  \n",
       "\n",
       "[181 rows x 8 columns]"
      ]
     },
     "execution_count": 130,
     "metadata": {},
     "output_type": "execute_result"
    }
   ],
   "source": [
    "# index_col -> Column (0-indexed) to use as the row labels of the DataFrame.\n",
    "df2 = pd.read_excel(xls,sheet_name=index,index_col=0, header=[0,1])\n",
    "df2"
   ]
  },
  {
   "cell_type": "code",
   "execution_count": 139,
   "metadata": {},
   "outputs": [
    {
     "data": {
      "text/plain": [
       "Country,    Other    \n",
       "Total       Cases        13789.0\n",
       "New         Cases         4530.0\n",
       "Total       Deaths         207.0\n",
       "New         Deaths          57.0\n",
       "Total       Recovered      108.0\n",
       "Active      Cases        13474.0\n",
       "Serious,    Critical        64.0\n",
       "Tot Cases/  1M pop          42.0\n",
       "Name: USA, dtype: float64"
      ]
     },
     "execution_count": 139,
     "metadata": {},
     "output_type": "execute_result"
    }
   ],
   "source": [
    "# Get the row of data for the USA from the df2 df.\n",
    "usa_data = df2.loc[\"USA\"]\n",
    "usa_data"
   ]
  },
  {
   "cell_type": "code",
   "execution_count": 138,
   "metadata": {},
   "outputs": [
    {
     "data": {
      "text/plain": [
       "pandas.core.series.Series"
      ]
     },
     "execution_count": 138,
     "metadata": {},
     "output_type": "execute_result"
    }
   ],
   "source": [
    "type(df2.loc[\"USA\"])"
   ]
  },
  {
   "cell_type": "code",
   "execution_count": 141,
   "metadata": {},
   "outputs": [
    {
     "data": {
      "text/plain": [
       "MultiIndex([(     'Total',     'Cases'),\n",
       "            (       'New',     'Cases'),\n",
       "            (     'Total',    'Deaths'),\n",
       "            (       'New',    'Deaths'),\n",
       "            (     'Total', 'Recovered'),\n",
       "            (    'Active',     'Cases'),\n",
       "            (  'Serious,',  'Critical'),\n",
       "            ('Tot Cases/',    '1M pop')],\n",
       "           names=['Country,', 'Other'])"
      ]
     },
     "execution_count": 141,
     "metadata": {},
     "output_type": "execute_result"
    }
   ],
   "source": [
    "# This series will have Multiindexes (as opposed to numeric indexes)\n",
    "usa_data.index"
   ]
  },
  {
   "cell_type": "code",
   "execution_count": null,
   "metadata": {},
   "outputs": [],
   "source": []
  }
 ],
 "metadata": {
  "kernelspec": {
   "display_name": "Python 3",
   "language": "python",
   "name": "python3"
  },
  "language_info": {
   "codemirror_mode": {
    "name": "ipython",
    "version": 3
   },
   "file_extension": ".py",
   "mimetype": "text/x-python",
   "name": "python",
   "nbconvert_exporter": "python",
   "pygments_lexer": "ipython3",
   "version": "3.7.9"
  }
 },
 "nbformat": 4,
 "nbformat_minor": 4
}
