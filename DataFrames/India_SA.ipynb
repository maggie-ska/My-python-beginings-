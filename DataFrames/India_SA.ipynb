{
 "cells": [
  {
   "cell_type": "code",
   "execution_count": 64,
   "metadata": {},
   "outputs": [
    {
     "name": "stdout",
     "output_type": "stream",
     "text": [
      "These are all the sheets i want to read from: ['1-5', '2-5', '3-5', '4-5', '5-5', '6-5', '7-5', '8-5', '9-5', '10-5', '11-5', '12-5', '13-5', '14-5', '15-5', '16-5', '17-5', '18-5', '19-5', '20-5', '21-5', '22-5', '23-5', '24-5', '25-5', '26-5', '27-5', '28-5', '29-5', '30-5', '31-5', '1-6', '2-6', '3-6', '4-6', '5-6', '6-6', '7-6', '8-6', '9-6', '10-6', '11-6', '12-6', '13-6', '14-6', '15-6', '16-6', '17-6', '18-6', '19-6', '20-6', '21-6', '22-6', '23-6', '24-6', '25-6', '26-6', '27-6', '28-6', '29-6', '30-6', '1-7', '2-7', '3-7', '4-7', '5-7', '6-7', '7-7', '8-7', '9-7', '10-7', '11-7']\n",
      "<class 'dict'>\n",
      "dict_keys(['1-5', '2-5', '3-5', '4-5', '5-5', '6-5', '7-5', '8-5', '9-5', '10-5', '11-5', '12-5', '13-5', '14-5', '15-5', '16-5', '17-5', '18-5', '19-5', '20-5', '21-5', '22-5', '23-5', '24-5', '25-5', '26-5', '27-5', '28-5', '29-5', '30-5', '31-5', '1-6', '2-6', '3-6', '4-6', '5-6', '6-6', '7-6', '8-6', '9-6', '10-6', '11-6', '12-6', '13-6', '14-6', '15-6', '16-6', '17-6', '18-6', '19-6', '20-6', '21-6', '22-6', '23-6', '24-6', '25-6', '26-6', '27-6', '28-6', '29-6', '30-6', '1-7', '2-7', '3-7', '4-7', '5-7', '6-7', '7-7', '8-7', '9-7', '10-7', '11-7'])\n"
     ]
    }
   ],
   "source": [
    "import pandas as pd\n",
    "# Load the data for all sheets between 01-05 and 14-6 from the\n",
    "# \"coronavirus data.xlsx\" or \"coronavirus data thomas.xlsx\" file\n",
    "corona= pd.ExcelFile('Coronavirus dataT.xlsx')\n",
    "\n",
    "#to fid out which sheet to read\n",
    "index_of_starting_sheet = corona.sheet_names.index('1-5')\n",
    "\n",
    "# need to get all the sheet names to pass it into read.excel\n",
    "list_of_sheet_names = corona.sheet_names[index_of_starting_sheet:]\n",
    "print(f'These are all the sheets i want to read from: {list_of_sheet_names}')\n",
    "\n",
    "# to read the data that i want as a dictionary\n",
    "dic = pd.read_excel(corona,sheet_name = list_of_sheet_names,skipfooter = 1,usecols ='A:L')\n",
    "print(type(dic))\n",
    "\n",
    "# name of the sheet is becoming a dictionary key \n",
    "print(dic.keys())\n",
    "#sheets\n",
    "\n",
    "\n"
   ]
  },
  {
   "cell_type": "code",
   "execution_count": 65,
   "metadata": {},
   "outputs": [],
   "source": [
    "# Add a date column to each df's based on the corresponding sheet name. \n",
    "# NOTE: The date must be a datetime type\n",
    "#for key in dic:\n",
    "    #dic[key].assign(Date = pd.to_datetime(key + '2020',format = '%d-%m%Y')).inplace = True\n",
    "    #print(f'Name of the sheet is the key: {key} and the content of the sheet is the value:{dic[key]}')\n",
    "    \n",
    "dic = [dic[key].assign(Date = pd.to_datetime(key + '2020',format = '%d-%m%Y')) for key in dic]\n",
    "    "
   ]
  },
  {
   "cell_type": "code",
   "execution_count": 66,
   "metadata": {},
   "outputs": [
    {
     "data": {
      "text/plain": [
       "list"
      ]
     },
     "execution_count": 66,
     "metadata": {},
     "output_type": "execute_result"
    }
   ],
   "source": [
    "type(dic)"
   ]
  },
  {
   "cell_type": "code",
   "execution_count": 67,
   "metadata": {},
   "outputs": [],
   "source": [
    "# Merge all the df's in to one merged df (So all the rows are in one df)\n",
    "\n",
    "merged = pd.concat(dic,ignore_index=True)\n",
    "SA=merged[merged['Country']=='Saudi Arabia']\n",
    "SA\n",
    "India = merged[merged['Country']=='India']\n"
   ]
  },
  {
   "cell_type": "code",
   "execution_count": 68,
   "metadata": {},
   "outputs": [],
   "source": [
    "SA.to_excel('SA.xlsx')\n",
    "India.to_excel('India.xlsx')"
   ]
  }
 ],
 "metadata": {
  "kernelspec": {
   "display_name": "Python 3",
   "language": "python",
   "name": "python3"
  },
  "language_info": {
   "codemirror_mode": {
    "name": "ipython",
    "version": 3
   },
   "file_extension": ".py",
   "mimetype": "text/x-python",
   "name": "python",
   "nbconvert_exporter": "python",
   "pygments_lexer": "ipython3",
   "version": "3.7.9"
  }
 },
 "nbformat": 4,
 "nbformat_minor": 4
}
