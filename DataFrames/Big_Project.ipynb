{
 "cells": [
  {
   "cell_type": "code",
   "execution_count": 1,
   "metadata": {},
   "outputs": [],
   "source": [
    "###import the excel sheet to read all the virus data into pandas df \n",
    "import pandas as pd\n",
    "xls = pd.ExcelFile('CoronavirusUpdated.xlsx')"
   ]
  },
  {
   "cell_type": "code",
   "execution_count": 2,
   "metadata": {},
   "outputs": [
    {
     "name": "stdout",
     "output_type": "stream",
     "text": [
      "Number of sheets:  102\n",
      "<class 'dict'>\n",
      "dict_keys(['1-4', '2-4', '3-4', '4-4', '5-4', '6-4', '7-4', '8-4', '9-4', '10-4', '11-4', '12-4', '13-4', '14-4', '15-4', '16-4', '17-4', '18-4', '19-4', '20-4', '21-4', '22-4', '23-4', '24-4', '25-4', '26-4', '27-4', '28-4', '29-4', '30-4', '1-5', '2-5', '3-5', '4-5', '5-5', '6-5', '7-5', '8-5', '9-5', '10-5', '11-5', '12-5', '13-5', '14-5', '15-5', '16-5', '17-5', '18-5', '19-5', '20-5', '21-5', '22-5', '23-5', '24-5', '25-5', '26-5', '27-5', '28-5', '29-5', '30-5', '31-5', '1-6', '2-6', '3-6', '4-6', '5-6', '6-6', '7-6', '8-6', '9-6', '10-6', '11-6', '12-6', '13-6', '14-6', '15-6', '16-6', '17-6', '18-6', '19-6', '20-6', '21-6', '22-6', '23-6', '24-6', '25-6', '26-6', '27-6', '28-6', '29-6', '30-6', '1-7', '2-7', '3-7', '4-7', '5-7', '6-7', '7-7', '8-7', '9-7', '10-7', '11-7'])\n"
     ]
    }
   ],
   "source": [
    "index_of_starting_sheet = xls.sheet_names.index('1-4')\n",
    "sheets = xls.sheet_names[index_of_starting_sheet:]\n",
    "print('Number of sheets: ',len(sheets))\n",
    "\n",
    "# to read the data that i want as a dictionary\n",
    "dic = pd.read_excel(xls,sheet_name = sheets,skipfooter = 1,usecols ='A:L')\n",
    "print(type(dic))\n",
    "\n",
    "# name of the sheet is becoming a dictionary key \n",
    "print(dic.keys())\n",
    "#sheets\n",
    "\n"
   ]
  },
  {
   "cell_type": "code",
   "execution_count": 3,
   "metadata": {},
   "outputs": [],
   "source": [
    "# Add a date column to each df's based on the corresponding sheet name. \n",
    "# NOTE: The date must be a datetime type\n",
    "#for key in dic:\n",
    "    #dic[key].assign(Date = pd.to_datetime(key + '2020',format = '%d-%m%Y')).inplace = True\n",
    "    #print(f'Name of the sheet is the key: {key} and the content of the sheet is the value:{dic[key]}')\n",
    "    \n",
    "dic = [dic[key].assign(Date = pd.to_datetime(key + '2020',format = '%d-%m%Y')) for key in dic]\n",
    "    "
   ]
  },
  {
   "cell_type": "code",
   "execution_count": 4,
   "metadata": {},
   "outputs": [],
   "source": [
    "merged = pd.concat(dic,ignore_index=True)"
   ]
  },
  {
   "cell_type": "code",
   "execution_count": 5,
   "metadata": {},
   "outputs": [
    {
     "data": {
      "text/plain": [
       "Index(['Country', 'Total Cases', 'New Cases', 'Total Deaths', 'New Deaths',\n",
       "       'Total Recovered', 'Active Cases', 'Serious/Critical',\n",
       "       'Total Cases/ 1M pop', 'Total Deaths/ 1M pop', 'Total Tests',\n",
       "       'Tests/1M pop', 'Date'],\n",
       "      dtype='object')"
      ]
     },
     "execution_count": 5,
     "metadata": {},
     "output_type": "execute_result"
    }
   ],
   "source": [
    "merged.columns"
   ]
  },
  {
   "cell_type": "code",
   "execution_count": 7,
   "metadata": {},
   "outputs": [],
   "source": [
    "merged[merged ['Country'] =='Poland']\n",
    "merged.to_excel('bigChunk.xlsx')"
   ]
  },
  {
   "cell_type": "code",
   "execution_count": 10,
   "metadata": {},
   "outputs": [
    {
     "data": {
      "text/plain": [
       "{'from_perri':       v_id c_id      vdate  daily_case  cum_case  daily_death  cum_death  \\\n",
       " 0      NaN  CHN 2020-01-21        60.0       278          3.0        3.0   \n",
       " 1      NaN  JPN 2020-01-21         NaN         1          NaN        NaN   \n",
       " 2      NaN  KOR 2020-01-21         NaN         1          NaN        NaN   \n",
       " 3      NaN  THA 2020-01-21         NaN         2          NaN        NaN   \n",
       " 4      NaN  CHN 2020-01-22        31.0       309          3.0        6.0   \n",
       " ...    ...  ...        ...         ...       ...          ...        ...   \n",
       " 5159   NaN  VAT 2020-03-31         NaN         6          NaN        NaN   \n",
       " 5160   NaN  VEN 2020-03-31         NaN       135          NaN        3.0   \n",
       " 5161   NaN  VNM 2020-03-31         8.0       212          NaN        NaN   \n",
       " 5162   NaN  ZMB 2020-03-31         1.0        36          NaN        NaN   \n",
       " 5163   NaN  ZWE 2020-03-31         1.0         8          NaN        1.0   \n",
       " \n",
       "       recovered  active  serious  cum_tests  \n",
       " 0           NaN   275.0      2.0        NaN  \n",
       " 1           NaN     1.0      NaN        NaN  \n",
       " 2           NaN     1.0      NaN        NaN  \n",
       " 3           NaN     2.0      NaN        NaN  \n",
       " 4           NaN   303.0     11.0        NaN  \n",
       " ...         ...     ...      ...        ...  \n",
       " 5159        NaN     6.0      NaN        NaN  \n",
       " 5160        NaN    93.0      6.0        NaN  \n",
       " 5161        NaN   154.0      3.0        NaN  \n",
       " 5162        NaN    36.0      NaN        NaN  \n",
       " 5163        NaN     7.0      NaN        NaN  \n",
       " \n",
       " [5164 rows x 11 columns],\n",
       " 'from_april':        v_id c_id      vdate  cum_case  daily_case  cum_death  daily_death  \\\n",
       " 0       NaN  USA 2020-04-01    215003     26473.0     5102.0       1049.0   \n",
       " 1       NaN  ITA 2020-04-01    110574      4782.0    13155.0        727.0   \n",
       " 2       NaN  ESP 2020-04-01    104118      8195.0     9387.0        923.0   \n",
       " 3       NaN  CHN 2020-04-01     81554        36.0     3312.0          7.0   \n",
       " 4       NaN  DEU 2020-04-01     77981      6173.0      931.0        156.0   \n",
       " ...     ...  ...        ...       ...         ...        ...          ...   \n",
       " 21793   NaN  VGB 2020-07-11         8         NaN        1.0          NaN   \n",
       " 21794   NaN  ANT 2020-07-11         7         NaN        NaN          NaN   \n",
       " 21795   NaN  BLM 2020-07-11         6         NaN        NaN          NaN   \n",
       " 21796   NaN  AIA 2020-07-11         3         NaN        NaN          NaN   \n",
       " 21797   NaN  SPM 2020-07-11         2         NaN        NaN          NaN   \n",
       " \n",
       "        recovered    active  serious cum_tests  \n",
       " 0         8878.0  201023.0   5005.0       NaN  \n",
       " 1        16847.0   80572.0   4035.0       NaN  \n",
       " 2        22647.0   72084.0   5872.0       NaN  \n",
       " 3        76238.0    2004.0    466.0       NaN  \n",
       " 4        18700.0   58350.0   3408.0       NaN  \n",
       " ...          ...       ...      ...       ...  \n",
       " 21793        7.0       0.0      NaN       439  \n",
       " 21794        7.0       0.0      NaN       424  \n",
       " 21795        6.0       0.0      NaN       507  \n",
       " 21796        3.0       0.0      NaN       305  \n",
       " 21797        1.0       1.0      NaN       NaN  \n",
       " \n",
       " [21798 rows x 11 columns]}"
      ]
     },
     "execution_count": 10,
     "metadata": {},
     "output_type": "execute_result"
    }
   ],
   "source": [
    "# merging data until 1st of april with data from 1st of april\n",
    "big= pd.ExcelFile('bigChunk.xlsx')\n",
    "two_sheets = pd.read_excel(big,sheet_name =['from_perri','from_april'])\n",
    "two_sheets"
   ]
  },
  {
   "cell_type": "code",
   "execution_count": 11,
   "metadata": {},
   "outputs": [],
   "source": [
    "one_sheet = pd.concat(two_sheets,ignore_index=True)"
   ]
  },
  {
   "cell_type": "code",
   "execution_count": 12,
   "metadata": {},
   "outputs": [
    {
     "data": {
      "text/plain": [
       "Index(['v_id', 'c_id', 'vdate', 'daily_case', 'cum_case', 'daily_death',\n",
       "       'cum_death', 'recovered', 'active', 'serious', 'cum_tests'],\n",
       "      dtype='object')"
      ]
     },
     "execution_count": 12,
     "metadata": {},
     "output_type": "execute_result"
    }
   ],
   "source": [
    "one_sheet.columns"
   ]
  },
  {
   "cell_type": "code",
   "execution_count": 13,
   "metadata": {},
   "outputs": [],
   "source": [
    "one_sheet.to_excel('CoronaFinal.xlsx')"
   ]
  },
  {
   "cell_type": "code",
   "execution_count": null,
   "metadata": {},
   "outputs": [],
   "source": []
  }
 ],
 "metadata": {
  "kernelspec": {
   "display_name": "Python 3",
   "language": "python",
   "name": "python3"
  },
  "language_info": {
   "codemirror_mode": {
    "name": "ipython",
    "version": 3
   },
   "file_extension": ".py",
   "mimetype": "text/x-python",
   "name": "python",
   "nbconvert_exporter": "python",
   "pygments_lexer": "ipython3",
   "version": "3.7.6"
  }
 },
 "nbformat": 4,
 "nbformat_minor": 4
}
