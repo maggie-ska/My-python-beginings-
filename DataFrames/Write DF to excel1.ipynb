{
 "cells": [
  {
   "cell_type": "code",
   "execution_count": 4,
   "metadata": {},
   "outputs": [],
   "source": [
    "import pandas as pd\n",
    "density = [\n",
    "    {'Country': 'China', 'Density (P/Km2)': 153 },\n",
    "    {'Country': 'United States', 'Density (P/Km2)': 36 },\n",
    "    {'Country': 'India', 'Density (P/Km2)': 464 },\n",
    "    {'Country': 'Indonesia', 'Density (P/Km2)': 151 },\n",
    "    {'Country': 'Pakistan', 'Density (P/Km2)': 287 }\n",
    "]\n",
    "\n",
    "df_dens= pd.DataFrame(density)\n"
   ]
  },
  {
   "cell_type": "code",
   "execution_count": 5,
   "metadata": {},
   "outputs": [
    {
     "name": "stdin",
     "output_type": "stream",
     "text": [
      "Please enter file name density\n"
     ]
    },
    {
     "name": "stdout",
     "output_type": "stream",
     "text": [
      "File will be written to : density.xlsx\n"
     ]
    }
   ],
   "source": [
    "# Ask the user for the file to which df will be written\n",
    "filename = input('Please enter file name')\n",
    "filename = filename + '.xlsx' \n",
    "print(f'File will be written to : {filename}')"
   ]
  },
  {
   "cell_type": "code",
   "execution_count": 6,
   "metadata": {},
   "outputs": [],
   "source": [
    "with pd.ExcelWriter(filename) as writer:\n",
    "    df_dens.to_excel(writer)"
   ]
  },
  {
   "cell_type": "code",
   "execution_count": null,
   "metadata": {},
   "outputs": [],
   "source": []
  }
 ],
 "metadata": {
  "kernelspec": {
   "display_name": "Python 3",
   "language": "python",
   "name": "python3"
  },
  "language_info": {
   "codemirror_mode": {
    "name": "ipython",
    "version": 3
   },
   "file_extension": ".py",
   "mimetype": "text/x-python",
   "name": "python",
   "nbconvert_exporter": "python",
   "pygments_lexer": "ipython3",
   "version": "3.7.6"
  }
 },
 "nbformat": 4,
 "nbformat_minor": 4
}
