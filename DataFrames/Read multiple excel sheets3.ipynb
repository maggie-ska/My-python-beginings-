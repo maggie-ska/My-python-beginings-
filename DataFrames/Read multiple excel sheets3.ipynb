{
 "cells": [
  {
   "cell_type": "code",
   "execution_count": 1,
   "metadata": {},
   "outputs": [],
   "source": [
    "import pandas as pd\n",
    "# Read all the Excel sheets in the coronavirus data excel file in to a dictionary of dataframes\n",
    "# Use and ExcelFile object so we have a list of the sheet names\n",
    "excel_file = pd.ExcelFile(\"Coronavirus data.xlsx\")\n",
    "\n",
    "all_sheets_dict = pd.read_excel(excel_file,sheet_name=None)"
   ]
  },
  {
   "cell_type": "code",
   "execution_count": 2,
   "metadata": {},
   "outputs": [
    {
     "name": "stdout",
     "output_type": "stream",
     "text": [
      "Number of sheets:  98\n",
      "Number of sheets:  98\n"
     ]
    }
   ],
   "source": [
    "# How many sheets do we have? \n",
    "# (Show the number of sheets/dfs using the ExcelFile object sheet_names and the dictionary keys)\n",
    "print(\"Number of sheets: \", len(excel_file.sheet_names) )\n",
    "print(\"Number of sheets: \", len(all_sheets_dict.keys()) )"
   ]
  },
  {
   "cell_type": "code",
   "execution_count": 3,
   "metadata": {},
   "outputs": [
    {
     "name": "stdout",
     "output_type": "stream",
     "text": [
      "Population Continents Jan Feb Mar 1-13 14-3 15-3 16-3 17-3 18-3 19-3 20-3 21-3 22-3 23-3 24-3 25-3 26-3 27-3 28-3 29-3 30-3 31-3 1-4 2-4 3-4 4-4 5-4 6-4 7-4 8-4 9-4 10-4 11-4 12-4 13-4 14-4 15-4 16-4 17-4 18-1 19-4 20-4 21-4 22-4 23-4 24-4 25-4 26-4 27-4 28-4 29-4 30-4 1-5 2-5 3-5 4-5 5-5 6-5 7-5 8-5 9-5 10-5 11-5 12-5 13-5 14-5 15-5 16-5 17-5 18-5 19-5 20-5 21-5 22-5 23-5 24-5 25-5 26-5 27-5 28-5 29-5 30-5 31-5 1-6 2-6 3-6 4-6 5-6 6-6 7-6 8-6 9-6 10-6 11-6 12-6 13-6 14-6 \n",
      "\n",
      "\n",
      "Population Continents Jan Feb Mar 1-13 14-3 15-3 16-3 17-3 18-3 19-3 20-3 21-3 22-3 23-3 24-3 25-3 26-3 27-3 28-3 29-3 30-3 31-3 1-4 2-4 3-4 4-4 5-4 6-4 7-4 8-4 9-4 10-4 11-4 12-4 13-4 14-4 15-4 16-4 17-4 18-1 19-4 20-4 21-4 22-4 23-4 24-4 25-4 26-4 27-4 28-4 29-4 30-4 1-5 2-5 3-5 4-5 5-5 6-5 7-5 8-5 9-5 10-5 11-5 12-5 13-5 14-5 15-5 16-5 17-5 18-5 19-5 20-5 21-5 22-5 23-5 24-5 25-5 26-5 27-5 28-5 29-5 30-5 31-5 1-6 2-6 3-6 4-6 5-6 6-6 7-6 8-6 9-6 10-6 11-6 12-6 13-6 14-6 "
     ]
    }
   ],
   "source": [
    "# Iterate through the dictionary keys and print out the sheet names (For loop)\n",
    "for key in all_sheets_dict.keys():\n",
    "    print(key, end=\" \")\n",
    "\n",
    "print(\"\\n\\n\")\n",
    "    \n",
    "for name in excel_file.sheet_names:\n",
    "    print(name, end=\" \")"
   ]
  },
  {
   "cell_type": "code",
   "execution_count": 32,
   "metadata": {},
   "outputs": [
    {
     "name": "stdout",
     "output_type": "stream",
     "text": [
      "(165, 10)\n",
      "(216, 13)\n",
      "Index(['Country,', 'Unnamed: 1', 'Total', 'New', 'Total.1', 'New.1', 'Total.2',\n",
      "       'Active', 'Serious,', 'Tot Cases/'],\n",
      "      dtype='object')\n",
      "Index(['Country', 'Total Cases', 'New Cases', 'Total Deaths', 'New Deaths',\n",
      "       'Total Recovered', 'Active Cases', 'Serious/Critical',\n",
      "       'Total Cases/ 1M pop', 'Total Deaths/ 1M pop', 'Total Tests',\n",
      "       'Tests/1M pop', 'Population'],\n",
      "      dtype='object')\n",
      "The total cases for 16th of March : 182239\n",
      "The total cases for 13th of june : 7860524\n",
      "The difference between both is : 7678285\n"
     ]
    }
   ],
   "source": [
    "# Use the dataframe dictionary\n",
    "# How many rows and how many columns are in the sheet/df 16-3?\n",
    "print(all_sheets_dict['16-3'].shape)\n",
    "\n",
    "# How many rows and how many columns are in the sheet/df 13-6?\n",
    "print(all_sheets_dict['13-6'].shape)\n",
    "# What are the names of the columns in the sheet 16-3 and 13-6?\n",
    "print(all_sheets_dict['16-3'].columns)\n",
    "print(all_sheets_dict['13-6'].columns)\n",
    "all_sheets_dict['16-3'][2:]['Total'].astype(float).inplace=True\n",
    "\n",
    "# What is the sum of the Total Cases in the sheet 16-3 and 13-6?\n",
    "print('The total cases for 16th of March :' ,all_sheets_dict['16-3'][1:-1]['Total'].sum())\n",
    "print('The total cases for 13th of june :' ,all_sheets_dict['13-6'][:-1]['Total Cases'].sum())\n",
    "# What is the difference between the sum of Total Cases in the 16-3 and 13- df's?\n",
    "total16_3 = all_sheets_dict['16-3'][1:-1]['Total'].sum()\n",
    "total13_6 = all_sheets_dict['13-6'][:-1]['Total Cases'].sum()\n",
    "print('The difference between both is :' ,(total13_6 - total16_3))"
   ]
  },
  {
   "cell_type": "code",
   "execution_count": 18,
   "metadata": {},
   "outputs": [
    {
     "data": {
      "text/plain": [
       "Country,      object\n",
       "Unnamed: 1    object\n",
       "Total         object\n",
       "New           object\n",
       "Total.1       object\n",
       "New.1         object\n",
       "Total.2       object\n",
       "Active        object\n",
       "Serious,      object\n",
       "Tot Cases/    object\n",
       "dtype: object"
      ]
     },
     "execution_count": 18,
     "metadata": {},
     "output_type": "execute_result"
    }
   ],
   "source": [
    "(all_sheets_dict['16-3'].dtypes)"
   ]
  },
  {
   "cell_type": "code",
   "execution_count": null,
   "metadata": {},
   "outputs": [],
   "source": []
  }
 ],
 "metadata": {
  "kernelspec": {
   "display_name": "Python 3",
   "language": "python",
   "name": "python3"
  },
  "language_info": {
   "codemirror_mode": {
    "name": "ipython",
    "version": 3
   },
   "file_extension": ".py",
   "mimetype": "text/x-python",
   "name": "python",
   "nbconvert_exporter": "python",
   "pygments_lexer": "ipython3",
   "version": "3.7.6"
  }
 },
 "nbformat": 4,
 "nbformat_minor": 4
}
