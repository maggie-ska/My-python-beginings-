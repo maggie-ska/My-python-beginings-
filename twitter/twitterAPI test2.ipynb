{
 "cells": [
  {
   "cell_type": "code",
   "execution_count": 1,
   "metadata": {},
   "outputs": [],
   "source": [
    "import keys, tweepy"
   ]
  },
  {
   "cell_type": "code",
   "execution_count": 2,
   "metadata": {},
   "outputs": [],
   "source": [
    "# Make auth object  \n",
    "auth = tweepy.OAuthHandler(keys.consumer_key,keys.consumer_key_secret)"
   ]
  },
  {
   "cell_type": "code",
   "execution_count": 3,
   "metadata": {},
   "outputs": [],
   "source": [
    "auth.set_access_token(keys.access_token,keys.access_token_secret)"
   ]
  },
  {
   "cell_type": "code",
   "execution_count": 4,
   "metadata": {},
   "outputs": [],
   "source": [
    "# Make an API object \n",
    "api = tweepy.API(auth,wait_on_rate_limit=True,wait_on_rate_limit_notify=True)"
   ]
  },
  {
   "cell_type": "code",
   "execution_count": 5,
   "metadata": {},
   "outputs": [
    {
     "data": {
      "text/plain": [
       "tweepy.models.User"
      ]
     },
     "execution_count": 5,
     "metadata": {},
     "output_type": "execute_result"
    }
   ],
   "source": [
    "# having a look at the Donald's Trump twitter account \n",
    "\n",
    "twitter_user = \"realDonaldTrump\"\n",
    "\n",
    "trump = api.get_user(twitter_user)\n",
    "\n",
    "type(trump)"
   ]
  },
  {
   "cell_type": "code",
   "execution_count": 6,
   "metadata": {},
   "outputs": [
    {
     "data": {
      "text/plain": [
       "'Hello! https://t.co/2pfqTF2HkD'"
      ]
     },
     "execution_count": 6,
     "metadata": {},
     "output_type": "execute_result"
    }
   ],
   "source": [
    "# show the users latest tweet \n",
    "\n",
    "trump.status.text"
   ]
  },
  {
   "cell_type": "code",
   "execution_count": 7,
   "metadata": {},
   "outputs": [
    {
     "data": {
      "text/plain": [
       "'45th President of the United States of America🇺🇸'"
      ]
     },
     "execution_count": 7,
     "metadata": {},
     "output_type": "execute_result"
    }
   ],
   "source": [
    "# get the users description\n",
    "\n",
    "trump.description"
   ]
  },
  {
   "cell_type": "code",
   "execution_count": 8,
   "metadata": {},
   "outputs": [
    {
     "name": "stdout",
     "output_type": "stream",
     "text": [
      "Account name: Donald J. Trump\n",
      "Account screen name: realDonaldTrump \n"
     ]
    }
   ],
   "source": [
    "# get the name and the screen name \n",
    "print(f'Account name: {trump.name}\\nAccount screen name: {trump.screen_name} ')\n"
   ]
  },
  {
   "cell_type": "code",
   "execution_count": 9,
   "metadata": {},
   "outputs": [
    {
     "data": {
      "text/plain": [
       "{'hashtags': [],\n",
       " 'symbols': [],\n",
       " 'user_mentions': [],\n",
       " 'urls': [{'url': 'https://t.co/2pfqTF2HkD',\n",
       "   'expanded_url': 'https://twitter.com/8news/status/1313938078407499776',\n",
       "   'display_url': 'twitter.com/8news/status/1…',\n",
       "   'indices': [7, 30]}]}"
      ]
     },
     "execution_count": 9,
     "metadata": {},
     "output_type": "execute_result"
    }
   ],
   "source": [
    "# show the entities in a tweet/status\n",
    "\n",
    "ent = trump.status.entities\n",
    "ent"
   ]
  },
  {
   "cell_type": "code",
   "execution_count": 10,
   "metadata": {},
   "outputs": [
    {
     "data": {
      "text/plain": [
       "'https://twitter.com/8news/status/1313938078407499776'"
      ]
     },
     "execution_count": 10,
     "metadata": {},
     "output_type": "execute_result"
    }
   ],
   "source": [
    "# to grab expanded_url - reach into dic than reach into the list and reach into dict again that is in this list \n",
    "# LOOK AT THE BRACKETS \n",
    "\n",
    "ent[\"urls\"][0][\"expanded_url\"]"
   ]
  },
  {
   "cell_type": "markdown",
   "metadata": {},
   "source": [
    "### <font color = 'red'> *using differend API method to get the last 10 tweets*"
   ]
  },
  {
   "cell_type": "code",
   "execution_count": 11,
   "metadata": {},
   "outputs": [],
   "source": [
    "# adding a cout = will only look at the lats 100 tweets by default its 20 tweets \n",
    "\n",
    "cursor = tweepy.Cursor(api.user_timeline,screen_name = twitter_user,count =100)"
   ]
  },
  {
   "cell_type": "code",
   "execution_count": 12,
   "metadata": {},
   "outputs": [],
   "source": [
    "# empty list to hold the tweets \n",
    "\n",
    "last_tweets = []\n",
    "\n",
    "for tweet in cursor.items(10):\n",
    "    last_tweets.append(tweet.text)"
   ]
  },
  {
   "cell_type": "code",
   "execution_count": 13,
   "metadata": {},
   "outputs": [
    {
     "data": {
      "text/plain": [
       "['Hello! https://t.co/2pfqTF2HkD',\n",
       " 'RT @ABC13News: President @realDonaldTrump said Tuesday that he declassified all documents related to the FBI investigation into Russian ele…',\n",
       " 'I will save your a Second Amendment, Virginia. He is going to take it away. Vote Trump! https://t.co/UxdGZIQ5QV',\n",
       " \"RT @NickForVA: I'm live online tonight, joined by my daughter Lilly, for our Tuesday Night Town Hall! With four weeks until the election en…\",\n",
       " 'RT @NickForVA: If @SpanbergerVA07 had her way, she’d make YOU foot the bill for her false attack ads, her staff’s salaries, and her persona…',\n",
       " 'RT @NickForVA: Now more than ever, we need leadership in Congress that will work to make it easier, not harder, to grow the economy and rec…',\n",
       " 'Nick has my Complete and Total Endorsement. A warrior for Virginia and the USA! Big on protecting your Second Amend… https://t.co/Og4q3wfQDm',\n",
       " 'The Gallup Poll has just come out with the incredible finding that 56% of you say that you are better off today, du… https://t.co/KCt01MriWj',\n",
       " '...I do not tolerate ANY extreme violence. Defending ALL Americans, even those who oppose and attack me, is what I… https://t.co/sWooWpTxgW',\n",
       " '...today that they foiled a dangerous plot against the Governor of Michigan. Rather than say thank you, she calls m… https://t.co/AYwTaULJ8k']"
      ]
     },
     "execution_count": 13,
     "metadata": {},
     "output_type": "execute_result"
    }
   ],
   "source": [
    "last_tweets"
   ]
  },
  {
   "cell_type": "code",
   "execution_count": 14,
   "metadata": {},
   "outputs": [],
   "source": [
    "from textblob import TextBlob\n",
    "from textblob.sentiments import NaiveBayesAnalyzer"
   ]
  },
  {
   "cell_type": "code",
   "execution_count": 15,
   "metadata": {},
   "outputs": [
    {
     "name": "stdout",
     "output_type": "stream",
     "text": [
      "Sentiment(classification='neg', p_pos=0.38888888888888884, p_neg=0.6111111111111108)\n",
      "Sentiment(classification='neg', p_pos=0.05234440070160909, p_neg=0.9476555992983905)\n",
      "Sentiment(classification='neg', p_pos=0.33124583239174826, p_neg=0.6687541676082496)\n",
      "Sentiment(classification='pos', p_pos=0.9310863621614391, p_neg=0.06891363783856216)\n",
      "Sentiment(classification='neg', p_pos=0.21001987042599785, p_neg=0.7899801295740033)\n",
      "Sentiment(classification='pos', p_pos=0.8827406811918819, p_neg=0.11725931880811775)\n",
      "Sentiment(classification='neg', p_pos=0.03571751446297075, p_neg=0.9642824855370317)\n",
      "Sentiment(classification='pos', p_pos=0.5808787407525002, p_neg=0.41912125924749816)\n",
      "Sentiment(classification='pos', p_pos=0.9496716883726053, p_neg=0.050328311627395074)\n",
      "Sentiment(classification='neg', p_pos=0.43058267983579024, p_neg=0.5694173201642116)\n"
     ]
    }
   ],
   "source": [
    "for tweet in last_tweets:\n",
    "    blob = TextBlob(tweet,analyzer = NaiveBayesAnalyzer())\n",
    "    print(blob.sentiment)"
   ]
  },
  {
   "cell_type": "code",
   "execution_count": 16,
   "metadata": {},
   "outputs": [
    {
     "data": {
      "text/plain": [
       "7"
      ]
     },
     "execution_count": 16,
     "metadata": {},
     "output_type": "execute_result"
    }
   ],
   "source": [
    "tweets = api.user_timeline(screen_name = 'SkaMaggie')\n",
    "len(tweets)"
   ]
  },
  {
   "cell_type": "code",
   "execution_count": 21,
   "metadata": {},
   "outputs": [
    {
     "data": {
      "text/plain": [
       "{'created_at': 'Fri Oct 09 10:15:08 +0000 2020',\n",
       " 'id': 1314509693532934147,\n",
       " 'id_str': '1314509693532934147',\n",
       " 'text': '#horsepeope 😀👍 https://t.co/2wTONC8rRI',\n",
       " 'truncated': False,\n",
       " 'entities': {'hashtags': [{'text': 'horsepeope', 'indices': [0, 11]}],\n",
       "  'symbols': [],\n",
       "  'user_mentions': [],\n",
       "  'urls': [],\n",
       "  'media': [{'id': 1314508238201774080,\n",
       "    'id_str': '1314508238201774080',\n",
       "    'indices': [15, 38],\n",
       "    'media_url': 'http://pbs.twimg.com/media/Ej4SRzBXYAAChqn.png',\n",
       "    'media_url_https': 'https://pbs.twimg.com/media/Ej4SRzBXYAAChqn.png',\n",
       "    'url': 'https://t.co/2wTONC8rRI',\n",
       "    'display_url': 'pic.twitter.com/2wTONC8rRI',\n",
       "    'expanded_url': 'https://twitter.com/SkaMaggie/status/1314509693532934147/photo/1',\n",
       "    'type': 'photo',\n",
       "    'sizes': {'large': {'w': 776, 'h': 767, 'resize': 'fit'},\n",
       "     'thumb': {'w': 150, 'h': 150, 'resize': 'crop'},\n",
       "     'small': {'w': 680, 'h': 672, 'resize': 'fit'},\n",
       "     'medium': {'w': 776, 'h': 767, 'resize': 'fit'}}}]},\n",
       " 'extended_entities': {'media': [{'id': 1314508238201774080,\n",
       "    'id_str': '1314508238201774080',\n",
       "    'indices': [15, 38],\n",
       "    'media_url': 'http://pbs.twimg.com/media/Ej4SRzBXYAAChqn.png',\n",
       "    'media_url_https': 'https://pbs.twimg.com/media/Ej4SRzBXYAAChqn.png',\n",
       "    'url': 'https://t.co/2wTONC8rRI',\n",
       "    'display_url': 'pic.twitter.com/2wTONC8rRI',\n",
       "    'expanded_url': 'https://twitter.com/SkaMaggie/status/1314509693532934147/photo/1',\n",
       "    'type': 'photo',\n",
       "    'sizes': {'large': {'w': 776, 'h': 767, 'resize': 'fit'},\n",
       "     'thumb': {'w': 150, 'h': 150, 'resize': 'crop'},\n",
       "     'small': {'w': 680, 'h': 672, 'resize': 'fit'},\n",
       "     'medium': {'w': 776, 'h': 767, 'resize': 'fit'}}}]},\n",
       " 'source': '<a href=\"https://mobile.twitter.com\" rel=\"nofollow\">Twitter Web App</a>',\n",
       " 'in_reply_to_status_id': None,\n",
       " 'in_reply_to_status_id_str': None,\n",
       " 'in_reply_to_user_id': None,\n",
       " 'in_reply_to_user_id_str': None,\n",
       " 'in_reply_to_screen_name': None,\n",
       " 'user': {'id': 1313469959843074049,\n",
       "  'id_str': '1313469959843074049',\n",
       "  'name': 'Maggie Zielinska',\n",
       "  'screen_name': 'SkaMaggie',\n",
       "  'location': '',\n",
       "  'description': '',\n",
       "  'url': None,\n",
       "  'entities': {'description': {'urls': []}},\n",
       "  'protected': False,\n",
       "  'followers_count': 6,\n",
       "  'friends_count': 35,\n",
       "  'listed_count': 0,\n",
       "  'created_at': 'Tue Oct 06 13:23:53 +0000 2020',\n",
       "  'favourites_count': 11,\n",
       "  'utc_offset': None,\n",
       "  'time_zone': None,\n",
       "  'geo_enabled': False,\n",
       "  'verified': False,\n",
       "  'statuses_count': 7,\n",
       "  'lang': None,\n",
       "  'contributors_enabled': False,\n",
       "  'is_translator': False,\n",
       "  'is_translation_enabled': False,\n",
       "  'profile_background_color': 'F5F8FA',\n",
       "  'profile_background_image_url': None,\n",
       "  'profile_background_image_url_https': None,\n",
       "  'profile_background_tile': False,\n",
       "  'profile_image_url': 'http://abs.twimg.com/sticky/default_profile_images/default_profile_normal.png',\n",
       "  'profile_image_url_https': 'https://abs.twimg.com/sticky/default_profile_images/default_profile_normal.png',\n",
       "  'profile_link_color': '1DA1F2',\n",
       "  'profile_sidebar_border_color': 'C0DEED',\n",
       "  'profile_sidebar_fill_color': 'DDEEF6',\n",
       "  'profile_text_color': '333333',\n",
       "  'profile_use_background_image': True,\n",
       "  'has_extended_profile': True,\n",
       "  'default_profile': True,\n",
       "  'default_profile_image': True,\n",
       "  'following': False,\n",
       "  'follow_request_sent': False,\n",
       "  'notifications': False,\n",
       "  'translator_type': 'none'},\n",
       " 'geo': None,\n",
       " 'coordinates': None,\n",
       " 'place': None,\n",
       " 'contributors': None,\n",
       " 'is_quote_status': False,\n",
       " 'retweet_count': 0,\n",
       " 'favorite_count': 0,\n",
       " 'favorited': False,\n",
       " 'retweeted': False,\n",
       " 'possibly_sensitive': False,\n",
       " 'lang': 'und'}"
      ]
     },
     "execution_count": 21,
     "metadata": {},
     "output_type": "execute_result"
    }
   ],
   "source": [
    "tweets[0]._json\n"
   ]
  },
  {
   "cell_type": "code",
   "execution_count": 23,
   "metadata": {},
   "outputs": [
    {
     "data": {
      "text/plain": [
       "100"
      ]
     },
     "execution_count": 23,
     "metadata": {},
     "output_type": "execute_result"
    }
   ],
   "source": [
    "more_tweets = api.user_timeline(screen_name = 'nasa',count = 100)\n",
    "len(more_tweets)"
   ]
  },
  {
   "cell_type": "code",
   "execution_count": 24,
   "metadata": {},
   "outputs": [
    {
     "data": {
      "text/plain": [
       "tweepy.models.Status"
      ]
     },
     "execution_count": 24,
     "metadata": {},
     "output_type": "execute_result"
    }
   ],
   "source": [
    "type(more_tweets[0])"
   ]
  },
  {
   "cell_type": "code",
   "execution_count": 28,
   "metadata": {},
   "outputs": [
    {
     "name": "stdout",
     "output_type": "stream",
     "text": [
      "Tweet number: 1\n",
      "RT @NASAPersevere: I'm getting closer to Mars. Once there, I will use my “radar eyes” to see what’s beneath the surface.\n",
      "\n",
      "My ground-penetra…\n",
      "***\n",
      "Tweet number: 2\n",
      "Our #Artemis I mission will be instrumental in testing all of our technologies to ensure astronaut safety:\n",
      " \n",
      "🧑‍🚀 Th… https://t.co/8TAVNu6iLh\n",
      "***\n",
      "Tweet number: 3\n",
      "Want to see 3 people fly overhead at 17,500 mph? If you’re in the Washington, DC area tonight at 7:03pm ET, you can… https://t.co/LsBF32hW6J\n",
      "***\n",
      "Tweet number: 4\n",
      "How can sunspots help scientists detect the potential for life on other planets?\n",
      "\n",
      "By looking at sunspots in low res… https://t.co/qnPNXsoe6p\n",
      "***\n",
      "Tweet number: 5\n",
      "@LockheedMartin @NASA_Orion That's a pretty solid #NASAMoonKit. Thanks for keeping our @NASA_Astronauts safe and he… https://t.co/vbDaJKWnYJ\n",
      "***\n",
      "Tweet number: 6\n",
      "On Wed., Oct. 14, @Astro_Christina and scientists from the @Space_Station program &amp; @ISS_CASIS will hold a virtual… https://t.co/jbsywtkPBB\n",
      "***\n",
      "Tweet number: 7\n",
      "Three space travelers will launch to @Space_Station Oct. 14. 🚀 Kate Rubins of @NASA_Astronauts and Sergey Ryzhikov… https://t.co/dTHyq94CeP\n",
      "***\n",
      "Tweet number: 8\n",
      "RT @JimBridenstine: Exciting new science from @OSIRISREx reveals that the area on asteroid Bennu where the spacecraft will collect a sample…\n",
      "***\n",
      "Tweet number: 9\n",
      "RT @NASAMars: As you enjoy Mars glowing in the eastern sky this evening, just remember that bright, red dot is actually an active world. Th…\n",
      "***\n",
      "Tweet number: 10\n",
      "LIVE NOW: Join astronaut Frank Rubio and @NASAPeople who contribute to our mission of exploration as we celebrate… https://t.co/A6omLalAat\n",
      "***\n",
      "Tweet number: 11\n",
      "RT @NASA_Astronauts: Breaking: Butch Wilmore to fly on the Boeing Starliner crew flight test alongside NASA Astronauts Nicole Mann (@AstroD…\n",
      "***\n",
      "Tweet number: 12\n",
      "UPDATE: NASA astronaut Barry \"Butch\" Wilmore will take the place of @BoeingSpace astronaut @Astro_Ferg on the first… https://t.co/cHoCSwQewi\n",
      "***\n",
      "Tweet number: 13\n",
      "RT @JimBridenstine: Prepare for #Artemis with @NASASTEM opportunities including the Artemis Moon Pod Essay Contest for K-12 students in the…\n",
      "***\n",
      "Tweet number: 14\n",
      "AWOOO! 🐺 Our @NASAHubble Space Telescope took this image of a spiral galaxy in the constellation Lupus, the Wolf.… https://t.co/GXIvJ9jwuv\n",
      "***\n",
      "Tweet number: 15\n",
      "What would you pack on a trip to the Moon? 🧳 📸 🥪 🧸 📚 ⚽\n",
      "\n",
      "As we prepare to fire up our @NASA_SLS Moon rocket engines… https://t.co/WDsf0CTJck\n",
      "***\n",
      "Tweet number: 16\n",
      "The @NASAEarth &amp; @NOAA Suomi NPP satellite acquired infrared imagery of Hurricane Delta on Oct. 6. We use infrared… https://t.co/X49yIFxVWc\n",
      "***\n",
      "Tweet number: 17\n",
      "Shake, rattle, and roll. 🚀 \n",
      "\n",
      "We recently tested @NASAWebb to ensure that it would be able to withstand the thunderi… https://t.co/yk6Z5ljAF3\n",
      "***\n",
      "Tweet number: 18\n",
      "RT @Astro_SEAL: The best thing about a cargo ship arriving is getting some fresh food! #grapefruit #oranges #carrots #garlic https://t.co/9…\n",
      "***\n",
      "Tweet number: 19\n",
      "✏️ POP QUIZ: What patented @NASA_Technology is tiny enough to catch a ride on a cube satellite but plays a growing… https://t.co/ez7KGng43X\n",
      "***\n",
      "Tweet number: 20\n",
      "RT @NASA_SLS: Worried you don't have enough space in your #NASAMoonKit? The SLS Block 1B rocket can carry 440 packed bags at 50 pounds a pi…\n",
      "***\n",
      "Tweet number: 21\n",
      "A hurricane, earthquake, and a tropical storm didn't stop Puerto Rico's @UPRRP team from developing a new experimen… https://t.co/HMJg6UdrHS\n",
      "***\n",
      "Tweet number: 22\n",
      "RT @Commercial_Crew: #DYK: The Crew-1 astronauts named the Crew Dragon spacecraft Resilience, highlighting that there is no limit to what w…\n",
      "***\n",
      "Tweet number: 23\n",
      "@AdeenPervex Beautiful! That should definitely keep you occupied on your lunar journey! 😍\n",
      "***\n",
      "Tweet number: 24\n",
      "Stars, nebulae, and galaxies shine in this new panorama of the northern sky from our @NASAExoplanets TESS mission.… https://t.co/Ov42wmfHm1\n",
      "***\n",
      "Tweet number: 25\n",
      "@revedem0i 😍 There's a lot to love about this. We bet you'd have plenty to write about on your way to the Moon! Tha… https://t.co/2mUSeHMbaE\n",
      "***\n",
      "Tweet number: 26\n",
      "@AdeenPervex You won't be bored! We love it. Thanks for sharing your #NASAMoonKit!🚀😍\n",
      "***\n",
      "Tweet number: 27\n",
      "RT @JimBridenstine: More progress on @NASA_SLS Green Run Hot Fire! @NASA_Stennis teams completed the sixth test of the Green Run test serie…\n",
      "***\n",
      "Tweet number: 28\n",
      "☄️ Asteroid tagging \n",
      "🚀 Rocket transporting \n",
      "🔍 Black hole observing \n",
      "\n",
      "Subscribe to our Curious Universe podcast for… https://t.co/ftb6W1GSLj\n",
      "***\n",
      "Tweet number: 29\n",
      "RT @JimBridenstine: Last week, all four solar arrays were installed on @NASA_Orion spacecraft for the Artemis I mission. Great work by the…\n",
      "***\n",
      "Tweet number: 30\n",
      "RT @NASASCaN: It's #WorldSpaceWeek! #WSW2020 🚀\n",
      "\n",
      "The Space Network (@NASA_TDRS) provides comm and tracking services to the International Spa…\n",
      "***\n",
      "Tweet number: 31\n",
      "RT @Space_Station: The #Cygnus cargo craft has been bolted into place on the station's Unity module at 8:01 am ET while the spacecrafts wer…\n",
      "***\n",
      "Tweet number: 32\n",
      "At 8:01am ET, the @NorthropGrumman #Cygnus spacecraft was successfully installed to the @Space_Station. Some of the… https://t.co/Xp50gfue0j\n",
      "***\n",
      "Tweet number: 33\n",
      "LIVE NOW: The @NorthropGrumman #Cygnus spacecraft is installed to the @Space_Station, bringing nearly 8,000 pounds… https://t.co/OtcTVN5Xep\n",
      "***\n",
      "Tweet number: 34\n",
      "\"Welcome to the International @Space_Station, K.C.\"\n",
      "\n",
      "Capture confirmed! At 5:32am ET, @Astro_SEAL successfully used… https://t.co/qkPXQfVE43\n",
      "***\n",
      "Tweet number: 35\n",
      "RT @Space_Station: .@NorthropGrumman's #Cygnus cargo craft is holding 30 meters away from the station. Next, it will maneuver to its 10 met…\n",
      "***\n",
      "Tweet number: 36\n",
      "Every @NorthropGrumman #Cygnus spacecraft is named after an influential space explorer, and this one is no exceptio… https://t.co/OdR2hOF1XU\n",
      "***\n",
      "Tweet number: 37\n",
      "LIVE NOW: Following a successful launch on Friday night from @NASA_Wallops, the @NorthropGrumman #Cygnus spacecraft… https://t.co/GZCxuaTNGa\n",
      "***\n",
      "Tweet number: 38\n",
      "In recognition of the upcoming #Artemis Green Run Hot Fire test bringing us closer to launching humanity to the Moo… https://t.co/1FonAfK17Z\n",
      "***\n",
      "Tweet number: 39\n",
      "Did you miss out on #SciFest this week? Or did you attend and can't get enough? Either way, you're in luck!… https://t.co/quUGnbpUG4\n",
      "***\n",
      "Tweet number: 40\n",
      "🚀 10.9 million names from around the WORLD are on their way to Mars right now aboard our @NASAPersevere rover. \n",
      "\n",
      "If… https://t.co/rDRFu2kwCC\n",
      "***\n",
      "Tweet number: 41\n",
      "RT @NASAKennedy: Four astronauts are getting ready to launch to the @Space_Station on Oct. 31 aboard a @SpaceX Crew Dragon. 🚀 \n",
      "\n",
      "Learn more…\n",
      "***\n",
      "Tweet number: 42\n",
      "Calling all problem solvers! 👩‍💻 👨‍💻 \n",
      "\n",
      "Join our 9th annual @SpaceApps Challenge to find hacks for real-life problem… https://t.co/pqiPlhfLNy\n",
      "***\n",
      "Tweet number: 43\n",
      "This week:\n",
      "\n",
      "👩‍🚀 Three space travelers prepare for an upcoming mission \n",
      "🚀 Cargo &amp; @ISS_Research launch to the… https://t.co/ll2xjxzzGV\n",
      "***\n",
      "Tweet number: 44\n",
      "New @ISS_Research is headed to the @Space_Station after the successful launch of @NorthropGrumman's Cygnus spacecra… https://t.co/uUCW3vxCmT\n",
      "***\n",
      "Tweet number: 45\n",
      "🚀@NorthropGrumman’s #Cygnus spacecraft, named in honor of astronaut Kalpana Chawla, the first woman of Indian desce… https://t.co/oixJFTtgMk\n",
      "***\n",
      "Tweet number: 46\n",
      "After tonight's perfect launch and ride to orbit, the @NorthropGrumman Cygnus cargo spacecraft will arrive at the… https://t.co/9xi2qMbqNy\n",
      "***\n",
      "Tweet number: 47\n",
      "RT @northropgrumman: Liftoff! Gorgeous night view as our #Antares rocket carries the NG-14 S.S. Kalpana Chawla to the @Space_Station from @…\n",
      "***\n",
      "Tweet number: 48\n",
      "\"It was a spectacular launch. I don't think you can ever get tired of watching these night launches,\" says Kenneth… https://t.co/IqK1bNNmsy\n",
      "***\n",
      "Tweet number: 49\n",
      "Spacecraft separation confirmed. @NorthropGrumman's Cygnus cargo spacecraft, named the S.S. Kalpana Chawla, is on i… https://t.co/exf7DjgWdb\n",
      "***\n",
      "Tweet number: 50\n",
      "Main engine cutoff and stage one separation are confirmed, as @NorthropGrumman's Cygnus cargo spacecraft makes its… https://t.co/uIEwnbIONs\n",
      "***\n",
      "Tweet number: 51\n",
      "3.. 2.. 1.. liftoff. 🚀\n",
      "\n",
      "@NorthropGrumman's Antares rocket &amp; Cygnus spacecraft launch from @NASA_Wallops. This Cygnu… https://t.co/80ErzAw0S4\n",
      "***\n",
      "Tweet number: 52\n",
      "The range is green and no issues are being worked with tonight's @NorthropGrumman cargo resupply mission launch fro… https://t.co/TtiMeqrZcP\n",
      "***\n",
      "Tweet number: 53\n",
      "The @NorthropGrumman Antares rocket and Cygnus cargo spacecraft, named the S.S. Kalpana Chawla, are \"go\" for launch… https://t.co/ynS8oBXFHR\n",
      "***\n",
      "Tweet number: 54\n",
      "LIVE: Watch a launch from @NASA_Wallops in Virginia to the @Space_Station! @NorthropGrumman's Cygnus spacecraft &amp; A… https://t.co/6r1X9QpK30\n",
      "***\n",
      "Tweet number: 55\n",
      "RT @ISS_Research: Tune in TONIGHT at 8:45pm ET for the rescheduled launch attempt of nearly 8,000 pounds of supplies and science experiment…\n",
      "***\n",
      "Tweet number: 56\n",
      "RT @NASA_Wallops: 🎬 🚀 Take two! The countdown is on for the launch of the #Antares vehicle carrying the #Cygnus spacecraft with science and…\n",
      "***\n",
      "Tweet number: 57\n",
      "RT @airandspace: Later this month, @OSIRISREx is scheduled to touch down on the asteroid Bennu for its first sample collection attempt. In…\n",
      "***\n",
      "Tweet number: 58\n",
      "This week on #SpaceToGround: The next Soyuz crew launching to @Space_Station completes training, while… https://t.co/IEgjh49Axj\n",
      "***\n",
      "Tweet number: 59\n",
      "What's up in the night sky this October? 🌌 🔭  \n",
      " \n",
      "A second full Moon on Halloween, and a sharp view of Mars at its b… https://t.co/axHB2lDSuT\n",
      "***\n",
      "Tweet number: 60\n",
      "RT @northropgrumman: We’re set to launch #Antares from @NASA_Wallops this evening at 9:16 p.m. EDT following last night’s scrub due to a gr…\n",
      "***\n",
      "Tweet number: 61\n",
      "RT @JimBridenstine: This weekend, @NASA @SpaceApps invites problem-solvers worldwide to Take Action from home. We are thrilled to collabora…\n",
      "***\n",
      "Tweet number: 62\n",
      "RT @NASAJPL: We're kicking off October with a micro Harvest Moon 🌕 the closest full moon to the September equinox. Plus: We can expect the…\n",
      "***\n",
      "Tweet number: 63\n",
      "Pending a resolution of the problem at @NASA_Wallops, coverage for tomorrow's launch attempt will begin at 8:45pm E… https://t.co/vdTZ4yuUgV\n",
      "***\n",
      "Tweet number: 64\n",
      "RT @northropgrumman: We have scrubbed tonight's #Antares launch attempt after receiving off-nominal data from ground support equipment. Sta…\n",
      "***\n",
      "Tweet number: 65\n",
      "To recap: tonight's launch attempt for @NorthropGrumman's Antares rocket to send the #Cygnus resupply craft to the… https://t.co/4kG7VSmR83\n",
      "***\n",
      "Tweet number: 66\n",
      "Preliminary indication for tonight's launch scrub from @NASA_Wallops is attributed to a piece of ground support equ… https://t.co/ECWyLup8mP\n",
      "***\n",
      "Tweet number: 67\n",
      "Tonight's launch from @NASA_Wallops has been scrubbed. Stand by for updates. https://t.co/CmSYuve8c4\n",
      "***\n",
      "Tweet number: 68\n",
      "While the range was unclear before, it is clear now. Liftoff is now scheduled at 9:43 ET. https://t.co/OrN79uYzUB\n",
      "***\n",
      "Tweet number: 69\n",
      "At the time of liftoff tonight, the three residents on board the @Space_Station — @Roscosmos cosmonauts Anatoly Iva… https://t.co/sEEZs37d68\n",
      "***\n",
      "Tweet number: 70\n",
      "RT @NASAGoddard: ⏱️🚀Our colleagues at @NASA_Wallops are just about 20 minutes away from a rocket launch! If you live in the Mid-Atlantic, y…\n",
      "***\n",
      "Tweet number: 71\n",
      "@ofKofiandDej @Space_Station Great suggestion, noted. 👌🏽\n",
      "***\n",
      "Tweet number: 72\n",
      "🧀 Smoked gouda\n",
      "🍒 Chocolate-covered cranberries\n",
      "🌭 Sausage\n",
      "\n",
      "Among the four tons of supplies and scientific experiment… https://t.co/RxHdnuhaxT\n",
      "***\n",
      "Tweet number: 73\n",
      "@TroyRubert @Space_Station @northropgrumman @NASA_Wallops https://t.co/J1GVhag5eZ\n",
      "***\n",
      "Tweet number: 74\n",
      "@KristinDykes1 @Space_Station @northropgrumman @NASA_Wallops Hey Kristin! Thank you so much! 🙌🏽\n",
      "***\n",
      "Tweet number: 75\n",
      "As has become the custom for @NorthropGrumman, each #Cygnus resupply craft is named after a historic space explorer… https://t.co/2KWYgqApln\n",
      "***\n",
      "Tweet number: 76\n",
      "LIVE NOW: We are launching nearly 8,000 pounds of cargo and supples to the @Space_Station! Watch the… https://t.co/dskyqV0QVY\n",
      "***\n",
      "Tweet number: 77\n",
      "RT @northropgrumman: We are under 2 hours from launch of our NG-14 mission to the @Space_Station from @NASA_Wallops. Are you near the Easte…\n",
      "***\n",
      "Tweet number: 78\n",
      "RT @NASA_Wallops: The countdown has started for the @northropgrumman #Cygnus spacecraft carrying nearly 8,000 pounds of cargo and supplies…\n",
      "***\n",
      "Tweet number: 79\n",
      "As we propel forward to the 🌜 Moon, 🔴 Mars, &amp; beyond the 🌌 stars, we'll need advanced 3D printing construction syst… https://t.co/qA2RNnQKNW\n",
      "***\n",
      "Tweet number: 80\n",
      "🚀 @SpaceApps 2020 is on!\n",
      "\n",
      "We've teamed up with 4 other space agencies — @ESA, @jaxa_jp, @csa_asc &amp; @CNES — to devel… https://t.co/qqNSIppqwb\n",
      "***\n",
      "Tweet number: 81\n",
      "@CenterWillHold @Space_Station @Astro_Jessica Hey Olatunde! 🖖🏽 Thank you very much for your question. It made it in… https://t.co/O5ck5Kfy8a\n",
      "***\n",
      "Tweet number: 82\n",
      "@sana_vinoth @NASA_Astronauts @Space_Station @Astro_Jessica Hey Sana! Your great questions made it into our… https://t.co/DvGv2KWqce\n",
      "***\n",
      "Tweet number: 83\n",
      "If you've ever wondered how astronauts use the bathroom in space –– today’s your day.\n",
      "\n",
      "In this NEW #AskNASA episode… https://t.co/p6yP6D5xEM\n",
      "***\n",
      "Tweet number: 84\n",
      ".@NASAHubble watched a star explode into oblivion. At its peak, the supernova burst was 5 billion times as bright a… https://t.co/T7I2NKJqP2\n",
      "***\n",
      "Tweet number: 85\n",
      "RT @NASAhistory: #HappyBirthday to us! #OTD in 1958, NASA officially began operation. In the 62 years since President Eisenhower signed off…\n",
      "***\n",
      "Tweet number: 86\n",
      "This Friday, Oct. 2 in a live event from the @Space_Station at 12:25pm ET, @Astro_SEAL answers questions from high… https://t.co/oeTBmfyedX\n",
      "***\n",
      "Tweet number: 87\n",
      "@airandspace Hey, thanks! You all are stellar! ✨ https://t.co/KLbvOah0Yn\n",
      "***\n",
      "Tweet number: 88\n",
      "RT @esaspaceflight: .@ESA and the worm - Putting our stamp on the next mission to the #Moon! https://t.co/xQFVcNlaaF #Artemis https://t.co/…\n",
      "***\n",
      "Tweet number: 89\n",
      "🚀 T-minus 30 days to the 20th anniversary of the historic launch of Expedition 1, the first-ever crew to live and w… https://t.co/turG7V5ta2\n",
      "***\n",
      "Tweet number: 90\n",
      "RT @SpaceApps: The Opening Ceremony for #SpaceApps 2020 is tomorrow, October 1st! \n",
      "\n",
      "Tune in at 5pm ET for a welcome message, tips, &amp; guides…\n",
      "***\n",
      "Tweet number: 91\n",
      "RT @NASAPersevere: I’ve just made my second in-flight course correction, to make sure I stay on target for my date with Mars. ~187 million…\n",
      "***\n",
      "Tweet number: 92\n",
      "On Oct. 1, @NorthropGrumman's resupply mission to @Space_Station is set to lift off at 9:38pm ET from @NASA_Wallops… https://t.co/9VQEVlIUjI\n",
      "***\n",
      "Tweet number: 93\n",
      "🎈Diverse teams enrich the world. In honor of National #HispanicHeritageMonth, we're celebrating NASA team members w… https://t.co/xTztu1ABrW\n",
      "***\n",
      "Tweet number: 94\n",
      "LIVE: Join us for our first bilingual #NASAScience Live episode in honor of #HispanicHeritageMonth:… https://t.co/GwwDneDvov\n",
      "***\n",
      "Tweet number: 95\n",
      "Join us today for two live events honoring #HispanicHeritageMonth! All times EDT:\n",
      "\n",
      "3pm: A bilingual edition of… https://t.co/yrpDaDXuHp\n",
      "***\n",
      "Tweet number: 96\n",
      "Bob and Doug set the stage. Now, Crew-1 is ready to #LaunchAmerica once again.\n",
      "\n",
      "On Oct. 31, the @SpaceX Crew Dragon… https://t.co/F5O3OWgy3J\n",
      "***\n",
      "Tweet number: 97\n",
      "We're returning to the Moon, and our historic \"worm\" logo will be along for the ride. At @NASAKennedy, teams applie… https://t.co/QV5kmKrKYJ\n",
      "***\n",
      "Tweet number: 98\n",
      "RT @JimBridenstine: I’m excited to share the first photos of the @NASA worm and @ESA logo that will be on the #Artemis I mission. I am look…\n",
      "***\n",
      "Tweet number: 99\n",
      "Happy #InternationalPodcastDay! You may have seen our rocket launches, images of planets and galaxies, or astronaut… https://t.co/4haVUnmulH\n",
      "***\n",
      "Tweet number: 100\n",
      "🤳 RIGHT NOW: The @NASA_Astronauts flying on the @SpaceX Crew-1 mission go LIVE on @Instagram:… https://t.co/6rqW1y9yUH\n",
      "***\n"
     ]
    }
   ],
   "source": [
    "for num,status in enumerate(more_tweets,start = 1):\n",
    "    print(f'Tweet number: {num}\\n{status.text}\\n***')"
   ]
  },
  {
   "cell_type": "code",
   "execution_count": null,
   "metadata": {},
   "outputs": [],
   "source": []
  }
 ],
 "metadata": {
  "kernelspec": {
   "display_name": "Python 3",
   "language": "python",
   "name": "python3"
  },
  "language_info": {
   "codemirror_mode": {
    "name": "ipython",
    "version": 3
   },
   "file_extension": ".py",
   "mimetype": "text/x-python",
   "name": "python",
   "nbconvert_exporter": "python",
   "pygments_lexer": "ipython3",
   "version": "3.7.9"
  }
 },
 "nbformat": 4,
 "nbformat_minor": 4
}
