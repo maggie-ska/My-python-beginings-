{
 "cells": [
  {
   "cell_type": "code",
   "execution_count": 1,
   "metadata": {},
   "outputs": [],
   "source": [
    "from geopy.geocoders import Nominatim"
   ]
  },
  {
   "cell_type": "code",
   "execution_count": 10,
   "metadata": {},
   "outputs": [
    {
     "name": "stdout",
     "output_type": "stream",
     "text": [
      "Lubin, powiat lubiński, województwo dolnośląskie, Polska\n",
      "51.3974465\n",
      "16.2051275\n",
      "235744225\n"
     ]
    }
   ],
   "source": [
    "geolocator = Nominatim(user_agent ='Test app')\n",
    "address = 'Lubin,Poland'\n",
    "location = geolocator.geocode(address,language = 'pl')\n",
    "print(location.address)\n",
    "print(location.latitude)\n",
    "print(location.longitude)\n",
    "print(location.raw['place_id'])"
   ]
  },
  {
   "cell_type": "code",
   "execution_count": 18,
   "metadata": {},
   "outputs": [
    {
     "name": "stdin",
     "output_type": "stream",
     "text": [
      "Address:  Dublin\n"
     ]
    },
    {
     "name": "stdout",
     "output_type": "stream",
     "text": [
      "Dublin, County Dublin, Leinster, Ireland\n",
      "53.3497645\n",
      "-6.2602732\n",
      "235501314\n"
     ]
    }
   ],
   "source": [
    "address2 = input('Address: ')\n",
    "#en es,fr,pl look up language codes \n",
    "# can find landmarks like Eiffel Tower,Golden Gate Bridge \n",
    "location2 = geolocator.geocode(address2,language ='en')\n",
    "print(location2.address)\n",
    "print(location2.latitude)\n",
    "print(location2.longitude)\n",
    "print(location2.raw['place_id'])"
   ]
  },
  {
   "cell_type": "code",
   "execution_count": 16,
   "metadata": {},
   "outputs": [
    {
     "name": "stdout",
     "output_type": "stream",
     "text": [
      "Soul Buoy\n",
      "0.0\n",
      "0.0\n",
      "284150790\n"
     ]
    }
   ],
   "source": [
    "# reverse lookup \n",
    "# take lon/Lat and returns location \n",
    "from functools import partial\n",
    "reverse = partial(geolocator.reverse,language = 'en')\n",
    "\n",
    "lat_lon = '0,0'\n",
    "my_loc = reverse(lat_lon)\n",
    "print(my_loc.address)\n",
    "print(my_loc.latitude)\n",
    "print(my_loc.longitude)\n",
    "print(my_loc.raw['place_id'])"
   ]
  },
  {
   "cell_type": "code",
   "execution_count": null,
   "metadata": {},
   "outputs": [],
   "source": []
  }
 ],
 "metadata": {
  "kernelspec": {
   "display_name": "Python 3",
   "language": "python",
   "name": "python3"
  },
  "language_info": {
   "codemirror_mode": {
    "name": "ipython",
    "version": 3
   },
   "file_extension": ".py",
   "mimetype": "text/x-python",
   "name": "python",
   "nbconvert_exporter": "python",
   "pygments_lexer": "ipython3",
   "version": "3.7.9"
  }
 },
 "nbformat": 4,
 "nbformat_minor": 4
}
