{
 "cells": [
  {
   "cell_type": "markdown",
   "metadata": {},
   "source": [
    "### <font color = '#05696b'> to clean the text we can use preprocessor\n",
    "### <font color = '#c85a53'> for sentiment we have 3 ways\n",
    "*default Blob sentiment*<br>\n",
    "*NaiveBayesAnalyzer*<br>\n",
    "*Vader Sentiment Analyzer*<br>"
   ]
  },
  {
   "cell_type": "code",
   "execution_count": 1,
   "metadata": {},
   "outputs": [],
   "source": [
    "import preprocessor as p \n",
    "\n",
    "# for faster autocomplete \n",
    "%config Completer.use_jedi = False"
   ]
  },
  {
   "cell_type": "code",
   "execution_count": 2,
   "metadata": {},
   "outputs": [
    {
     "data": {
      "text/plain": [
       "'I think this whole corona lockdown is a load of horse shite'"
      ]
     },
     "execution_count": 2,
     "metadata": {},
     "output_type": "execute_result"
    }
   ],
   "source": [
    "test_text = 'I think this whole corona lockdown is a load of horse shite #crap 👍 https://github.com/s/preprocessor'\n",
    "\n",
    "cleaned_text = p.clean(test_text)\n",
    "cleaned_text"
   ]
  },
  {
   "cell_type": "code",
   "execution_count": 3,
   "metadata": {},
   "outputs": [],
   "source": [
    "from textblob import TextBlob \n",
    "\n",
    "\n",
    "blob1 = TextBlob(test_text)\n",
    "blob2 = TextBlob(cleaned_text)"
   ]
  },
  {
   "cell_type": "code",
   "execution_count": 4,
   "metadata": {},
   "outputs": [
    {
     "name": "stdout",
     "output_type": "stream",
     "text": [
      "Sentiment(polarity=-0.30000000000000004, subjectivity=0.6000000000000001)\n",
      "Sentiment(polarity=0.2, subjectivity=0.4)\n"
     ]
    }
   ],
   "source": [
    "# doing the analysis on the original and cleaned text JUST THE BASIC SENTIMENT\n",
    "print(blob1.sentiment)\n",
    "print(blob2.sentiment)"
   ]
  },
  {
   "cell_type": "code",
   "execution_count": 5,
   "metadata": {},
   "outputs": [
    {
     "name": "stdout",
     "output_type": "stream",
     "text": [
      "Sentiment(classification='neg', p_pos=0.2191209266169166, p_neg=0.7808790733830809)\n",
      "Sentiment(classification='neg', p_pos=0.3807855832082045, p_neg=0.6192144167917969)\n"
     ]
    }
   ],
   "source": [
    "# SENTIMENT USING NAIVE BAYES ANALYZER\n",
    "from textblob.sentiments import NaiveBayesAnalyzer\n",
    "\n",
    "blob3 = TextBlob(test_text,analyzer = NaiveBayesAnalyzer())\n",
    "blob4= TextBlob(cleaned_text,analyzer = NaiveBayesAnalyzer())\n",
    "print(blob3.sentiment)\n",
    "print(blob4.sentiment)"
   ]
  },
  {
   "cell_type": "code",
   "execution_count": 6,
   "metadata": {},
   "outputs": [
    {
     "name": "stdout",
     "output_type": "stream",
     "text": [
      "{'neg': 0.148, 'neu': 0.852, 'pos': 0.0, 'compound': -0.3818}\n",
      "{'neg': 0.0, 'neu': 1.0, 'pos': 0.0, 'compound': 0.0}\n"
     ]
    }
   ],
   "source": [
    "# SENTIMENT USING Vader Sentiment ANALYZER\n",
    "\n",
    "from vaderSentiment.vaderSentiment import SentimentIntensityAnalyzer\n",
    "\n",
    "# create a vader SentimentIntensityAnalyzer object \n",
    "analyzer = SentimentIntensityAnalyzer()\n",
    "\n",
    "print(analyzer.polarity_scores(test_text))\n",
    "print(analyzer.polarity_scores(cleaned_text))\n"
   ]
  },
  {
   "cell_type": "code",
   "execution_count": 7,
   "metadata": {},
   "outputs": [],
   "source": [
    "# Playing with Vader \n",
    "# https://github.com/cjhutto/vaderSentiment\n"
   ]
  }
 ],
 "metadata": {
  "kernelspec": {
   "display_name": "Python 3",
   "language": "python",
   "name": "python3"
  },
  "language_info": {
   "codemirror_mode": {
    "name": "ipython",
    "version": 3
   },
   "file_extension": ".py",
   "mimetype": "text/x-python",
   "name": "python",
   "nbconvert_exporter": "python",
   "pygments_lexer": "ipython3",
   "version": "3.7.9"
  }
 },
 "nbformat": 4,
 "nbformat_minor": 4
}
