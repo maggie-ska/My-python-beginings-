{
 "cells": [
  {
   "cell_type": "code",
   "execution_count": 1,
   "metadata": {},
   "outputs": [],
   "source": [
    "# using the module created by Thomas with all the functions needed to scrape the tweets \n",
    "from utils import *"
   ]
  },
  {
   "cell_type": "code",
   "execution_count": 2,
   "metadata": {},
   "outputs": [
    {
     "data": {
      "text/plain": [
       "<tweepy.api.API at 0x2e908797d88>"
      ]
     },
     "execution_count": 2,
     "metadata": {},
     "output_type": "execute_result"
    }
   ],
   "source": [
    "# using the first function to create tweepy api \n",
    "\n",
    "api = create_tweepy_api()\n",
    "api"
   ]
  },
  {
   "cell_type": "code",
   "execution_count": 3,
   "metadata": {},
   "outputs": [
    {
     "data": {
      "text/plain": [
       "tweepy.models.Status"
      ]
     },
     "execution_count": 3,
     "metadata": {},
     "output_type": "execute_result"
    }
   ],
   "source": [
    "# making a query string and using another function to get_search_tweets_list()\n",
    "\n",
    "query = '(\"budget 2020\" OR \"budget 2021\") -rte -filter:retweets since:2020-10-13'\n",
    "\n",
    "query2 = \"cyberpunk 2077 -filter:retweets lang:en \"\n",
    "\n",
    "tweets = get_search_tweets_list(api,query2,num_of_results=10)\n",
    "type(tweets[0])"
   ]
  },
  {
   "cell_type": "code",
   "execution_count": 4,
   "metadata": {},
   "outputs": [
    {
     "data": {
      "text/plain": [
       "str"
      ]
     },
     "execution_count": 4,
     "metadata": {},
     "output_type": "execute_result"
    }
   ],
   "source": [
    "#another function to grab only text from the above list of(tweepy.models.Status)\n",
    "\n",
    "text_for_analysis = get_tweet_text(tweets)\n",
    "type(text_for_analysis[0])"
   ]
  },
  {
   "cell_type": "code",
   "execution_count": 5,
   "metadata": {},
   "outputs": [
    {
     "data": {
      "text/plain": [
       "['Watch today’s Night City Wire stream here for a look at the vehicles of Cyberpunk 2077 https://t.co/ZuKpD59JzQ #cyberpunk2077 #CDProjektRED',\n",
       " 'Cyberpunk 2077 gonna get me thru this bs',\n",
       " 'Cant wait to see the “Haitian ghetto” in cyberpunk 2077. Home to “the voodoo boys” gang. I’m sure it’ll depict haiti in a manner that the president of Haiti himself would enjoy. A CD projekt red spokesperson said “We aim to do for Haiti what Neuromancer did for Jamaica”',\n",
       " \"Here's a look at the full map of Cyberpunk 2077 - VG247\\nDoesn’t seem big, but vertical integration and building design filled with “life” can make up for it. https://t.co/eU9guBrpoa\",\n",
       " '@rickkoooe @JusWill7204 @assassinscreed There are tons and TONS of horrible things in cyberpunk 2077 as there are in assassins creed no game is perfect and IF you think so then your just completely dumb',\n",
       " '@elonmusk Can we get @elonmusk in Cyberpunk 2077? @CyberpunkGame',\n",
       " \"Watch today's Night City Wire stream here for a look at the vehicles of #Cyberpunk2077\\nhttps://t.co/aB1xFLfBMS https://t.co/cpacamQ6gm\",\n",
       " '@pccomponentes #YoSoyDePcComponentes perfecto para darle al Star Wars Squadrons y Cyberpunk 2077',\n",
       " 'Save -33%, TODAY ONLY -&gt; https://t.co/m63o168k3r\\n\\nMassive cyber deal on #Cyberpunk2077 🔥\\n\\n\"Wake up Samurai. We have money to save!\"\\n\\n#steamdeals #steam #gaming https://t.co/60v2MjHpXF',\n",
       " \"OnePlus 8T to have a limited 'Cyberpunk 2077' Edition available exclusively in China https://t.co/Nt2lRm4prn https://t.co/8oKq6VsdNN\"]"
      ]
     },
     "execution_count": 5,
     "metadata": {},
     "output_type": "execute_result"
    }
   ],
   "source": [
    "text_for_analysis"
   ]
  },
  {
   "cell_type": "code",
   "execution_count": 12,
   "metadata": {},
   "outputs": [
    {
     "data": {
      "text/plain": [
       "['Watch todays Night City Wire stream here for a look at the vehicles of Cyberpunk',\n",
       " 'Cyberpunk gonna get me thru this bs',\n",
       " 'Cant wait to see the Haitian ghetto in cyberpunk . Home to the voodoo boys gang. Im sure itll depict haiti in a manner that the president of Haiti himself would enjoy. A CD projekt red spokesperson said We aim to do for Haiti what Neuromancer did for Jamaica',\n",
       " \"Here's a look at the full map of Cyberpunk - VG247Doesnt seem big, but vertical integration and building design filled with life can make up for it.\",\n",
       " 'There are tons and TONS of horrible things in cyberpunk as there are in assassins creed no game is perfect and IF you think so then your just completely dumb',\n",
       " 'Can we get in Cyberpunk ?',\n",
       " \"Watch today's Night City Wire stream here for a look at the vehicles of ://\",\n",
       " 'perfecto para darle al Star Wars Squadrons y Cyberpunk',\n",
       " 'Save %, TODAY ONLY -&gt; cyber deal on \"Wake up Samurai. We have money to save!\"',\n",
       " \"OnePlus T to have a limited 'Cyberpunk ' Edition available exclusively in China\"]"
      ]
     },
     "execution_count": 12,
     "metadata": {},
     "output_type": "execute_result"
    }
   ],
   "source": [
    "# clean this list of text \n",
    "import preprocessor as p \n",
    "\n",
    "cleaned_text = [p.clean(text) for text in text_for_analysis]\n",
    "cleaned_text"
   ]
  },
  {
   "cell_type": "code",
   "execution_count": 8,
   "metadata": {},
   "outputs": [
    {
     "name": "stdout",
     "output_type": "stream",
     "text": [
      "{'neg': 0.064, 'neu': 0.865, 'pos': 0.071, 'compound': 0.1386}\n",
      "{'neg': 0.09, 'neu': 0.838, 'pos': 0.072, 'compound': -0.7124}\n"
     ]
    }
   ],
   "source": [
    "from vaderSentiment.vaderSentiment import SentimentIntensityAnalyzer\n",
    "\n",
    "# create a vader SentimentIntensityAnalyzer object \n",
    "analyzer = SentimentIntensityAnalyzer()\n",
    "\n",
    "print(analyzer.polarity_scores(text_for_analysis))\n",
    "print(analyzer.polarity_scores(cleaned_text))"
   ]
  },
  {
   "cell_type": "code",
   "execution_count": 9,
   "metadata": {},
   "outputs": [
    {
     "name": "stdout",
     "output_type": "stream",
     "text": [
      "1 Watch todays Night City Wire stream here for a look at the vehicles of Cyberpunk {'neg': 0.0, 'neu': 1.0, 'pos': 0.0, 'compound': 0.0}\n",
      "\n",
      "***\n",
      "\n",
      "2 Cyberpunk gonna get me thru this bs {'neg': 0.0, 'neu': 1.0, 'pos': 0.0, 'compound': 0.0}\n",
      "\n",
      "***\n",
      "\n",
      "3 Cant wait to see the Haitian ghetto in cyberpunk . Home to the voodoo boys gang. Im sure itll depict haiti in a manner that the president of Haiti himself would enjoy. A CD projekt red spokesperson said We aim to do for Haiti what Neuromancer did for Jamaica {'neg': 0.0, 'neu': 0.895, 'pos': 0.105, 'compound': 0.6705}\n",
      "\n",
      "***\n",
      "\n",
      "4 Here's a look at the full map of Cyberpunk - VG247Doesnt seem big, but vertical integration and building design filled with life can make up for it. {'neg': 0.0, 'neu': 1.0, 'pos': 0.0, 'compound': 0.0}\n",
      "\n",
      "***\n",
      "\n",
      "5 There are tons and TONS of horrible things in cyberpunk as there are in assassins creed no game is perfect and IF you think so then your just completely dumb {'neg': 0.238, 'neu': 0.667, 'pos': 0.095, 'compound': -0.6801}\n",
      "\n",
      "***\n",
      "\n",
      "6 Can we get in Cyberpunk ? {'neg': 0.0, 'neu': 1.0, 'pos': 0.0, 'compound': 0.0}\n",
      "\n",
      "***\n",
      "\n",
      "7 Watch today's Night City Wire stream here for a look at the vehicles of :// {'neg': 0.0, 'neu': 1.0, 'pos': 0.0, 'compound': 0.0}\n",
      "\n",
      "***\n",
      "\n",
      "8 perfecto para darle al Star Wars Squadrons y Cyberpunk {'neg': 0.279, 'neu': 0.543, 'pos': 0.178, 'compound': -0.3182}\n",
      "\n",
      "***\n",
      "\n",
      "9 Save %, TODAY ONLY -&gt; cyber deal on \"Wake up Samurai. We have money to save!\" {'neg': 0.0, 'neu': 0.677, 'pos': 0.323, 'compound': 0.7712}\n",
      "\n",
      "***\n",
      "\n",
      "10 OnePlus T to have a limited 'Cyberpunk ' Edition available exclusively in China {'neg': 0.137, 'neu': 0.863, 'pos': 0.0, 'compound': -0.2263}\n",
      "\n",
      "***\n",
      "\n"
     ]
    }
   ],
   "source": [
    "for num,string in enumerate(text_for_analysis,start = 1):\n",
    "    print(num,p.clean(string),analyzer.polarity_scores(p.clean(string)))\n",
    "    print('\\n***\\n')"
   ]
  },
  {
   "cell_type": "code",
   "execution_count": 10,
   "metadata": {},
   "outputs": [
    {
     "name": "stdout",
     "output_type": "stream",
     "text": [
      "oryginal:\n",
      "1 {'neg': 0.0, 'neu': 1.0, 'pos': 0.0, 'compound': 0.0}\n",
      "\n",
      "clean\n",
      "1 {'neg': 0.0, 'neu': 1.0, 'pos': 0.0, 'compound': 0.0}\n",
      "\n",
      "***\n",
      "\n",
      "oryginal:\n",
      "2 {'neg': 0.0, 'neu': 1.0, 'pos': 0.0, 'compound': 0.0}\n",
      "\n",
      "clean\n",
      "2 {'neg': 0.0, 'neu': 1.0, 'pos': 0.0, 'compound': 0.0}\n",
      "\n",
      "***\n",
      "\n",
      "oryginal:\n",
      "3 {'neg': 0.0, 'neu': 0.895, 'pos': 0.105, 'compound': 0.6705}\n",
      "\n",
      "clean\n",
      "3 {'neg': 0.0, 'neu': 0.895, 'pos': 0.105, 'compound': 0.6705}\n",
      "\n",
      "***\n",
      "\n",
      "oryginal:\n",
      "4 {'neg': 0.0, 'neu': 1.0, 'pos': 0.0, 'compound': 0.0}\n",
      "\n",
      "clean\n",
      "4 {'neg': 0.0, 'neu': 1.0, 'pos': 0.0, 'compound': 0.0}\n",
      "\n",
      "***\n",
      "\n",
      "oryginal:\n",
      "5 {'neg': 0.216, 'neu': 0.698, 'pos': 0.086, 'compound': -0.6801}\n",
      "\n",
      "clean\n",
      "5 {'neg': 0.238, 'neu': 0.667, 'pos': 0.095, 'compound': -0.6801}\n",
      "\n",
      "***\n",
      "\n",
      "oryginal:\n",
      "6 {'neg': 0.0, 'neu': 1.0, 'pos': 0.0, 'compound': 0.0}\n",
      "\n",
      "clean\n",
      "6 {'neg': 0.0, 'neu': 1.0, 'pos': 0.0, 'compound': 0.0}\n",
      "\n",
      "***\n",
      "\n",
      "oryginal:\n",
      "7 {'neg': 0.0, 'neu': 1.0, 'pos': 0.0, 'compound': 0.0}\n",
      "\n",
      "clean\n",
      "7 {'neg': 0.0, 'neu': 1.0, 'pos': 0.0, 'compound': 0.0}\n",
      "\n",
      "***\n",
      "\n",
      "oryginal:\n",
      "8 {'neg': 0.226, 'neu': 0.629, 'pos': 0.145, 'compound': -0.3182}\n",
      "\n",
      "clean\n",
      "8 {'neg': 0.279, 'neu': 0.543, 'pos': 0.178, 'compound': -0.3182}\n",
      "\n",
      "***\n",
      "\n",
      "oryginal:\n",
      "9 {'neg': 0.08, 'neu': 0.698, 'pos': 0.222, 'compound': 0.6476}\n",
      "\n",
      "clean\n",
      "9 {'neg': 0.0, 'neu': 0.677, 'pos': 0.323, 'compound': 0.7712}\n",
      "\n",
      "***\n",
      "\n",
      "oryginal:\n",
      "10 {'neg': 0.119, 'neu': 0.881, 'pos': 0.0, 'compound': -0.2263}\n",
      "\n",
      "clean\n",
      "10 {'neg': 0.137, 'neu': 0.863, 'pos': 0.0, 'compound': -0.2263}\n",
      "\n",
      "***\n",
      "\n"
     ]
    }
   ],
   "source": [
    "for num,string in enumerate(text_for_analysis,start = 1):\n",
    "    print('oryginal:')\n",
    "    print(num,analyzer.polarity_scores(string))\n",
    "    print('\\nclean')\n",
    "    print(num,analyzer.polarity_scores(p.clean(string)))\n",
    "    print('\\n***\\n')"
   ]
  },
  {
   "cell_type": "code",
   "execution_count": 11,
   "metadata": {},
   "outputs": [
    {
     "name": "stdout",
     "output_type": "stream",
     "text": [
      "Analysis done on the oryginal text \n",
      "\n",
      "\n",
      "vader:\n",
      "1 {'neg': 0.0, 'neu': 1.0, 'pos': 0.0, 'compound': 0.0}\n",
      "\n",
      "blob default:\n",
      "1 Sentiment(polarity=0.0, subjectivity=0.0)\n",
      "\n",
      "blob NaiveBayes:\n",
      "1 Sentiment(classification='neg', p_pos=0.14277187839920524, p_neg=0.857228121600793)\n",
      "\n",
      "***\n",
      "\n",
      "vader:\n",
      "2 {'neg': 0.0, 'neu': 1.0, 'pos': 0.0, 'compound': 0.0}\n",
      "\n",
      "blob default:\n",
      "2 Sentiment(polarity=0.0, subjectivity=0.0)\n",
      "\n",
      "blob NaiveBayes:\n",
      "2 Sentiment(classification='pos', p_pos=0.7393594679306176, p_neg=0.26064053206938226)\n",
      "\n",
      "***\n",
      "\n",
      "vader:\n",
      "3 {'neg': 0.0, 'neu': 0.895, 'pos': 0.105, 'compound': 0.6705}\n",
      "\n",
      "blob default:\n",
      "3 Sentiment(polarity=0.3, subjectivity=0.46296296296296297)\n",
      "\n",
      "blob NaiveBayes:\n",
      "3 Sentiment(classification='neg', p_pos=0.1489557208472207, p_neg=0.8510442791527749)\n",
      "\n",
      "***\n",
      "\n",
      "vader:\n",
      "4 {'neg': 0.0, 'neu': 1.0, 'pos': 0.0, 'compound': 0.0}\n",
      "\n",
      "blob default:\n",
      "4 Sentiment(polarity=0.25, subjectivity=0.5166666666666667)\n",
      "\n",
      "blob NaiveBayes:\n",
      "4 Sentiment(classification='pos', p_pos=0.9720182761338688, p_neg=0.027981723866133325)\n",
      "\n",
      "***\n",
      "\n",
      "vader:\n",
      "5 {'neg': 0.216, 'neu': 0.698, 'pos': 0.086, 'compound': -0.6801}\n",
      "\n",
      "blob default:\n",
      "5 Sentiment(polarity=-0.04375000000000001, subjectivity=0.725)\n",
      "\n",
      "blob NaiveBayes:\n",
      "5 Sentiment(classification='neg', p_pos=0.2527096641044693, p_neg=0.7472903358955302)\n",
      "\n",
      "***\n",
      "\n",
      "vader:\n",
      "6 {'neg': 0.0, 'neu': 1.0, 'pos': 0.0, 'compound': 0.0}\n",
      "\n",
      "blob default:\n",
      "6 Sentiment(polarity=0.0, subjectivity=0.0)\n",
      "\n",
      "blob NaiveBayes:\n",
      "6 Sentiment(classification='neg', p_pos=0.4734425440419766, p_neg=0.5265574559580234)\n",
      "\n",
      "***\n",
      "\n",
      "vader:\n",
      "7 {'neg': 0.0, 'neu': 1.0, 'pos': 0.0, 'compound': 0.0}\n",
      "\n",
      "blob default:\n",
      "7 Sentiment(polarity=0.0, subjectivity=0.0)\n",
      "\n",
      "blob NaiveBayes:\n",
      "7 Sentiment(classification='neg', p_pos=0.14277187839920524, p_neg=0.857228121600793)\n",
      "\n",
      "***\n",
      "\n",
      "vader:\n",
      "8 {'neg': 0.226, 'neu': 0.629, 'pos': 0.145, 'compound': -0.3182}\n",
      "\n",
      "blob default:\n",
      "8 Sentiment(polarity=0.0, subjectivity=0.0)\n",
      "\n",
      "blob NaiveBayes:\n",
      "8 Sentiment(classification='pos', p_pos=0.6912162162162162, p_neg=0.3087837837837834)\n",
      "\n",
      "***\n",
      "\n",
      "vader:\n",
      "9 {'neg': 0.08, 'neu': 0.698, 'pos': 0.222, 'compound': 0.6476}\n",
      "\n",
      "blob default:\n",
      "9 Sentiment(polarity=0.0, subjectivity=1.0)\n",
      "\n",
      "blob NaiveBayes:\n",
      "9 Sentiment(classification='pos', p_pos=0.5215960085205613, p_neg=0.4784039914794383)\n",
      "\n",
      "***\n",
      "\n",
      "vader:\n",
      "10 {'neg': 0.119, 'neu': 0.881, 'pos': 0.0, 'compound': -0.2263}\n",
      "\n",
      "blob default:\n",
      "10 Sentiment(polarity=0.1642857142857143, subjectivity=0.27142857142857146)\n",
      "\n",
      "blob NaiveBayes:\n",
      "10 Sentiment(classification='pos', p_pos=0.9650146336431973, p_neg=0.034985366356803084)\n",
      "\n",
      "***\n",
      "\n"
     ]
    }
   ],
   "source": [
    "from textblob import Blobber\n",
    "from textblob.sentiments import NaiveBayesAnalyzer\n",
    "\n",
    "blobber1 = Blobber()\n",
    "blobber2 = Blobber(analyzer=NaiveBayesAnalyzer())\n",
    "\n",
    "print('Analysis done on the oryginal text \\n\\n')\n",
    "for num,string in enumerate(text_for_analysis,start = 1):\n",
    "    print('vader:')\n",
    "    print(num,analyzer.polarity_scores(string))\n",
    "    \n",
    "    print('\\nblob default:')\n",
    "    print(num,blobber1(string).sentiment)\n",
    "    \n",
    "    print('\\nblob NaiveBayes:')\n",
    "    print(num,blobber2(string).sentiment)\n",
    "    print('\\n***\\n')\n"
   ]
  },
  {
   "cell_type": "code",
   "execution_count": 14,
   "metadata": {},
   "outputs": [],
   "source": []
  },
  {
   "cell_type": "code",
   "execution_count": null,
   "metadata": {},
   "outputs": [],
   "source": []
  }
 ],
 "metadata": {
  "kernelspec": {
   "display_name": "Python 3",
   "language": "python",
   "name": "python3"
  },
  "language_info": {
   "codemirror_mode": {
    "name": "ipython",
    "version": 3
   },
   "file_extension": ".py",
   "mimetype": "text/x-python",
   "name": "python",
   "nbconvert_exporter": "python",
   "pygments_lexer": "ipython3",
   "version": "3.7.9"
  }
 },
 "nbformat": 4,
 "nbformat_minor": 4
}
