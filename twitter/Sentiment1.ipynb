{
 "cells": [
  {
   "cell_type": "code",
   "execution_count": 1,
   "metadata": {},
   "outputs": [],
   "source": [
    "# for the sentiment analysis \n",
    "\n",
    "from textblob import TextBlob,Blobber \n",
    "\n",
    "from textblob.sentiments import NaiveBayesAnalyzer"
   ]
  },
  {
   "cell_type": "code",
   "execution_count": 2,
   "metadata": {},
   "outputs": [],
   "source": [
    "import keys, tweepy\n",
    "%config Completer.use_jedi = False\n",
    "\n",
    "\n",
    "auth = tweepy.OAuthHandler(keys.consumer_key,keys.consumer_key_secret)\n",
    "auth.set_access_token(keys.access_token,keys.access_token_secret)\n",
    "api = tweepy.API(auth,wait_on_rate_limit=True,wait_on_rate_limit_notify=True)"
   ]
  },
  {
   "cell_type": "code",
   "execution_count": 3,
   "metadata": {},
   "outputs": [
    {
     "data": {
      "text/plain": [
       "Sentiment(polarity=0.0, subjectivity=0.0)"
      ]
     },
     "execution_count": 3,
     "metadata": {},
     "output_type": "execute_result"
    }
   ],
   "source": [
    "text1 = 'I am Olaf , and I like warm hugs '\n",
    "text2 = 'The end of the word is comming , we are all going to die.'\n",
    "\n",
    "\n",
    "blob1 = TextBlob(text1)\n",
    "blob2 = TextBlob(text2)\n",
    "blob1.sentiment\n",
    "blob2.sentiment"
   ]
  },
  {
   "cell_type": "code",
   "execution_count": 4,
   "metadata": {},
   "outputs": [
    {
     "name": "stdout",
     "output_type": "stream",
     "text": [
      "Sentiment(classification='pos', p_pos=0.7933639947437581, p_neg=0.2066360052562419)\n",
      "Sentiment(classification='neg', p_pos=0.43974538345290015, p_neg=0.5602546165470998)\n"
     ]
    }
   ],
   "source": [
    "# create a blobber for memory efficient sentiment analysis \n",
    "# \n",
    "\n",
    "factory_blobber = Blobber(analyzer = NaiveBayesAnalyzer())\n",
    "\n",
    "texts = [text1,text2]\n",
    "\n",
    "for t in texts:\n",
    "    print(factory_blobber(t).sentiment)\n",
    "    "
   ]
  },
  {
   "cell_type": "code",
   "execution_count": 5,
   "metadata": {},
   "outputs": [],
   "source": [
    "# Add sentiment analsysis to the loop that print out the tweets\n",
    "\n",
    "# Review this article:\n",
    "# https://www.earthdatascience.org/courses/use-data-open-source-python/intro-to-apis/twitter-data-in-python/\n",
    "\n",
    "# Experiment with searching for differnt tweets and using the \"Standard search operators\"\n",
    "# https://developer.twitter.com/en/docs/twitter-api/v1/tweets/search/guides/standard-operators\n",
    "\n",
    "# Collect a number of tweets and create a Pandas df containing the text of those tweets\n",
    "# https://www.earthdatascience.org/courses/use-data-open-source-python/intro-to-apis/twitter-data-in-python/\n"
   ]
  },
  {
   "cell_type": "code",
   "execution_count": 6,
   "metadata": {},
   "outputs": [
    {
     "name": "stdout",
     "output_type": "stream",
     "text": [
      "Tweet number:1\n",
      "Name: Vigilant Magazine,Screen Name: VigilantMag\n",
      "Tweet:Taki mały przedsmak tego co nas czeka w @CyberpunkGame  https://t.co/lKe0xt0iGZ\n",
      "Sentiment(classification='pos', p_pos=0.5, p_neg=0.5)\n",
      "\n",
      "***\n",
      "Tweet number:2\n",
      "Name: Mark Shane,Screen Name: 930RB\n",
      "Tweet:RT @jacekcreator: Jak @CyberpunkGame boostuje inne marki, w tym Adidas, Sprite czy Porsche - https://t.co/noUnJYv2j9 - jeśli znacie inne ni…\n",
      "Sentiment(classification='neg', p_pos=0.25, p_neg=0.749999999999999)\n",
      "\n",
      "***\n",
      "Tweet number:3\n",
      "Name: Jacek Jankowski,Screen Name: jacekcreator\n",
      "Tweet:Jak @CyberpunkGame boostuje inne marki, w tym Adidas, Sprite czy Porsche - https://t.co/noUnJYv2j9 - jeśli znacie inne niż pod linkiem przykłady współpracy, proszę dajcie znać :)  #Cyberpunk2077\n",
      "Sentiment(classification='neg', p_pos=0.3461538461538464, p_neg=0.6538461538461543)\n",
      "\n",
      "***\n",
      "Tweet number:4\n",
      "Name: Justyna,Screen Name: FundacjaH\n",
      "Tweet:@Mad_Radek Cyberpunk 2077, Wiedźmin, streamy i treningi z gamerami Illuminar Gaming, Devils. One i X-KOM AGO – trwa aukcja na Allegro na rzecz Hospicjum Dutkiewicza w Gdańsku. Co poniedziałek nowe aukcje. Licytuj/udostępnij. Szczegóły i plan aukcji: https://t.co/yIHVWkiy1h https://t.co/RbJ6R5pgF4\n",
      "Sentiment(classification='pos', p_pos=0.6210255148602384, p_neg=0.3789744851397613)\n",
      "\n",
      "***\n",
      "Tweet number:5\n",
      "Name: Justyna,Screen Name: FundacjaH\n",
      "Tweet:@PolsatGames Cyberpunk 2077, Wiedźmin, streamy i treningi z gamerami Illuminar Gaming, Devils. One i X-KOM AGO – trwa aukcja na Allegro na rzecz Hospicjum Dutkiewicza w Gdańsku. Co poniedziałek nowe aukcje. Licytuj/udostępnij. Szczegóły i plan aukcji: https://t.co/yIHVWkiy1h https://t.co/d24hN6fxI9\n",
      "Sentiment(classification='pos', p_pos=0.6210255148602384, p_neg=0.3789744851397613)\n",
      "\n",
      "***\n"
     ]
    }
   ],
   "source": [
    "query = 'cyberpunk 2077'\n",
    "\n",
    "tweets = api.search(q = query,count = 5,tweet_mode = 'extended',lang ='pl')\n",
    "\n",
    "\n",
    "for num ,tweet in enumerate(tweets,start = 1):\n",
    "    print(f'Tweet number:{num}')\n",
    "    # show the tweet user name and screen name \n",
    "    print(f'Name: {tweet.user.name},Screen Name: {tweet.user.screen_name}')\n",
    "    # show the actual tweet  \n",
    "    # i used tweet_mode = 'extended' - so need to use full_text \n",
    "    # need to use tweet.text if not using extended \n",
    "    print(f'Tweet:{tweet.full_text}')\n",
    "    # print the sentiment \n",
    "    print(factory_blobber(tweet.full_text).sentiment) \n",
    "    print('\\n***')"
   ]
  },
  {
   "cell_type": "code",
   "execution_count": 7,
   "metadata": {},
   "outputs": [
    {
     "data": {
      "text/plain": [
       "'Taki mały przedsmak tego co nas czeka w @CyberpunkGame  https://t.co/lKe0xt0iGZ'"
      ]
     },
     "execution_count": 7,
     "metadata": {},
     "output_type": "execute_result"
    }
   ],
   "source": [
    "import pandas as pd\n",
    "\n",
    "\n",
    "name = pd.Series ([tweet.user.name for tweet in tweets])\n",
    "user_sc_name = pd.Series([tweet.user.screen_name for tweet in tweets])\n",
    "text =pd.Series( [tweet.full_text for tweet in tweets ])\n",
    "\n",
    "df = pd.concat([name,user_sc_name,text],axis = 1)\n",
    "df.columns = ['user_name','screen_name','tweet']\n",
    "df.iloc[0]['tweet']"
   ]
  },
  {
   "cell_type": "code",
   "execution_count": 8,
   "metadata": {},
   "outputs": [
    {
     "data": {
      "text/html": [
       "<div>\n",
       "<style scoped>\n",
       "    .dataframe tbody tr th:only-of-type {\n",
       "        vertical-align: middle;\n",
       "    }\n",
       "\n",
       "    .dataframe tbody tr th {\n",
       "        vertical-align: top;\n",
       "    }\n",
       "\n",
       "    .dataframe thead th {\n",
       "        text-align: right;\n",
       "    }\n",
       "</style>\n",
       "<table border=\"1\" class=\"dataframe\">\n",
       "  <thead>\n",
       "    <tr style=\"text-align: right;\">\n",
       "      <th></th>\n",
       "      <th>user</th>\n",
       "      <th>location</th>\n",
       "    </tr>\n",
       "  </thead>\n",
       "  <tbody>\n",
       "    <tr>\n",
       "      <th>0</th>\n",
       "      <td>Vigilant Magazine</td>\n",
       "      <td></td>\n",
       "    </tr>\n",
       "    <tr>\n",
       "      <th>1</th>\n",
       "      <td>Mark Shane</td>\n",
       "      <td></td>\n",
       "    </tr>\n",
       "    <tr>\n",
       "      <th>2</th>\n",
       "      <td>Jacek Jankowski</td>\n",
       "      <td>Warsaw, Poland</td>\n",
       "    </tr>\n",
       "    <tr>\n",
       "      <th>3</th>\n",
       "      <td>Justyna</td>\n",
       "      <td>Gdańsk</td>\n",
       "    </tr>\n",
       "    <tr>\n",
       "      <th>4</th>\n",
       "      <td>Justyna</td>\n",
       "      <td>Gdańsk</td>\n",
       "    </tr>\n",
       "  </tbody>\n",
       "</table>\n",
       "</div>"
      ],
      "text/plain": [
       "                user        location\n",
       "0  Vigilant Magazine                \n",
       "1         Mark Shane                \n",
       "2    Jacek Jankowski  Warsaw, Poland\n",
       "3            Justyna          Gdańsk\n",
       "4            Justyna          Gdańsk"
      ]
     },
     "execution_count": 8,
     "metadata": {},
     "output_type": "execute_result"
    }
   ],
   "source": [
    "location = [[tweet.user.name,tweet.user.location] for tweet in tweets ]\n",
    "\n",
    "location_df = pd.DataFrame(data=location, \n",
    "                    columns=['user', \"location\"])\n",
    "location_df"
   ]
  },
  {
   "cell_type": "code",
   "execution_count": 9,
   "metadata": {},
   "outputs": [
    {
     "data": {
      "text/plain": [
       "['Just a few places left for our workshops:\\n\\nWriting the Wind with @jr_carpenter (4pm Fri 20 Nov)\\nWriting for Wellbei… https://t.co/xrTpCfVTEV',\n",
       " 'if you think about it, greta thunberg is kind of like the yung lean of climate change',\n",
       " \"@BorisJohnson If i wanted an electric car I would have bought one,I'm doing my bit to help towards climate change e… https://t.co/fd98sOuN1u\",\n",
       " 'Prime Minister Boris Johnson set out an ambitious ten-point plan for a green industrial revolution which will allow… https://t.co/8r7EpLr01W',\n",
       " '\"Red Cross: Global warming bigger threat than coronavirus\" https://t.co/H1WQCWAa9K']"
      ]
     },
     "execution_count": 9,
     "metadata": {},
     "output_type": "execute_result"
    }
   ],
   "source": [
    "# you can customize your Twitter search queries by following the Twitter API documentation.\n",
    "# look for two words together and exclude the retweets \n",
    "\n",
    "new_search = \"climate+change -filter:retweets\"\n",
    "\n",
    "tweets = tweepy.Cursor(api.search,\n",
    "                   q=new_search,\n",
    "                   lang=\"en\",\n",
    "                   since='2018-04-23').items(1000)\n",
    "\n",
    "all_tweets = [tweet.text for tweet in tweets]\n",
    "all_tweets[:5]\n"
   ]
  },
  {
   "cell_type": "code",
   "execution_count": null,
   "metadata": {},
   "outputs": [],
   "source": []
  }
 ],
 "metadata": {
  "kernelspec": {
   "display_name": "Python 3",
   "language": "python",
   "name": "python3"
  },
  "language_info": {
   "codemirror_mode": {
    "name": "ipython",
    "version": 3
   },
   "file_extension": ".py",
   "mimetype": "text/x-python",
   "name": "python",
   "nbconvert_exporter": "python",
   "pygments_lexer": "ipython3",
   "version": "3.7.9"
  }
 },
 "nbformat": 4,
 "nbformat_minor": 4
}
