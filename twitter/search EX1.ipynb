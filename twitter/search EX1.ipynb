{
 "cells": [
  {
   "cell_type": "code",
   "execution_count": 1,
   "metadata": {},
   "outputs": [],
   "source": [
    "# twitter \n",
    "import keys, tweepy\n",
    "%config Completer.use_jedi = False\n",
    "\n",
    "\n",
    "auth = tweepy.OAuthHandler(keys.consumer_key,keys.consumer_key_secret)\n",
    "auth.set_access_token(keys.access_token,keys.access_token_secret)\n",
    "api = tweepy.API(auth,wait_on_rate_limit=True,wait_on_rate_limit_notify=True)"
   ]
  },
  {
   "cell_type": "code",
   "execution_count": 2,
   "metadata": {},
   "outputs": [
    {
     "data": {
      "text/plain": [
       "5"
      ]
     },
     "execution_count": 2,
     "metadata": {},
     "output_type": "execute_result"
    }
   ],
   "source": [
    "#  Exclude this   -filter:retweets\n",
    "\n",
    "query = \"cyberpunk 2077 \"\n",
    "\n",
    "#  search for tweers with the words in the query\n",
    "#  by default the twitter api search method returns 15 tweets(by default ) - maximum is 100\n",
    "#  we can specify , count = ...,lang= 'pl'\n",
    "\n",
    "# we can make 450 calls to search method in a 15 min window and each time get max of 100 tweets ---- \n",
    "# so we could get 45,000 tweets in 15 min window \n",
    "tweets = api.search(q = query,count = 5,tweet_mode = 'extended',lang ='pl')\n",
    "len(tweets)"
   ]
  },
  {
   "cell_type": "markdown",
   "metadata": {},
   "source": [
    "### <font color = 'orange'>twitter API search info (limits) <br> tweepy uses the same parameters as Twitter API \n",
    "\n",
    "https://developer.twitter.com/en/docs/twitter-api/v1/tweets/search/api-reference/get-search-tweets"
   ]
  },
  {
   "cell_type": "markdown",
   "metadata": {},
   "source": [
    "### <font color = 'green'>twitter API standard operators <br> to specify what tweets to scrap (filters)\n",
    "\n",
    "\n",
    "https://developer.twitter.com/en/docs/twitter-api/v1/tweets/search/guides/standard-operators"
   ]
  },
  {
   "cell_type": "code",
   "execution_count": 3,
   "metadata": {},
   "outputs": [
    {
     "data": {
      "text/plain": [
       "tweepy.models.SearchResults"
      ]
     },
     "execution_count": 3,
     "metadata": {},
     "output_type": "execute_result"
    }
   ],
   "source": [
    "type(tweets)"
   ]
  },
  {
   "cell_type": "code",
   "execution_count": 4,
   "metadata": {},
   "outputs": [
    {
     "data": {
      "text/plain": [
       "tweepy.models.Status"
      ]
     },
     "execution_count": 4,
     "metadata": {},
     "output_type": "execute_result"
    }
   ],
   "source": [
    "type(tweets[0])"
   ]
  },
  {
   "cell_type": "code",
   "execution_count": 5,
   "metadata": {},
   "outputs": [],
   "source": [
    "# status is a tweet \n",
    "# tweepy status object "
   ]
  },
  {
   "cell_type": "code",
   "execution_count": 12,
   "metadata": {},
   "outputs": [],
   "source": [
    "# we can look at the tweet using the json -> search always returns the json(dict object )\n",
    "# but tweepy is changing it into an object for us so its more readable \n",
    "# we dont need to work with json object but we can using _json\n",
    "# tweets[0]._json"
   ]
  },
  {
   "cell_type": "code",
   "execution_count": 8,
   "metadata": {},
   "outputs": [
    {
     "name": "stdout",
     "output_type": "stream",
     "text": [
      "Tweet number:1\n",
      "Name: [BAM] Tomasz zwany Ciacho 💀⭕️,Screen Name: ciachopl\n",
      "Tweet:Super\n",
      "https://t.co/5qt0dzJiMo wysyłał \"Cyberpunk 2077. Jedyna oficjalna książka o świecie gry Cyberpunk 2077\"\n",
      "\n",
      "Będzie co czytać... jak dojdzie :)\n",
      "\n",
      "Tweet number:2\n",
      "Name: Piotr Ferfecki,Screen Name: Perferoth\n",
      "Tweet:@Wonziu Cyberpunk 2077 będzie miał 34 rozdziały symbolizujące 34 wykrzywione kręgi crunchujących programistów.\n",
      "\n",
      "Tweet number:3\n",
      "Name: Junkie,Screen Name: NetTerminalGene\n",
      "Tweet:@Leslienism Nie tylko Ty, nie tylko Ty... Bardzo liczę, że sukces Cyberpunk 2077 da zielone światło, aby chociaż zamknąć trylogię Jensena.\n",
      "\n",
      "Tweet number:4\n",
      "Name: Maciej Makuła,Screen Name: Wonziu\n",
      "Tweet:\"Konami itself was held sway by the lure of moneymaking microtransactions in their portable games. The golem that Higgs controls is Hayakawa controlling Konami with the gold/money of those games.\" - nie mogę się doczekać czego alegorią będzie fabuła Cyberpunk 2077 :)\n",
      "\n",
      "Tweet number:5\n",
      "Name: Magazyn CD-Action,Screen Name: cdaction\n",
      "Tweet:Możemy to już napisać oficjalnie – CD-Action 12/2020, niczym Cyberpunk 2077 pokryło się złotem i trafiło do drukarni.\n",
      "\n",
      "Czytamy się we wtorek 20 października! https://t.co/fCXdfemttY\n",
      "\n"
     ]
    }
   ],
   "source": [
    "# iterate through the tweets inside the SearchResults\n",
    "\n",
    "for num ,tweet in enumerate(tweets,start = 1):\n",
    "    print(f'Tweet number:{num}')\n",
    "    # show the tweet user name and screen name \n",
    "    print(f'Name: {tweet.user.name},Screen Name: {tweet.user.screen_name}')\n",
    "    # show the actual tweet  \n",
    "    # i used tweet_mode = 'extended' - so need to use full_text \n",
    "    # need to use tweet.text if not using extended \n",
    "    print(f'Tweet:{tweet.full_text}\\n')"
   ]
  },
  {
   "cell_type": "code",
   "execution_count": 11,
   "metadata": {},
   "outputs": [
    {
     "data": {
      "text/plain": [
       "110"
      ]
     },
     "execution_count": 11,
     "metadata": {},
     "output_type": "execute_result"
    }
   ],
   "source": [
    "# this one is a short tweet but still shows up as a .full_text \n",
    "# so using tweet_mode = 'extended' we get the full text none of ...\n",
    "len(tweets[1].full_text)"
   ]
  },
  {
   "cell_type": "code",
   "execution_count": null,
   "metadata": {},
   "outputs": [],
   "source": []
  }
 ],
 "metadata": {
  "kernelspec": {
   "display_name": "Python 3",
   "language": "python",
   "name": "python3"
  },
  "language_info": {
   "codemirror_mode": {
    "name": "ipython",
    "version": 3
   },
   "file_extension": ".py",
   "mimetype": "text/x-python",
   "name": "python",
   "nbconvert_exporter": "python",
   "pygments_lexer": "ipython3",
   "version": "3.7.9"
  }
 },
 "nbformat": 4,
 "nbformat_minor": 4
}
