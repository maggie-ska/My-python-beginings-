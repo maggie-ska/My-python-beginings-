{
 "cells": [
  {
   "cell_type": "code",
   "execution_count": 1,
   "metadata": {},
   "outputs": [],
   "source": [
    "# using the module created by Thomas with all the functions needed to scrape the tweets \n",
    "from utils import *"
   ]
  },
  {
   "cell_type": "code",
   "execution_count": 2,
   "metadata": {},
   "outputs": [
    {
     "data": {
      "text/plain": [
       "<tweepy.api.API at 0x1d7a4948ac8>"
      ]
     },
     "execution_count": 2,
     "metadata": {},
     "output_type": "execute_result"
    }
   ],
   "source": [
    "# using the first function to create tweepy api \n",
    "\n",
    "api = create_tweepy_api()\n",
    "api"
   ]
  },
  {
   "cell_type": "code",
   "execution_count": 3,
   "metadata": {},
   "outputs": [],
   "source": [
    "# making a query string and using another function to get_search_tweets_list()\n",
    "\n",
    "\n",
    "query = \"cyberpunk 2077 -filter:retweets  \"\n",
    "\n",
    "tweets = get_search_tweets_list(api,query,num_of_results=10)\n"
   ]
  },
  {
   "cell_type": "code",
   "execution_count": 4,
   "metadata": {},
   "outputs": [],
   "source": [
    "#passing the list of tweets objects to the dataframe from tweets function \n",
    "test1 = dataframe_from_tweets(tweets)"
   ]
  },
  {
   "cell_type": "code",
   "execution_count": 5,
   "metadata": {},
   "outputs": [
    {
     "data": {
      "text/html": [
       "<div>\n",
       "<style scoped>\n",
       "    .dataframe tbody tr th:only-of-type {\n",
       "        vertical-align: middle;\n",
       "    }\n",
       "\n",
       "    .dataframe tbody tr th {\n",
       "        vertical-align: top;\n",
       "    }\n",
       "\n",
       "    .dataframe thead th {\n",
       "        text-align: right;\n",
       "    }\n",
       "</style>\n",
       "<table border=\"1\" class=\"dataframe\">\n",
       "  <thead>\n",
       "    <tr style=\"text-align: right;\">\n",
       "      <th></th>\n",
       "      <th>name</th>\n",
       "      <th>user_name</th>\n",
       "      <th>text</th>\n",
       "      <th>date</th>\n",
       "      <th>language</th>\n",
       "      <th>location</th>\n",
       "    </tr>\n",
       "  </thead>\n",
       "  <tbody>\n",
       "    <tr>\n",
       "      <th>0</th>\n",
       "      <td>Lowyat.NET</td>\n",
       "      <td>LowyatNET</td>\n",
       "      <td>Special #OnePlus8T #Cyberpunk2077 Edition Could Launch On 4 November\\n\\nhttps://t.co/3zJuBemae4 https://t.co/CXU3wF0Kqk</td>\n",
       "      <td>2020-10-16 08:27:48</td>\n",
       "      <td>en</td>\n",
       "      <td>Kuala Lumpur, Malaysia</td>\n",
       "    </tr>\n",
       "    <tr>\n",
       "      <th>1</th>\n",
       "      <td>WeW</td>\n",
       "      <td>dab_biatch</td>\n",
       "      <td>@RishiAlwani When will you be getting the Cyberpunk 2077 review code?</td>\n",
       "      <td>2020-10-16 08:26:40</td>\n",
       "      <td>en</td>\n",
       "      <td></td>\n",
       "    </tr>\n",
       "    <tr>\n",
       "      <th>2</th>\n",
       "      <td>ً</td>\n",
       "      <td>rsemingyu</td>\n",
       "      <td>@psyrse CUS I STILL HAVE TO PLAY CYBERPUNK 2077 HHDJDJD</td>\n",
       "      <td>2020-10-16 08:26:34</td>\n",
       "      <td>en</td>\n",
       "      <td>risqué. 815. 🐱💫</td>\n",
       "    </tr>\n",
       "    <tr>\n",
       "      <th>3</th>\n",
       "      <td>草包</td>\n",
       "      <td>roidufoin</td>\n",
       "      <td>OMG WE REALLY DO GET TO PICK OUR GENDER AND PRONOUNS IN CYBERPUNK 2077 https://t.co/CrhBiTdnXQ</td>\n",
       "      <td>2020-10-16 08:25:34</td>\n",
       "      <td>en</td>\n",
       "      <td></td>\n",
       "    </tr>\n",
       "    <tr>\n",
       "      <th>4</th>\n",
       "      <td>VegaByte™ UK</td>\n",
       "      <td>VegaByte_UK</td>\n",
       "      <td>OnePlus 8T: first look at the Cyberpunk 2077 limited edition smartphone #OnePlus8T #Cyberpunk2077  https://t.co/0QXW0BX4Nk</td>\n",
       "      <td>2020-10-16 08:25:04</td>\n",
       "      <td>en</td>\n",
       "      <td>Milton Keynes, England</td>\n",
       "    </tr>\n",
       "    <tr>\n",
       "      <th>5</th>\n",
       "      <td>Futurasound</td>\n",
       "      <td>futurasound</td>\n",
       "      <td>@CyberpunkGame @Porsche What does the Porsche 911 Turbo have to do with cyberpunk? I'll wait to play the game before making up my mind, but for now Cyberpunk 2077 seems very shallow as, well, cyberpunk. I hope this is more than just a sci-fi GTA (pictured: Akira, GITS, Blade ...</td>\n",
       "      <td>2020-10-16 08:24:40</td>\n",
       "      <td>en</td>\n",
       "      <td></td>\n",
       "    </tr>\n",
       "    <tr>\n",
       "      <th>6</th>\n",
       "      <td>Teemu</td>\n",
       "      <td>heyteemu</td>\n",
       "      <td>Cyberpunk 2077 has to be the longest period of time I've waited for a game (7+ years!) So happy it releases on my birthday of all days 🤓 Not sure I've ever been this excited about a game before.</td>\n",
       "      <td>2020-10-16 08:23:43</td>\n",
       "      <td>en</td>\n",
       "      <td>Stockholm, Sweden</td>\n",
       "    </tr>\n",
       "    <tr>\n",
       "      <th>7</th>\n",
       "      <td>Jordank⁶𓅓</td>\n",
       "      <td>DEMBiscuitzz</td>\n",
       "      <td>Little over a month until Cyberpunk 2077, hype is real</td>\n",
       "      <td>2020-10-16 08:23:04</td>\n",
       "      <td>en</td>\n",
       "      <td>🇬🇧</td>\n",
       "    </tr>\n",
       "    <tr>\n",
       "      <th>8</th>\n",
       "      <td>Gameliner</td>\n",
       "      <td>gameliner</td>\n",
       "      <td>Cyberpunk 2077 toont futuristische auto's https://t.co/MiJXhS14I9</td>\n",
       "      <td>2020-10-16 08:23:03</td>\n",
       "      <td>en</td>\n",
       "      <td>Nederland</td>\n",
       "    </tr>\n",
       "    <tr>\n",
       "      <th>9</th>\n",
       "      <td>Seriously Mike</td>\n",
       "      <td>mikewest007</td>\n",
       "      <td>@PittaMan @RaisinsOriginal @Rumik @jasonschreier @Xbox @Halo CDPR delayed Cyberpunk 2077 TWICE. It was originally supposed to be out in April. The entire supposedly sensational story doesn't line up with publicly known dates, also, can you mock up a working gameplay demo with...</td>\n",
       "      <td>2020-10-16 08:21:57</td>\n",
       "      <td>en</td>\n",
       "      <td>Middle Eastern Europe</td>\n",
       "    </tr>\n",
       "  </tbody>\n",
       "</table>\n",
       "</div>"
      ],
      "text/plain": [
       "             name     user_name  \\\n",
       "0      Lowyat.NET     LowyatNET   \n",
       "1             WeW    dab_biatch   \n",
       "2               ً     rsemingyu   \n",
       "3              草包     roidufoin   \n",
       "4    VegaByte™ UK   VegaByte_UK   \n",
       "5     Futurasound   futurasound   \n",
       "6           Teemu      heyteemu   \n",
       "7       Jordank⁶𓅓  DEMBiscuitzz   \n",
       "8       Gameliner     gameliner   \n",
       "9  Seriously Mike   mikewest007   \n",
       "\n",
       "                                                                                                                                                                                                                                                                                      text  \\\n",
       "0                                                                                                                                                                  Special #OnePlus8T #Cyberpunk2077 Edition Could Launch On 4 November\\n\\nhttps://t.co/3zJuBemae4 https://t.co/CXU3wF0Kqk   \n",
       "1                                                                                                                                                                                                                    @RishiAlwani When will you be getting the Cyberpunk 2077 review code?   \n",
       "2                                                                                                                                                                                                                                  @psyrse CUS I STILL HAVE TO PLAY CYBERPUNK 2077 HHDJDJD   \n",
       "3                                                                                                                                                                                           OMG WE REALLY DO GET TO PICK OUR GENDER AND PRONOUNS IN CYBERPUNK 2077 https://t.co/CrhBiTdnXQ   \n",
       "4                                                                                                                                                               OnePlus 8T: first look at the Cyberpunk 2077 limited edition smartphone #OnePlus8T #Cyberpunk2077  https://t.co/0QXW0BX4Nk   \n",
       "5  @CyberpunkGame @Porsche What does the Porsche 911 Turbo have to do with cyberpunk? I'll wait to play the game before making up my mind, but for now Cyberpunk 2077 seems very shallow as, well, cyberpunk. I hope this is more than just a sci-fi GTA (pictured: Akira, GITS, Blade ...   \n",
       "6                                                                                       Cyberpunk 2077 has to be the longest period of time I've waited for a game (7+ years!) So happy it releases on my birthday of all days 🤓 Not sure I've ever been this excited about a game before.   \n",
       "7                                                                                                                                                                                                                                   Little over a month until Cyberpunk 2077, hype is real   \n",
       "8                                                                                                                                                                                                                        Cyberpunk 2077 toont futuristische auto's https://t.co/MiJXhS14I9   \n",
       "9  @PittaMan @RaisinsOriginal @Rumik @jasonschreier @Xbox @Halo CDPR delayed Cyberpunk 2077 TWICE. It was originally supposed to be out in April. The entire supposedly sensational story doesn't line up with publicly known dates, also, can you mock up a working gameplay demo with...   \n",
       "\n",
       "                 date language                location  \n",
       "0 2020-10-16 08:27:48       en  Kuala Lumpur, Malaysia  \n",
       "1 2020-10-16 08:26:40       en                          \n",
       "2 2020-10-16 08:26:34       en        risqué. 815. 🐱💫   \n",
       "3 2020-10-16 08:25:34       en                          \n",
       "4 2020-10-16 08:25:04       en  Milton Keynes, England  \n",
       "5 2020-10-16 08:24:40       en                          \n",
       "6 2020-10-16 08:23:43       en       Stockholm, Sweden  \n",
       "7 2020-10-16 08:23:04       en                      🇬🇧  \n",
       "8 2020-10-16 08:23:03       en               Nederland  \n",
       "9 2020-10-16 08:21:57       en   Middle Eastern Europe  "
      ]
     },
     "execution_count": 5,
     "metadata": {},
     "output_type": "execute_result"
    }
   ],
   "source": [
    "test1"
   ]
  },
  {
   "cell_type": "code",
   "execution_count": 6,
   "metadata": {},
   "outputs": [
    {
     "name": "stdout",
     "output_type": "stream",
     "text": [
      "Using Vader sentiment analysis\n"
     ]
    },
    {
     "data": {
      "text/plain": [
       "['Positive',\n",
       " 'Neutral',\n",
       " 'Positive',\n",
       " 'Neutral',\n",
       " 'Negative',\n",
       " 'Positive',\n",
       " 'Positive',\n",
       " 'Neutral',\n",
       " 'Neutral',\n",
       " 'Negative']"
      ]
     },
     "execution_count": 6,
     "metadata": {},
     "output_type": "execute_result"
    }
   ],
   "source": [
    "#grabbing just the text from tweets\n",
    "only_text =get_tweet_texts(tweets)\n",
    "\n",
    "#passing just the text from tweets to the sentiment rater function\n",
    "list_of_sentiment = sentiment_rater(only_text)\n",
    "list_of_sentiment"
   ]
  },
  {
   "cell_type": "code",
   "execution_count": 7,
   "metadata": {},
   "outputs": [],
   "source": [
    "import pandas as pd\n",
    "#making panda series from the list of sentiments \n",
    "list_of_sentiment =pd.Series(list_of_sentiment,name = 'sentiment')\n",
    "\n",
    "# adding that series to the dataframe \n",
    "df = pd.concat([test1,list_of_sentiment],axis =1)"
   ]
  },
  {
   "cell_type": "code",
   "execution_count": 8,
   "metadata": {},
   "outputs": [
    {
     "data": {
      "text/html": [
       "<div>\n",
       "<style scoped>\n",
       "    .dataframe tbody tr th:only-of-type {\n",
       "        vertical-align: middle;\n",
       "    }\n",
       "\n",
       "    .dataframe tbody tr th {\n",
       "        vertical-align: top;\n",
       "    }\n",
       "\n",
       "    .dataframe thead th {\n",
       "        text-align: right;\n",
       "    }\n",
       "</style>\n",
       "<table border=\"1\" class=\"dataframe\">\n",
       "  <thead>\n",
       "    <tr style=\"text-align: right;\">\n",
       "      <th></th>\n",
       "      <th>name</th>\n",
       "      <th>user_name</th>\n",
       "      <th>text</th>\n",
       "      <th>date</th>\n",
       "      <th>language</th>\n",
       "      <th>location</th>\n",
       "      <th>sentiment</th>\n",
       "    </tr>\n",
       "  </thead>\n",
       "  <tbody>\n",
       "    <tr>\n",
       "      <th>0</th>\n",
       "      <td>Lowyat.NET</td>\n",
       "      <td>LowyatNET</td>\n",
       "      <td>Special #OnePlus8T #Cyberpunk2077 Edition Could Launch On 4 November\\n\\nhttps://t.co/3zJuBemae4 https://t.co/CXU3wF0Kqk</td>\n",
       "      <td>2020-10-16 08:27:48</td>\n",
       "      <td>en</td>\n",
       "      <td>Kuala Lumpur, Malaysia</td>\n",
       "      <td>Positive</td>\n",
       "    </tr>\n",
       "    <tr>\n",
       "      <th>1</th>\n",
       "      <td>WeW</td>\n",
       "      <td>dab_biatch</td>\n",
       "      <td>@RishiAlwani When will you be getting the Cyberpunk 2077 review code?</td>\n",
       "      <td>2020-10-16 08:26:40</td>\n",
       "      <td>en</td>\n",
       "      <td></td>\n",
       "      <td>Neutral</td>\n",
       "    </tr>\n",
       "    <tr>\n",
       "      <th>2</th>\n",
       "      <td>ً</td>\n",
       "      <td>rsemingyu</td>\n",
       "      <td>@psyrse CUS I STILL HAVE TO PLAY CYBERPUNK 2077 HHDJDJD</td>\n",
       "      <td>2020-10-16 08:26:34</td>\n",
       "      <td>en</td>\n",
       "      <td>risqué. 815. 🐱💫</td>\n",
       "      <td>Positive</td>\n",
       "    </tr>\n",
       "    <tr>\n",
       "      <th>3</th>\n",
       "      <td>草包</td>\n",
       "      <td>roidufoin</td>\n",
       "      <td>OMG WE REALLY DO GET TO PICK OUR GENDER AND PRONOUNS IN CYBERPUNK 2077 https://t.co/CrhBiTdnXQ</td>\n",
       "      <td>2020-10-16 08:25:34</td>\n",
       "      <td>en</td>\n",
       "      <td></td>\n",
       "      <td>Neutral</td>\n",
       "    </tr>\n",
       "    <tr>\n",
       "      <th>4</th>\n",
       "      <td>VegaByte™ UK</td>\n",
       "      <td>VegaByte_UK</td>\n",
       "      <td>OnePlus 8T: first look at the Cyberpunk 2077 limited edition smartphone #OnePlus8T #Cyberpunk2077  https://t.co/0QXW0BX4Nk</td>\n",
       "      <td>2020-10-16 08:25:04</td>\n",
       "      <td>en</td>\n",
       "      <td>Milton Keynes, England</td>\n",
       "      <td>Negative</td>\n",
       "    </tr>\n",
       "    <tr>\n",
       "      <th>5</th>\n",
       "      <td>Futurasound</td>\n",
       "      <td>futurasound</td>\n",
       "      <td>@CyberpunkGame @Porsche What does the Porsche 911 Turbo have to do with cyberpunk? I'll wait to play the game before making up my mind, but for now Cyberpunk 2077 seems very shallow as, well, cyberpunk. I hope this is more than just a sci-fi GTA (pictured: Akira, GITS, Blade ...</td>\n",
       "      <td>2020-10-16 08:24:40</td>\n",
       "      <td>en</td>\n",
       "      <td></td>\n",
       "      <td>Positive</td>\n",
       "    </tr>\n",
       "    <tr>\n",
       "      <th>6</th>\n",
       "      <td>Teemu</td>\n",
       "      <td>heyteemu</td>\n",
       "      <td>Cyberpunk 2077 has to be the longest period of time I've waited for a game (7+ years!) So happy it releases on my birthday of all days 🤓 Not sure I've ever been this excited about a game before.</td>\n",
       "      <td>2020-10-16 08:23:43</td>\n",
       "      <td>en</td>\n",
       "      <td>Stockholm, Sweden</td>\n",
       "      <td>Positive</td>\n",
       "    </tr>\n",
       "    <tr>\n",
       "      <th>7</th>\n",
       "      <td>Jordank⁶𓅓</td>\n",
       "      <td>DEMBiscuitzz</td>\n",
       "      <td>Little over a month until Cyberpunk 2077, hype is real</td>\n",
       "      <td>2020-10-16 08:23:04</td>\n",
       "      <td>en</td>\n",
       "      <td>🇬🇧</td>\n",
       "      <td>Neutral</td>\n",
       "    </tr>\n",
       "    <tr>\n",
       "      <th>8</th>\n",
       "      <td>Gameliner</td>\n",
       "      <td>gameliner</td>\n",
       "      <td>Cyberpunk 2077 toont futuristische auto's https://t.co/MiJXhS14I9</td>\n",
       "      <td>2020-10-16 08:23:03</td>\n",
       "      <td>en</td>\n",
       "      <td>Nederland</td>\n",
       "      <td>Neutral</td>\n",
       "    </tr>\n",
       "    <tr>\n",
       "      <th>9</th>\n",
       "      <td>Seriously Mike</td>\n",
       "      <td>mikewest007</td>\n",
       "      <td>@PittaMan @RaisinsOriginal @Rumik @jasonschreier @Xbox @Halo CDPR delayed Cyberpunk 2077 TWICE. It was originally supposed to be out in April. The entire supposedly sensational story doesn't line up with publicly known dates, also, can you mock up a working gameplay demo with...</td>\n",
       "      <td>2020-10-16 08:21:57</td>\n",
       "      <td>en</td>\n",
       "      <td>Middle Eastern Europe</td>\n",
       "      <td>Negative</td>\n",
       "    </tr>\n",
       "  </tbody>\n",
       "</table>\n",
       "</div>"
      ],
      "text/plain": [
       "             name     user_name  \\\n",
       "0      Lowyat.NET     LowyatNET   \n",
       "1             WeW    dab_biatch   \n",
       "2               ً     rsemingyu   \n",
       "3              草包     roidufoin   \n",
       "4    VegaByte™ UK   VegaByte_UK   \n",
       "5     Futurasound   futurasound   \n",
       "6           Teemu      heyteemu   \n",
       "7       Jordank⁶𓅓  DEMBiscuitzz   \n",
       "8       Gameliner     gameliner   \n",
       "9  Seriously Mike   mikewest007   \n",
       "\n",
       "                                                                                                                                                                                                                                                                                      text  \\\n",
       "0                                                                                                                                                                  Special #OnePlus8T #Cyberpunk2077 Edition Could Launch On 4 November\\n\\nhttps://t.co/3zJuBemae4 https://t.co/CXU3wF0Kqk   \n",
       "1                                                                                                                                                                                                                    @RishiAlwani When will you be getting the Cyberpunk 2077 review code?   \n",
       "2                                                                                                                                                                                                                                  @psyrse CUS I STILL HAVE TO PLAY CYBERPUNK 2077 HHDJDJD   \n",
       "3                                                                                                                                                                                           OMG WE REALLY DO GET TO PICK OUR GENDER AND PRONOUNS IN CYBERPUNK 2077 https://t.co/CrhBiTdnXQ   \n",
       "4                                                                                                                                                               OnePlus 8T: first look at the Cyberpunk 2077 limited edition smartphone #OnePlus8T #Cyberpunk2077  https://t.co/0QXW0BX4Nk   \n",
       "5  @CyberpunkGame @Porsche What does the Porsche 911 Turbo have to do with cyberpunk? I'll wait to play the game before making up my mind, but for now Cyberpunk 2077 seems very shallow as, well, cyberpunk. I hope this is more than just a sci-fi GTA (pictured: Akira, GITS, Blade ...   \n",
       "6                                                                                       Cyberpunk 2077 has to be the longest period of time I've waited for a game (7+ years!) So happy it releases on my birthday of all days 🤓 Not sure I've ever been this excited about a game before.   \n",
       "7                                                                                                                                                                                                                                   Little over a month until Cyberpunk 2077, hype is real   \n",
       "8                                                                                                                                                                                                                        Cyberpunk 2077 toont futuristische auto's https://t.co/MiJXhS14I9   \n",
       "9  @PittaMan @RaisinsOriginal @Rumik @jasonschreier @Xbox @Halo CDPR delayed Cyberpunk 2077 TWICE. It was originally supposed to be out in April. The entire supposedly sensational story doesn't line up with publicly known dates, also, can you mock up a working gameplay demo with...   \n",
       "\n",
       "                 date language                location sentiment  \n",
       "0 2020-10-16 08:27:48       en  Kuala Lumpur, Malaysia  Positive  \n",
       "1 2020-10-16 08:26:40       en                           Neutral  \n",
       "2 2020-10-16 08:26:34       en        risqué. 815. 🐱💫   Positive  \n",
       "3 2020-10-16 08:25:34       en                           Neutral  \n",
       "4 2020-10-16 08:25:04       en  Milton Keynes, England  Negative  \n",
       "5 2020-10-16 08:24:40       en                          Positive  \n",
       "6 2020-10-16 08:23:43       en       Stockholm, Sweden  Positive  \n",
       "7 2020-10-16 08:23:04       en                      🇬🇧   Neutral  \n",
       "8 2020-10-16 08:23:03       en               Nederland   Neutral  \n",
       "9 2020-10-16 08:21:57       en   Middle Eastern Europe  Negative  "
      ]
     },
     "execution_count": 8,
     "metadata": {},
     "output_type": "execute_result"
    }
   ],
   "source": [
    "df"
   ]
  },
  {
   "cell_type": "code",
   "execution_count": 9,
   "metadata": {},
   "outputs": [
    {
     "data": {
      "image/png": "[encoded data removed]",
      "text/plain": [
       "<Figure size 432x288 with 1 Axes>"
      ]
     },
     "metadata": {
      "needs_background": "light"
     },
     "output_type": "display_data"
    }
   ],
   "source": [
    "#grabbing the value count for sentiment column in a dataframe and making a bar plot \n",
    "\n",
    "sent_count = df[\"sentiment\"].value_counts().plot.barh()"
   ]
  },
  {
   "cell_type": "code",
   "execution_count": 10,
   "metadata": {},
   "outputs": [
    {
     "data": {
      "text/plain": [
       "\"Cyberpunk 2077 toont futuristische auto's https://t.co/MiJXhS14I9\""
      ]
     },
     "execution_count": 10,
     "metadata": {},
     "output_type": "execute_result"
    }
   ],
   "source": [
    "df.iloc[8]['text']"
   ]
  },
  {
   "cell_type": "code",
   "execution_count": 11,
   "metadata": {},
   "outputs": [
    {
     "name": "stdout",
     "output_type": "stream",
     "text": [
      "Using Naive Bayes Analyser with TextBlob\n"
     ]
    },
    {
     "data": {
      "text/plain": [
       "['Positive', 'Negative', 'Positive']"
      ]
     },
     "execution_count": 11,
     "metadata": {},
     "output_type": "execute_result"
    }
   ],
   "source": [
    "sentiment_rater(['happy','sad','The hype around Cyberpunk 2077 is absolutely insane'],'n')"
   ]
  },
  {
   "cell_type": "code",
   "execution_count": null,
   "metadata": {},
   "outputs": [],
   "source": []
  }
 ],
 "metadata": {
  "kernelspec": {
   "display_name": "Python 3",
   "language": "python",
   "name": "python3"
  },
  "language_info": {
   "codemirror_mode": {
    "name": "ipython",
    "version": 3
   },
   "file_extension": ".py",
   "mimetype": "text/x-python",
   "name": "python",
   "nbconvert_exporter": "python",
   "pygments_lexer": "ipython3",
   "version": "3.7.9"
  }
 },
 "nbformat": 4,
 "nbformat_minor": 4
}
